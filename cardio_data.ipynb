{
 "cells": [
  {
   "cell_type": "markdown",
   "id": "5c8e45d0-e912-4942-a070-83bf7e6788ce",
   "metadata": {},
   "source": [
    "#### 简介：该数据集包含心血管疾病数据，由70000条患者数据和多个相关特征组成，可以被用于探索不同特征对心血管疾病的影响。\n",
    "#### 变量含义：\n",
    "- id：身份证号码\n",
    "- age：年龄，以天为单位\n",
    "- gender：性别，1-女性，2-男性\n",
    "- height：身高，厘米\n",
    "- weight：体重，公斤\n",
    "- ap_hi：收缩压\n",
    "- ap_lo：舒张压\n",
    "- cholesterol：胆固醇，1:正常，2:高于正常，3:远高于正常\n",
    "- gluc：胶质，1:正常，2:高于正常，3:远高于正常\n",
    "- smoke：病人是否吸烟\n",
    "- alco：病人是否喝酒\n",
    "- active：是否身体运动\n",
    "- cardio：是否存在心血管疾病"
   ]
  },
  {
   "cell_type": "markdown",
   "id": "cb1d8b23-22a6-4f0a-ba29-2e6157582548",
   "metadata": {},
   "source": [
    "### 读取数据"
   ]
  },
  {
   "cell_type": "code",
   "execution_count": 1,
   "id": "911ce98b-033d-480e-b942-c2f3b57639d9",
   "metadata": {},
   "outputs": [],
   "source": [
    "import pandas as pd\n",
    "import numpy as np"
   ]
  },
  {
   "cell_type": "code",
   "execution_count": 2,
   "id": "62d7b164-5327-46fa-a01e-b67f2653bba5",
   "metadata": {},
   "outputs": [
    {
     "data": {
      "text/html": [
       "<div>\n",
       "<style scoped>\n",
       "    .dataframe tbody tr th:only-of-type {\n",
       "        vertical-align: middle;\n",
       "    }\n",
       "\n",
       "    .dataframe tbody tr th {\n",
       "        vertical-align: top;\n",
       "    }\n",
       "\n",
       "    .dataframe thead th {\n",
       "        text-align: right;\n",
       "    }\n",
       "</style>\n",
       "<table border=\"1\" class=\"dataframe\">\n",
       "  <thead>\n",
       "    <tr style=\"text-align: right;\">\n",
       "      <th></th>\n",
       "      <th>id;age;gender;height;weight;ap_hi;ap_lo;cholesterol;gluc;smoke;alco;active;cardio</th>\n",
       "    </tr>\n",
       "  </thead>\n",
       "  <tbody>\n",
       "    <tr>\n",
       "      <th>0</th>\n",
       "      <td>0;18393;2;168;62.0;110;80;1;1;0;0;1;0</td>\n",
       "    </tr>\n",
       "    <tr>\n",
       "      <th>1</th>\n",
       "      <td>1;20228;1;156;85.0;140;90;3;1;0;0;1;1</td>\n",
       "    </tr>\n",
       "    <tr>\n",
       "      <th>2</th>\n",
       "      <td>2;18857;1;165;64.0;130;70;3;1;0;0;0;1</td>\n",
       "    </tr>\n",
       "    <tr>\n",
       "      <th>3</th>\n",
       "      <td>3;17623;2;169;82.0;150;100;1;1;0;0;1;1</td>\n",
       "    </tr>\n",
       "    <tr>\n",
       "      <th>4</th>\n",
       "      <td>4;17474;1;156;56.0;100;60;1;1;0;0;0;0</td>\n",
       "    </tr>\n",
       "  </tbody>\n",
       "</table>\n",
       "</div>"
      ],
      "text/plain": [
       "  id;age;gender;height;weight;ap_hi;ap_lo;cholesterol;gluc;smoke;alco;active;cardio\n",
       "0              0;18393;2;168;62.0;110;80;1;1;0;0;1;0                               \n",
       "1              1;20228;1;156;85.0;140;90;3;1;0;0;1;1                               \n",
       "2              2;18857;1;165;64.0;130;70;3;1;0;0;0;1                               \n",
       "3             3;17623;2;169;82.0;150;100;1;1;0;0;1;1                               \n",
       "4              4;17474;1;156;56.0;100;60;1;1;0;0;0;0                               "
      ]
     },
     "execution_count": 2,
     "metadata": {},
     "output_type": "execute_result"
    }
   ],
   "source": [
    "cardio_original = pd.read_csv('cardio.csv')\n",
    "cardio_original.head(5)"
   ]
  },
  {
   "cell_type": "markdown",
   "id": "28172f5b-707f-4290-84ac-98171e430601",
   "metadata": {},
   "source": [
    "### 评估与清洗数据"
   ]
  },
  {
   "cell_type": "code",
   "execution_count": 3,
   "id": "c638a861-4282-4ad4-8edf-35b9c71f88d9",
   "metadata": {},
   "outputs": [
    {
     "data": {
      "text/html": [
       "<div>\n",
       "<style scoped>\n",
       "    .dataframe tbody tr th:only-of-type {\n",
       "        vertical-align: middle;\n",
       "    }\n",
       "\n",
       "    .dataframe tbody tr th {\n",
       "        vertical-align: top;\n",
       "    }\n",
       "\n",
       "    .dataframe thead th {\n",
       "        text-align: right;\n",
       "    }\n",
       "</style>\n",
       "<table border=\"1\" class=\"dataframe\">\n",
       "  <thead>\n",
       "    <tr style=\"text-align: right;\">\n",
       "      <th></th>\n",
       "      <th>id;age;gender;height;weight;ap_hi;ap_lo;cholesterol;gluc;smoke;alco;active;cardio</th>\n",
       "    </tr>\n",
       "  </thead>\n",
       "  <tbody>\n",
       "    <tr>\n",
       "      <th>11780</th>\n",
       "      <td>16825;21315;1;168;65.0;110;70;1;1;0;0;1;0</td>\n",
       "    </tr>\n",
       "    <tr>\n",
       "      <th>40239</th>\n",
       "      <td>57514;20617;1;166;50.0;120;80;1;1;0;0;0;0</td>\n",
       "    </tr>\n",
       "    <tr>\n",
       "      <th>6486</th>\n",
       "      <td>9223;21220;1;250;86.0;140;100;3;1;0;0;1;1</td>\n",
       "    </tr>\n",
       "    <tr>\n",
       "      <th>38174</th>\n",
       "      <td>54487;18194;2;175;78.0;150;90;1;1;1;0;1;1</td>\n",
       "    </tr>\n",
       "    <tr>\n",
       "      <th>25620</th>\n",
       "      <td>36558;18100;1;160;66.0;110;70;2;1;0;0;1;0</td>\n",
       "    </tr>\n",
       "  </tbody>\n",
       "</table>\n",
       "</div>"
      ],
      "text/plain": [
       "      id;age;gender;height;weight;ap_hi;ap_lo;cholesterol;gluc;smoke;alco;active;cardio\n",
       "11780          16825;21315;1;168;65.0;110;70;1;1;0;0;1;0                               \n",
       "40239          57514;20617;1;166;50.0;120;80;1;1;0;0;0;0                               \n",
       "6486           9223;21220;1;250;86.0;140;100;3;1;0;0;1;1                               \n",
       "38174          54487;18194;2;175;78.0;150;90;1;1;1;0;1;1                               \n",
       "25620          36558;18100;1;160;66.0;110;70;2;1;0;0;1;0                               "
      ]
     },
     "execution_count": 3,
     "metadata": {},
     "output_type": "execute_result"
    }
   ],
   "source": [
    "cleaned_data = cardio_original.copy()\n",
    "cleaned_data.sample(5)"
   ]
  },
  {
   "cell_type": "markdown",
   "id": "eabe6da3-e0d2-4a11-9d60-f5798ecbfd1b",
   "metadata": {},
   "source": [
    "#### 评估数据整齐程度：数据不符合一列是一个变量，一个单元格是一个观察值的原则。需进行拆分。"
   ]
  },
  {
   "cell_type": "code",
   "execution_count": 4,
   "id": "d240ae6b-2f4e-4897-abcb-f5b7b84e687c",
   "metadata": {},
   "outputs": [],
   "source": [
    "cleaned_data = cleaned_data['id;age;gender;height;weight;ap_hi;ap_lo;cholesterol;gluc;smoke;alco;active;cardio'].str.split(';',expand=True)"
   ]
  },
  {
   "cell_type": "code",
   "execution_count": 5,
   "id": "18103ecc-da6b-4012-9f26-557a396b7504",
   "metadata": {},
   "outputs": [],
   "source": [
    "column_names = ['id','age', 'gender', 'height', 'weight', 'ap_hi', 'ap_lo', 'cholesterol', 'gluc', 'smoke', 'alco', 'active', 'cardio']\n",
    "cleaned_data.columns = column_names"
   ]
  },
  {
   "cell_type": "code",
   "execution_count": 6,
   "id": "8e4a43d9-be33-476d-95f9-383b779f5c74",
   "metadata": {},
   "outputs": [
    {
     "data": {
      "text/html": [
       "<div>\n",
       "<style scoped>\n",
       "    .dataframe tbody tr th:only-of-type {\n",
       "        vertical-align: middle;\n",
       "    }\n",
       "\n",
       "    .dataframe tbody tr th {\n",
       "        vertical-align: top;\n",
       "    }\n",
       "\n",
       "    .dataframe thead th {\n",
       "        text-align: right;\n",
       "    }\n",
       "</style>\n",
       "<table border=\"1\" class=\"dataframe\">\n",
       "  <thead>\n",
       "    <tr style=\"text-align: right;\">\n",
       "      <th></th>\n",
       "      <th>id</th>\n",
       "      <th>age</th>\n",
       "      <th>gender</th>\n",
       "      <th>height</th>\n",
       "      <th>weight</th>\n",
       "      <th>ap_hi</th>\n",
       "      <th>ap_lo</th>\n",
       "      <th>cholesterol</th>\n",
       "      <th>gluc</th>\n",
       "      <th>smoke</th>\n",
       "      <th>alco</th>\n",
       "      <th>active</th>\n",
       "      <th>cardio</th>\n",
       "    </tr>\n",
       "  </thead>\n",
       "  <tbody>\n",
       "    <tr>\n",
       "      <th>0</th>\n",
       "      <td>0</td>\n",
       "      <td>18393</td>\n",
       "      <td>2</td>\n",
       "      <td>168</td>\n",
       "      <td>62.0</td>\n",
       "      <td>110</td>\n",
       "      <td>80</td>\n",
       "      <td>1</td>\n",
       "      <td>1</td>\n",
       "      <td>0</td>\n",
       "      <td>0</td>\n",
       "      <td>1</td>\n",
       "      <td>0</td>\n",
       "    </tr>\n",
       "    <tr>\n",
       "      <th>1</th>\n",
       "      <td>1</td>\n",
       "      <td>20228</td>\n",
       "      <td>1</td>\n",
       "      <td>156</td>\n",
       "      <td>85.0</td>\n",
       "      <td>140</td>\n",
       "      <td>90</td>\n",
       "      <td>3</td>\n",
       "      <td>1</td>\n",
       "      <td>0</td>\n",
       "      <td>0</td>\n",
       "      <td>1</td>\n",
       "      <td>1</td>\n",
       "    </tr>\n",
       "    <tr>\n",
       "      <th>2</th>\n",
       "      <td>2</td>\n",
       "      <td>18857</td>\n",
       "      <td>1</td>\n",
       "      <td>165</td>\n",
       "      <td>64.0</td>\n",
       "      <td>130</td>\n",
       "      <td>70</td>\n",
       "      <td>3</td>\n",
       "      <td>1</td>\n",
       "      <td>0</td>\n",
       "      <td>0</td>\n",
       "      <td>0</td>\n",
       "      <td>1</td>\n",
       "    </tr>\n",
       "    <tr>\n",
       "      <th>3</th>\n",
       "      <td>3</td>\n",
       "      <td>17623</td>\n",
       "      <td>2</td>\n",
       "      <td>169</td>\n",
       "      <td>82.0</td>\n",
       "      <td>150</td>\n",
       "      <td>100</td>\n",
       "      <td>1</td>\n",
       "      <td>1</td>\n",
       "      <td>0</td>\n",
       "      <td>0</td>\n",
       "      <td>1</td>\n",
       "      <td>1</td>\n",
       "    </tr>\n",
       "    <tr>\n",
       "      <th>4</th>\n",
       "      <td>4</td>\n",
       "      <td>17474</td>\n",
       "      <td>1</td>\n",
       "      <td>156</td>\n",
       "      <td>56.0</td>\n",
       "      <td>100</td>\n",
       "      <td>60</td>\n",
       "      <td>1</td>\n",
       "      <td>1</td>\n",
       "      <td>0</td>\n",
       "      <td>0</td>\n",
       "      <td>0</td>\n",
       "      <td>0</td>\n",
       "    </tr>\n",
       "  </tbody>\n",
       "</table>\n",
       "</div>"
      ],
      "text/plain": [
       "  id    age gender height weight ap_hi ap_lo cholesterol gluc smoke alco  \\\n",
       "0  0  18393      2    168   62.0   110    80           1    1     0    0   \n",
       "1  1  20228      1    156   85.0   140    90           3    1     0    0   \n",
       "2  2  18857      1    165   64.0   130    70           3    1     0    0   \n",
       "3  3  17623      2    169   82.0   150   100           1    1     0    0   \n",
       "4  4  17474      1    156   56.0   100    60           1    1     0    0   \n",
       "\n",
       "  active cardio  \n",
       "0      1      0  \n",
       "1      1      1  \n",
       "2      0      1  \n",
       "3      1      1  \n",
       "4      0      0  "
      ]
     },
     "execution_count": 6,
     "metadata": {},
     "output_type": "execute_result"
    }
   ],
   "source": [
    "cleaned_data.head()"
   ]
  },
  {
   "cell_type": "markdown",
   "id": "8f4bc7b9-3947-49d6-8ede-113f79664e25",
   "metadata": {},
   "source": [
    "### 评估缺失数据和数据类型"
   ]
  },
  {
   "cell_type": "code",
   "execution_count": 7,
   "id": "a59eef4e-f2a2-490c-8e24-a281e473ea37",
   "metadata": {},
   "outputs": [
    {
     "name": "stdout",
     "output_type": "stream",
     "text": [
      "<class 'pandas.core.frame.DataFrame'>\n",
      "RangeIndex: 70000 entries, 0 to 69999\n",
      "Data columns (total 13 columns):\n",
      " #   Column       Non-Null Count  Dtype \n",
      "---  ------       --------------  ----- \n",
      " 0   id           70000 non-null  object\n",
      " 1   age          70000 non-null  object\n",
      " 2   gender       70000 non-null  object\n",
      " 3   height       70000 non-null  object\n",
      " 4   weight       70000 non-null  object\n",
      " 5   ap_hi        70000 non-null  object\n",
      " 6   ap_lo        70000 non-null  object\n",
      " 7   cholesterol  70000 non-null  object\n",
      " 8   gluc         70000 non-null  object\n",
      " 9   smoke        70000 non-null  object\n",
      " 10  alco         70000 non-null  object\n",
      " 11  active       70000 non-null  object\n",
      " 12  cardio       70000 non-null  object\n",
      "dtypes: object(13)\n",
      "memory usage: 6.9+ MB\n"
     ]
    }
   ],
   "source": [
    "cleaned_data.info()"
   ]
  },
  {
   "cell_type": "code",
   "execution_count": 8,
   "id": "1f764650-1616-408f-834a-0b06833d28e5",
   "metadata": {},
   "outputs": [],
   "source": [
    "## 不存在缺失数据。age，height，weight，ap_hi，ap_lo的数据类型错误，需要逐一修改。\n",
    "cleaned_data['age'] = cleaned_data['age'].astype('int')\n",
    "cleaned_data['height'] = cleaned_data['height'].astype('int')\n",
    "cleaned_data['weight'] = cleaned_data['weight'].astype('float')\n",
    "cleaned_data['ap_hi'] = cleaned_data['ap_hi'].astype('int')\n",
    "cleaned_data['ap_lo'] = cleaned_data['ap_lo'].astype('int')"
   ]
  },
  {
   "cell_type": "code",
   "execution_count": 9,
   "id": "eab43b19-4811-4430-8d49-43d495547833",
   "metadata": {},
   "outputs": [
    {
     "name": "stdout",
     "output_type": "stream",
     "text": [
      "<class 'pandas.core.frame.DataFrame'>\n",
      "RangeIndex: 70000 entries, 0 to 69999\n",
      "Data columns (total 13 columns):\n",
      " #   Column       Non-Null Count  Dtype   \n",
      "---  ------       --------------  -----   \n",
      " 0   id           70000 non-null  object  \n",
      " 1   age          70000 non-null  int64   \n",
      " 2   gender       70000 non-null  category\n",
      " 3   height       70000 non-null  int64   \n",
      " 4   weight       70000 non-null  float64 \n",
      " 5   ap_hi        70000 non-null  int64   \n",
      " 6   ap_lo        70000 non-null  int64   \n",
      " 7   cholesterol  70000 non-null  category\n",
      " 8   gluc         70000 non-null  category\n",
      " 9   smoke        70000 non-null  category\n",
      " 10  alco         70000 non-null  category\n",
      " 11  active       70000 non-null  category\n",
      " 12  cardio       70000 non-null  category\n",
      "dtypes: category(7), float64(1), int64(4), object(1)\n",
      "memory usage: 3.7+ MB\n"
     ]
    }
   ],
   "source": [
    "## 分类数据的数据类型应该改成catogory。\n",
    "cleaned_data['cholesterol'] = cleaned_data['cholesterol'].astype('category')\n",
    "cleaned_data['gender'] = cleaned_data['gender'].astype('category')\n",
    "cleaned_data['gluc'] = cleaned_data['gluc'].astype('category')\n",
    "cleaned_data['smoke'] = cleaned_data['smoke'].astype('category')\n",
    "cleaned_data['alco'] = cleaned_data['alco'].astype('category')\n",
    "cleaned_data['active'] = cleaned_data['active'].astype('category')\n",
    "cleaned_data['cardio'] = cleaned_data['cardio'].astype('category')\n",
    "cleaned_data.info()"
   ]
  },
  {
   "cell_type": "markdown",
   "id": "e35f48fc-1ad5-4a4e-a333-6b46ce89093a",
   "metadata": {},
   "source": [
    "### 评估重复数据"
   ]
  },
  {
   "cell_type": "code",
   "execution_count": 10,
   "id": "2e13ff0a-6188-440b-8b5e-4fe853345631",
   "metadata": {},
   "outputs": [
    {
     "data": {
      "text/html": [
       "<div>\n",
       "<style scoped>\n",
       "    .dataframe tbody tr th:only-of-type {\n",
       "        vertical-align: middle;\n",
       "    }\n",
       "\n",
       "    .dataframe tbody tr th {\n",
       "        vertical-align: top;\n",
       "    }\n",
       "\n",
       "    .dataframe thead th {\n",
       "        text-align: right;\n",
       "    }\n",
       "</style>\n",
       "<table border=\"1\" class=\"dataframe\">\n",
       "  <thead>\n",
       "    <tr style=\"text-align: right;\">\n",
       "      <th></th>\n",
       "      <th>id</th>\n",
       "      <th>age</th>\n",
       "      <th>gender</th>\n",
       "      <th>height</th>\n",
       "      <th>weight</th>\n",
       "      <th>ap_hi</th>\n",
       "      <th>ap_lo</th>\n",
       "      <th>cholesterol</th>\n",
       "      <th>gluc</th>\n",
       "      <th>smoke</th>\n",
       "      <th>alco</th>\n",
       "      <th>active</th>\n",
       "      <th>cardio</th>\n",
       "    </tr>\n",
       "  </thead>\n",
       "  <tbody>\n",
       "  </tbody>\n",
       "</table>\n",
       "</div>"
      ],
      "text/plain": [
       "Empty DataFrame\n",
       "Columns: [id, age, gender, height, weight, ap_hi, ap_lo, cholesterol, gluc, smoke, alco, active, cardio]\n",
       "Index: []"
      ]
     },
     "execution_count": 10,
     "metadata": {},
     "output_type": "execute_result"
    }
   ],
   "source": [
    "cleaned_data[cleaned_data.duplicated()]"
   ]
  },
  {
   "cell_type": "markdown",
   "id": "e573bada-3252-4513-9285-28984c2b9792",
   "metadata": {},
   "source": [
    "### 评估不一致数据"
   ]
  },
  {
   "cell_type": "code",
   "execution_count": 11,
   "id": "abe7acd0-6087-4cdf-9df9-6ae32caeae52",
   "metadata": {},
   "outputs": [
    {
     "data": {
      "text/plain": [
       "gender\n",
       "1    45530\n",
       "2    24470\n",
       "Name: count, dtype: int64"
      ]
     },
     "execution_count": 11,
     "metadata": {},
     "output_type": "execute_result"
    }
   ],
   "source": [
    "cleaned_data['gender'].value_counts()"
   ]
  },
  {
   "cell_type": "code",
   "execution_count": 12,
   "id": "09676dd1-55ad-4bb5-b3fa-e52b881bdf1b",
   "metadata": {},
   "outputs": [
    {
     "data": {
      "text/plain": [
       "cholesterol\n",
       "1    52385\n",
       "2     9549\n",
       "3     8066\n",
       "Name: count, dtype: int64"
      ]
     },
     "execution_count": 12,
     "metadata": {},
     "output_type": "execute_result"
    }
   ],
   "source": [
    "cleaned_data['cholesterol'].value_counts()"
   ]
  },
  {
   "cell_type": "code",
   "execution_count": 13,
   "id": "0d2dda1f-320f-49c0-bcca-1b7e75d28c1f",
   "metadata": {},
   "outputs": [
    {
     "data": {
      "text/plain": [
       "gluc\n",
       "1    59479\n",
       "3     5331\n",
       "2     5190\n",
       "Name: count, dtype: int64"
      ]
     },
     "execution_count": 13,
     "metadata": {},
     "output_type": "execute_result"
    }
   ],
   "source": [
    "cleaned_data['gluc'].value_counts()"
   ]
  },
  {
   "cell_type": "code",
   "execution_count": 14,
   "id": "79a0368d-7304-4be0-b7c3-66291fab3520",
   "metadata": {},
   "outputs": [
    {
     "data": {
      "text/plain": [
       "smoke\n",
       "0    63831\n",
       "1     6169\n",
       "Name: count, dtype: int64"
      ]
     },
     "execution_count": 14,
     "metadata": {},
     "output_type": "execute_result"
    }
   ],
   "source": [
    "cleaned_data['smoke'].value_counts()"
   ]
  },
  {
   "cell_type": "code",
   "execution_count": 15,
   "id": "681e3deb-ebc0-46e7-925b-319b781a2992",
   "metadata": {},
   "outputs": [
    {
     "data": {
      "text/plain": [
       "alco\n",
       "0    66236\n",
       "1     3764\n",
       "Name: count, dtype: int64"
      ]
     },
     "execution_count": 15,
     "metadata": {},
     "output_type": "execute_result"
    }
   ],
   "source": [
    "cleaned_data['alco'].value_counts()"
   ]
  },
  {
   "cell_type": "code",
   "execution_count": 16,
   "id": "0335640f-f5ff-4877-94e0-e1c8f8590e60",
   "metadata": {},
   "outputs": [
    {
     "data": {
      "text/plain": [
       "active\n",
       "1    56261\n",
       "0    13739\n",
       "Name: count, dtype: int64"
      ]
     },
     "execution_count": 16,
     "metadata": {},
     "output_type": "execute_result"
    }
   ],
   "source": [
    "cleaned_data['active'].value_counts()"
   ]
  },
  {
   "cell_type": "code",
   "execution_count": 17,
   "id": "0e101943-120e-479c-b792-ecc68f47c81a",
   "metadata": {},
   "outputs": [
    {
     "data": {
      "text/plain": [
       "cardio\n",
       "0    35021\n",
       "1    34979\n",
       "Name: count, dtype: int64"
      ]
     },
     "execution_count": 17,
     "metadata": {},
     "output_type": "execute_result"
    }
   ],
   "source": [
    "cleaned_data['cardio'].value_counts()"
   ]
  },
  {
   "cell_type": "markdown",
   "id": "6fc08d41-39d7-48ec-b468-d6f3d22536cb",
   "metadata": {},
   "source": [
    "### 评估错误或无效数据"
   ]
  },
  {
   "cell_type": "code",
   "execution_count": 18,
   "id": "e5e4fed0-791b-4b3d-96f8-ac87f56eb89a",
   "metadata": {},
   "outputs": [
    {
     "data": {
      "text/html": [
       "<div>\n",
       "<style scoped>\n",
       "    .dataframe tbody tr th:only-of-type {\n",
       "        vertical-align: middle;\n",
       "    }\n",
       "\n",
       "    .dataframe tbody tr th {\n",
       "        vertical-align: top;\n",
       "    }\n",
       "\n",
       "    .dataframe thead th {\n",
       "        text-align: right;\n",
       "    }\n",
       "</style>\n",
       "<table border=\"1\" class=\"dataframe\">\n",
       "  <thead>\n",
       "    <tr style=\"text-align: right;\">\n",
       "      <th></th>\n",
       "      <th>age</th>\n",
       "      <th>height</th>\n",
       "      <th>weight</th>\n",
       "      <th>ap_hi</th>\n",
       "      <th>ap_lo</th>\n",
       "    </tr>\n",
       "  </thead>\n",
       "  <tbody>\n",
       "    <tr>\n",
       "      <th>count</th>\n",
       "      <td>70000.000000</td>\n",
       "      <td>70000.000000</td>\n",
       "      <td>70000.000000</td>\n",
       "      <td>70000.000000</td>\n",
       "      <td>70000.000000</td>\n",
       "    </tr>\n",
       "    <tr>\n",
       "      <th>mean</th>\n",
       "      <td>19468.865814</td>\n",
       "      <td>164.359229</td>\n",
       "      <td>74.205690</td>\n",
       "      <td>128.817286</td>\n",
       "      <td>96.630414</td>\n",
       "    </tr>\n",
       "    <tr>\n",
       "      <th>std</th>\n",
       "      <td>2467.251667</td>\n",
       "      <td>8.210126</td>\n",
       "      <td>14.395757</td>\n",
       "      <td>154.011419</td>\n",
       "      <td>188.472530</td>\n",
       "    </tr>\n",
       "    <tr>\n",
       "      <th>min</th>\n",
       "      <td>10798.000000</td>\n",
       "      <td>55.000000</td>\n",
       "      <td>10.000000</td>\n",
       "      <td>-150.000000</td>\n",
       "      <td>-70.000000</td>\n",
       "    </tr>\n",
       "    <tr>\n",
       "      <th>25%</th>\n",
       "      <td>17664.000000</td>\n",
       "      <td>159.000000</td>\n",
       "      <td>65.000000</td>\n",
       "      <td>120.000000</td>\n",
       "      <td>80.000000</td>\n",
       "    </tr>\n",
       "    <tr>\n",
       "      <th>50%</th>\n",
       "      <td>19703.000000</td>\n",
       "      <td>165.000000</td>\n",
       "      <td>72.000000</td>\n",
       "      <td>120.000000</td>\n",
       "      <td>80.000000</td>\n",
       "    </tr>\n",
       "    <tr>\n",
       "      <th>75%</th>\n",
       "      <td>21327.000000</td>\n",
       "      <td>170.000000</td>\n",
       "      <td>82.000000</td>\n",
       "      <td>140.000000</td>\n",
       "      <td>90.000000</td>\n",
       "    </tr>\n",
       "    <tr>\n",
       "      <th>max</th>\n",
       "      <td>23713.000000</td>\n",
       "      <td>250.000000</td>\n",
       "      <td>200.000000</td>\n",
       "      <td>16020.000000</td>\n",
       "      <td>11000.000000</td>\n",
       "    </tr>\n",
       "  </tbody>\n",
       "</table>\n",
       "</div>"
      ],
      "text/plain": [
       "                age        height        weight         ap_hi         ap_lo\n",
       "count  70000.000000  70000.000000  70000.000000  70000.000000  70000.000000\n",
       "mean   19468.865814    164.359229     74.205690    128.817286     96.630414\n",
       "std     2467.251667      8.210126     14.395757    154.011419    188.472530\n",
       "min    10798.000000     55.000000     10.000000   -150.000000    -70.000000\n",
       "25%    17664.000000    159.000000     65.000000    120.000000     80.000000\n",
       "50%    19703.000000    165.000000     72.000000    120.000000     80.000000\n",
       "75%    21327.000000    170.000000     82.000000    140.000000     90.000000\n",
       "max    23713.000000    250.000000    200.000000  16020.000000  11000.000000"
      ]
     },
     "execution_count": 18,
     "metadata": {},
     "output_type": "execute_result"
    }
   ],
   "source": [
    "cleaned_data.describe()"
   ]
  },
  {
   "cell_type": "code",
   "execution_count": 19,
   "id": "8b822d85-72d9-4683-9899-d9c61d4765ef",
   "metadata": {},
   "outputs": [
    {
     "data": {
      "text/html": [
       "<div>\n",
       "<style scoped>\n",
       "    .dataframe tbody tr th:only-of-type {\n",
       "        vertical-align: middle;\n",
       "    }\n",
       "\n",
       "    .dataframe tbody tr th {\n",
       "        vertical-align: top;\n",
       "    }\n",
       "\n",
       "    .dataframe thead th {\n",
       "        text-align: right;\n",
       "    }\n",
       "</style>\n",
       "<table border=\"1\" class=\"dataframe\">\n",
       "  <thead>\n",
       "    <tr style=\"text-align: right;\">\n",
       "      <th></th>\n",
       "      <th>id</th>\n",
       "      <th>age</th>\n",
       "      <th>gender</th>\n",
       "      <th>height</th>\n",
       "      <th>weight</th>\n",
       "      <th>ap_hi</th>\n",
       "      <th>ap_lo</th>\n",
       "      <th>cholesterol</th>\n",
       "      <th>gluc</th>\n",
       "      <th>smoke</th>\n",
       "      <th>alco</th>\n",
       "      <th>active</th>\n",
       "      <th>cardio</th>\n",
       "    </tr>\n",
       "  </thead>\n",
       "  <tbody>\n",
       "    <tr>\n",
       "      <th>4607</th>\n",
       "      <td>6525</td>\n",
       "      <td>15281</td>\n",
       "      <td>1</td>\n",
       "      <td>165</td>\n",
       "      <td>78.0</td>\n",
       "      <td>-100</td>\n",
       "      <td>80</td>\n",
       "      <td>2</td>\n",
       "      <td>1</td>\n",
       "      <td>0</td>\n",
       "      <td>0</td>\n",
       "      <td>1</td>\n",
       "      <td>0</td>\n",
       "    </tr>\n",
       "    <tr>\n",
       "      <th>16021</th>\n",
       "      <td>22881</td>\n",
       "      <td>22108</td>\n",
       "      <td>2</td>\n",
       "      <td>161</td>\n",
       "      <td>90.0</td>\n",
       "      <td>-115</td>\n",
       "      <td>70</td>\n",
       "      <td>1</td>\n",
       "      <td>1</td>\n",
       "      <td>0</td>\n",
       "      <td>0</td>\n",
       "      <td>1</td>\n",
       "      <td>0</td>\n",
       "    </tr>\n",
       "    <tr>\n",
       "      <th>20536</th>\n",
       "      <td>29313</td>\n",
       "      <td>15581</td>\n",
       "      <td>1</td>\n",
       "      <td>153</td>\n",
       "      <td>54.0</td>\n",
       "      <td>-100</td>\n",
       "      <td>70</td>\n",
       "      <td>1</td>\n",
       "      <td>1</td>\n",
       "      <td>0</td>\n",
       "      <td>0</td>\n",
       "      <td>1</td>\n",
       "      <td>0</td>\n",
       "    </tr>\n",
       "    <tr>\n",
       "      <th>23988</th>\n",
       "      <td>34295</td>\n",
       "      <td>18301</td>\n",
       "      <td>1</td>\n",
       "      <td>162</td>\n",
       "      <td>74.0</td>\n",
       "      <td>-140</td>\n",
       "      <td>90</td>\n",
       "      <td>1</td>\n",
       "      <td>1</td>\n",
       "      <td>0</td>\n",
       "      <td>0</td>\n",
       "      <td>1</td>\n",
       "      <td>1</td>\n",
       "    </tr>\n",
       "    <tr>\n",
       "      <th>25240</th>\n",
       "      <td>36025</td>\n",
       "      <td>14711</td>\n",
       "      <td>2</td>\n",
       "      <td>168</td>\n",
       "      <td>50.0</td>\n",
       "      <td>-120</td>\n",
       "      <td>80</td>\n",
       "      <td>2</td>\n",
       "      <td>1</td>\n",
       "      <td>0</td>\n",
       "      <td>0</td>\n",
       "      <td>0</td>\n",
       "      <td>1</td>\n",
       "    </tr>\n",
       "    <tr>\n",
       "      <th>35040</th>\n",
       "      <td>50055</td>\n",
       "      <td>23325</td>\n",
       "      <td>2</td>\n",
       "      <td>168</td>\n",
       "      <td>59.0</td>\n",
       "      <td>-150</td>\n",
       "      <td>80</td>\n",
       "      <td>1</td>\n",
       "      <td>1</td>\n",
       "      <td>0</td>\n",
       "      <td>0</td>\n",
       "      <td>1</td>\n",
       "      <td>1</td>\n",
       "    </tr>\n",
       "    <tr>\n",
       "      <th>46627</th>\n",
       "      <td>66571</td>\n",
       "      <td>23646</td>\n",
       "      <td>2</td>\n",
       "      <td>160</td>\n",
       "      <td>59.0</td>\n",
       "      <td>-120</td>\n",
       "      <td>80</td>\n",
       "      <td>1</td>\n",
       "      <td>1</td>\n",
       "      <td>0</td>\n",
       "      <td>0</td>\n",
       "      <td>0</td>\n",
       "      <td>0</td>\n",
       "    </tr>\n",
       "  </tbody>\n",
       "</table>\n",
       "</div>"
      ],
      "text/plain": [
       "          id    age gender  height  weight  ap_hi  ap_lo cholesterol gluc  \\\n",
       "4607    6525  15281      1     165    78.0   -100     80           2    1   \n",
       "16021  22881  22108      2     161    90.0   -115     70           1    1   \n",
       "20536  29313  15581      1     153    54.0   -100     70           1    1   \n",
       "23988  34295  18301      1     162    74.0   -140     90           1    1   \n",
       "25240  36025  14711      2     168    50.0   -120     80           2    1   \n",
       "35040  50055  23325      2     168    59.0   -150     80           1    1   \n",
       "46627  66571  23646      2     160    59.0   -120     80           1    1   \n",
       "\n",
       "      smoke alco active cardio  \n",
       "4607      0    0      1      0  \n",
       "16021     0    0      1      0  \n",
       "20536     0    0      1      0  \n",
       "23988     0    0      1      1  \n",
       "25240     0    0      0      1  \n",
       "35040     0    0      1      1  \n",
       "46627     0    0      0      0  "
      ]
     },
     "execution_count": 19,
     "metadata": {},
     "output_type": "execute_result"
    }
   ],
   "source": [
    "### 舒张压和收缩压有出现负数，不符合常理，提取出来。\n",
    "cleaned_data[cleaned_data['ap_hi'] < 0]"
   ]
  },
  {
   "cell_type": "code",
   "execution_count": 20,
   "id": "7ded9b46-bf5b-4dc3-b0b5-5728631ae32f",
   "metadata": {},
   "outputs": [
    {
     "data": {
      "text/html": [
       "<div>\n",
       "<style scoped>\n",
       "    .dataframe tbody tr th:only-of-type {\n",
       "        vertical-align: middle;\n",
       "    }\n",
       "\n",
       "    .dataframe tbody tr th {\n",
       "        vertical-align: top;\n",
       "    }\n",
       "\n",
       "    .dataframe thead th {\n",
       "        text-align: right;\n",
       "    }\n",
       "</style>\n",
       "<table border=\"1\" class=\"dataframe\">\n",
       "  <thead>\n",
       "    <tr style=\"text-align: right;\">\n",
       "      <th></th>\n",
       "      <th>id</th>\n",
       "      <th>age</th>\n",
       "      <th>gender</th>\n",
       "      <th>height</th>\n",
       "      <th>weight</th>\n",
       "      <th>ap_hi</th>\n",
       "      <th>ap_lo</th>\n",
       "      <th>cholesterol</th>\n",
       "      <th>gluc</th>\n",
       "      <th>smoke</th>\n",
       "      <th>alco</th>\n",
       "      <th>active</th>\n",
       "      <th>cardio</th>\n",
       "    </tr>\n",
       "  </thead>\n",
       "  <tbody>\n",
       "    <tr>\n",
       "      <th>60106</th>\n",
       "      <td>85816</td>\n",
       "      <td>22571</td>\n",
       "      <td>1</td>\n",
       "      <td>167</td>\n",
       "      <td>74.0</td>\n",
       "      <td>15</td>\n",
       "      <td>-70</td>\n",
       "      <td>1</td>\n",
       "      <td>1</td>\n",
       "      <td>0</td>\n",
       "      <td>0</td>\n",
       "      <td>1</td>\n",
       "      <td>1</td>\n",
       "    </tr>\n",
       "  </tbody>\n",
       "</table>\n",
       "</div>"
      ],
      "text/plain": [
       "          id    age gender  height  weight  ap_hi  ap_lo cholesterol gluc  \\\n",
       "60106  85816  22571      1     167    74.0     15    -70           1    1   \n",
       "\n",
       "      smoke alco active cardio  \n",
       "60106     0    0      1      1  "
      ]
     },
     "execution_count": 20,
     "metadata": {},
     "output_type": "execute_result"
    }
   ],
   "source": [
    "cleaned_data[cleaned_data['ap_lo'] < 0]"
   ]
  },
  {
   "cell_type": "code",
   "execution_count": 21,
   "id": "6bb03f32-3dba-4042-8e3d-7e9eff84b66f",
   "metadata": {},
   "outputs": [
    {
     "data": {
      "text/html": [
       "<div>\n",
       "<style scoped>\n",
       "    .dataframe tbody tr th:only-of-type {\n",
       "        vertical-align: middle;\n",
       "    }\n",
       "\n",
       "    .dataframe tbody tr th {\n",
       "        vertical-align: top;\n",
       "    }\n",
       "\n",
       "    .dataframe thead th {\n",
       "        text-align: right;\n",
       "    }\n",
       "</style>\n",
       "<table border=\"1\" class=\"dataframe\">\n",
       "  <thead>\n",
       "    <tr style=\"text-align: right;\">\n",
       "      <th></th>\n",
       "      <th>age</th>\n",
       "      <th>height</th>\n",
       "      <th>weight</th>\n",
       "      <th>ap_hi</th>\n",
       "      <th>ap_lo</th>\n",
       "    </tr>\n",
       "  </thead>\n",
       "  <tbody>\n",
       "    <tr>\n",
       "      <th>count</th>\n",
       "      <td>69971.000000</td>\n",
       "      <td>69971.000000</td>\n",
       "      <td>69971.000000</td>\n",
       "      <td>69971.000000</td>\n",
       "      <td>69971.000000</td>\n",
       "    </tr>\n",
       "    <tr>\n",
       "      <th>mean</th>\n",
       "      <td>19468.928299</td>\n",
       "      <td>164.359363</td>\n",
       "      <td>74.208362</td>\n",
       "      <td>128.779066</td>\n",
       "      <td>96.663603</td>\n",
       "    </tr>\n",
       "    <tr>\n",
       "      <th>std</th>\n",
       "      <td>2466.989497</td>\n",
       "      <td>8.210512</td>\n",
       "      <td>14.395224</td>\n",
       "      <td>153.858001</td>\n",
       "      <td>188.502998</td>\n",
       "    </tr>\n",
       "    <tr>\n",
       "      <th>min</th>\n",
       "      <td>10798.000000</td>\n",
       "      <td>55.000000</td>\n",
       "      <td>10.000000</td>\n",
       "      <td>1.000000</td>\n",
       "      <td>1.000000</td>\n",
       "    </tr>\n",
       "    <tr>\n",
       "      <th>25%</th>\n",
       "      <td>17664.000000</td>\n",
       "      <td>159.000000</td>\n",
       "      <td>65.000000</td>\n",
       "      <td>120.000000</td>\n",
       "      <td>80.000000</td>\n",
       "    </tr>\n",
       "    <tr>\n",
       "      <th>50%</th>\n",
       "      <td>19703.000000</td>\n",
       "      <td>165.000000</td>\n",
       "      <td>72.000000</td>\n",
       "      <td>120.000000</td>\n",
       "      <td>80.000000</td>\n",
       "    </tr>\n",
       "    <tr>\n",
       "      <th>75%</th>\n",
       "      <td>21327.000000</td>\n",
       "      <td>170.000000</td>\n",
       "      <td>82.000000</td>\n",
       "      <td>140.000000</td>\n",
       "      <td>90.000000</td>\n",
       "    </tr>\n",
       "    <tr>\n",
       "      <th>max</th>\n",
       "      <td>23713.000000</td>\n",
       "      <td>250.000000</td>\n",
       "      <td>200.000000</td>\n",
       "      <td>16020.000000</td>\n",
       "      <td>11000.000000</td>\n",
       "    </tr>\n",
       "  </tbody>\n",
       "</table>\n",
       "</div>"
      ],
      "text/plain": [
       "                age        height        weight         ap_hi         ap_lo\n",
       "count  69971.000000  69971.000000  69971.000000  69971.000000  69971.000000\n",
       "mean   19468.928299    164.359363     74.208362    128.779066     96.663603\n",
       "std     2466.989497      8.210512     14.395224    153.858001    188.502998\n",
       "min    10798.000000     55.000000     10.000000      1.000000      1.000000\n",
       "25%    17664.000000    159.000000     65.000000    120.000000     80.000000\n",
       "50%    19703.000000    165.000000     72.000000    120.000000     80.000000\n",
       "75%    21327.000000    170.000000     82.000000    140.000000     90.000000\n",
       "max    23713.000000    250.000000    200.000000  16020.000000  11000.000000"
      ]
     },
     "execution_count": 21,
     "metadata": {},
     "output_type": "execute_result"
    }
   ],
   "source": [
    "### 删除以上无效错误数据，保证样本的准确性。\n",
    "cleaned_data = cleaned_data[(cleaned_data['ap_hi'] > 0) & (cleaned_data['ap_lo'] > 0)]\n",
    "cleaned_data.describe()"
   ]
  },
  {
   "cell_type": "code",
   "execution_count": 22,
   "id": "2be052ba-2b09-4e0f-9e1d-97caff66e3b8",
   "metadata": {},
   "outputs": [
    {
     "data": {
      "text/html": [
       "<div>\n",
       "<style scoped>\n",
       "    .dataframe tbody tr th:only-of-type {\n",
       "        vertical-align: middle;\n",
       "    }\n",
       "\n",
       "    .dataframe tbody tr th {\n",
       "        vertical-align: top;\n",
       "    }\n",
       "\n",
       "    .dataframe thead th {\n",
       "        text-align: right;\n",
       "    }\n",
       "</style>\n",
       "<table border=\"1\" class=\"dataframe\">\n",
       "  <thead>\n",
       "    <tr style=\"text-align: right;\">\n",
       "      <th></th>\n",
       "      <th>age</th>\n",
       "      <th>height</th>\n",
       "      <th>weight</th>\n",
       "      <th>ap_hi</th>\n",
       "      <th>ap_lo</th>\n",
       "    </tr>\n",
       "  </thead>\n",
       "  <tbody>\n",
       "    <tr>\n",
       "      <th>count</th>\n",
       "      <td>68746.000000</td>\n",
       "      <td>68746.000000</td>\n",
       "      <td>68746.000000</td>\n",
       "      <td>68746.000000</td>\n",
       "      <td>68746.000000</td>\n",
       "    </tr>\n",
       "    <tr>\n",
       "      <th>mean</th>\n",
       "      <td>19464.316426</td>\n",
       "      <td>164.361548</td>\n",
       "      <td>74.119971</td>\n",
       "      <td>126.614858</td>\n",
       "      <td>81.348704</td>\n",
       "    </tr>\n",
       "    <tr>\n",
       "      <th>std</th>\n",
       "      <td>2468.139391</td>\n",
       "      <td>8.184892</td>\n",
       "      <td>14.330958</td>\n",
       "      <td>16.739119</td>\n",
       "      <td>9.526851</td>\n",
       "    </tr>\n",
       "    <tr>\n",
       "      <th>min</th>\n",
       "      <td>10798.000000</td>\n",
       "      <td>55.000000</td>\n",
       "      <td>11.000000</td>\n",
       "      <td>70.000000</td>\n",
       "      <td>40.000000</td>\n",
       "    </tr>\n",
       "    <tr>\n",
       "      <th>25%</th>\n",
       "      <td>17657.000000</td>\n",
       "      <td>159.000000</td>\n",
       "      <td>65.000000</td>\n",
       "      <td>120.000000</td>\n",
       "      <td>80.000000</td>\n",
       "    </tr>\n",
       "    <tr>\n",
       "      <th>50%</th>\n",
       "      <td>19701.000000</td>\n",
       "      <td>165.000000</td>\n",
       "      <td>72.000000</td>\n",
       "      <td>120.000000</td>\n",
       "      <td>80.000000</td>\n",
       "    </tr>\n",
       "    <tr>\n",
       "      <th>75%</th>\n",
       "      <td>21324.000000</td>\n",
       "      <td>170.000000</td>\n",
       "      <td>82.000000</td>\n",
       "      <td>140.000000</td>\n",
       "      <td>90.000000</td>\n",
       "    </tr>\n",
       "    <tr>\n",
       "      <th>max</th>\n",
       "      <td>23713.000000</td>\n",
       "      <td>250.000000</td>\n",
       "      <td>200.000000</td>\n",
       "      <td>240.000000</td>\n",
       "      <td>140.000000</td>\n",
       "    </tr>\n",
       "  </tbody>\n",
       "</table>\n",
       "</div>"
      ],
      "text/plain": [
       "                age        height        weight         ap_hi         ap_lo\n",
       "count  68746.000000  68746.000000  68746.000000  68746.000000  68746.000000\n",
       "mean   19464.316426    164.361548     74.119971    126.614858     81.348704\n",
       "std     2468.139391      8.184892     14.330958     16.739119      9.526851\n",
       "min    10798.000000     55.000000     11.000000     70.000000     40.000000\n",
       "25%    17657.000000    159.000000     65.000000    120.000000     80.000000\n",
       "50%    19701.000000    165.000000     72.000000    120.000000     80.000000\n",
       "75%    21324.000000    170.000000     82.000000    140.000000     90.000000\n",
       "max    23713.000000    250.000000    200.000000    240.000000    140.000000"
      ]
     },
     "execution_count": 22,
     "metadata": {},
     "output_type": "execute_result"
    }
   ],
   "source": [
    "### 舒张压和收缩压的最小值和最大值不符合现实情况，应筛选出合理的范围数据。\n",
    "cleaned_data = cleaned_data[(60 < cleaned_data['ap_hi']) & (cleaned_data['ap_hi'] < 250)]\n",
    "cleaned_data = cleaned_data[(30 < cleaned_data['ap_lo']) & (cleaned_data['ap_lo'] < 150)]\n",
    "cleaned_data.describe()"
   ]
  },
  {
   "cell_type": "markdown",
   "id": "beca6d2a-ccab-45e4-b7df-1c2b513aa336",
   "metadata": {},
   "source": [
    "### 探索数据和数据可视化"
   ]
  },
  {
   "cell_type": "code",
   "execution_count": 23,
   "id": "04922f26-0815-48b0-95e0-34be1a37a425",
   "metadata": {},
   "outputs": [
    {
     "data": {
      "text/html": [
       "<div>\n",
       "<style scoped>\n",
       "    .dataframe tbody tr th:only-of-type {\n",
       "        vertical-align: middle;\n",
       "    }\n",
       "\n",
       "    .dataframe tbody tr th {\n",
       "        vertical-align: top;\n",
       "    }\n",
       "\n",
       "    .dataframe thead th {\n",
       "        text-align: right;\n",
       "    }\n",
       "</style>\n",
       "<table border=\"1\" class=\"dataframe\">\n",
       "  <thead>\n",
       "    <tr style=\"text-align: right;\">\n",
       "      <th></th>\n",
       "      <th>id</th>\n",
       "      <th>age</th>\n",
       "      <th>gender</th>\n",
       "      <th>height</th>\n",
       "      <th>weight</th>\n",
       "      <th>ap_hi</th>\n",
       "      <th>ap_lo</th>\n",
       "      <th>cholesterol</th>\n",
       "      <th>gluc</th>\n",
       "      <th>smoke</th>\n",
       "      <th>alco</th>\n",
       "      <th>active</th>\n",
       "      <th>cardio</th>\n",
       "    </tr>\n",
       "  </thead>\n",
       "  <tbody>\n",
       "    <tr>\n",
       "      <th>0</th>\n",
       "      <td>0</td>\n",
       "      <td>18393</td>\n",
       "      <td>2</td>\n",
       "      <td>168</td>\n",
       "      <td>62.0</td>\n",
       "      <td>110</td>\n",
       "      <td>80</td>\n",
       "      <td>1</td>\n",
       "      <td>1</td>\n",
       "      <td>0</td>\n",
       "      <td>0</td>\n",
       "      <td>1</td>\n",
       "      <td>0</td>\n",
       "    </tr>\n",
       "    <tr>\n",
       "      <th>1</th>\n",
       "      <td>1</td>\n",
       "      <td>20228</td>\n",
       "      <td>1</td>\n",
       "      <td>156</td>\n",
       "      <td>85.0</td>\n",
       "      <td>140</td>\n",
       "      <td>90</td>\n",
       "      <td>3</td>\n",
       "      <td>1</td>\n",
       "      <td>0</td>\n",
       "      <td>0</td>\n",
       "      <td>1</td>\n",
       "      <td>1</td>\n",
       "    </tr>\n",
       "    <tr>\n",
       "      <th>2</th>\n",
       "      <td>2</td>\n",
       "      <td>18857</td>\n",
       "      <td>1</td>\n",
       "      <td>165</td>\n",
       "      <td>64.0</td>\n",
       "      <td>130</td>\n",
       "      <td>70</td>\n",
       "      <td>3</td>\n",
       "      <td>1</td>\n",
       "      <td>0</td>\n",
       "      <td>0</td>\n",
       "      <td>0</td>\n",
       "      <td>1</td>\n",
       "    </tr>\n",
       "    <tr>\n",
       "      <th>3</th>\n",
       "      <td>3</td>\n",
       "      <td>17623</td>\n",
       "      <td>2</td>\n",
       "      <td>169</td>\n",
       "      <td>82.0</td>\n",
       "      <td>150</td>\n",
       "      <td>100</td>\n",
       "      <td>1</td>\n",
       "      <td>1</td>\n",
       "      <td>0</td>\n",
       "      <td>0</td>\n",
       "      <td>1</td>\n",
       "      <td>1</td>\n",
       "    </tr>\n",
       "    <tr>\n",
       "      <th>4</th>\n",
       "      <td>4</td>\n",
       "      <td>17474</td>\n",
       "      <td>1</td>\n",
       "      <td>156</td>\n",
       "      <td>56.0</td>\n",
       "      <td>100</td>\n",
       "      <td>60</td>\n",
       "      <td>1</td>\n",
       "      <td>1</td>\n",
       "      <td>0</td>\n",
       "      <td>0</td>\n",
       "      <td>0</td>\n",
       "      <td>0</td>\n",
       "    </tr>\n",
       "  </tbody>\n",
       "</table>\n",
       "</div>"
      ],
      "text/plain": [
       "  id    age gender  height  weight  ap_hi  ap_lo cholesterol gluc smoke alco  \\\n",
       "0  0  18393      2     168    62.0    110     80           1    1     0    0   \n",
       "1  1  20228      1     156    85.0    140     90           3    1     0    0   \n",
       "2  2  18857      1     165    64.0    130     70           3    1     0    0   \n",
       "3  3  17623      2     169    82.0    150    100           1    1     0    0   \n",
       "4  4  17474      1     156    56.0    100     60           1    1     0    0   \n",
       "\n",
       "  active cardio  \n",
       "0      1      0  \n",
       "1      1      1  \n",
       "2      0      1  \n",
       "3      1      1  \n",
       "4      0      0  "
      ]
     },
     "execution_count": 23,
     "metadata": {},
     "output_type": "execute_result"
    }
   ],
   "source": [
    "cleaned_data.head()"
   ]
  },
  {
   "cell_type": "code",
   "execution_count": 76,
   "id": "24985c5d-c89a-48e8-958c-840de9e80d33",
   "metadata": {},
   "outputs": [],
   "source": [
    "## 导入用到的工具库\n",
    "import seaborn as sns\n",
    "import matplotlib.pyplot as plt\n",
    "sns.set_palette('pastel')"
   ]
  },
  {
   "cell_type": "markdown",
   "id": "6d435be7-13c5-4e83-8882-a56cf8270c88",
   "metadata": {},
   "source": [
    "#### 年龄与心血管疾病的关系"
   ]
  },
  {
   "cell_type": "code",
   "execution_count": 77,
   "id": "c30324af-dc79-4e3f-875a-989eadae2902",
   "metadata": {},
   "outputs": [
    {
     "data": {
      "text/html": [
       "<div>\n",
       "<style scoped>\n",
       "    .dataframe tbody tr th:only-of-type {\n",
       "        vertical-align: middle;\n",
       "    }\n",
       "\n",
       "    .dataframe tbody tr th {\n",
       "        vertical-align: top;\n",
       "    }\n",
       "\n",
       "    .dataframe thead th {\n",
       "        text-align: right;\n",
       "    }\n",
       "</style>\n",
       "<table border=\"1\" class=\"dataframe\">\n",
       "  <thead>\n",
       "    <tr style=\"text-align: right;\">\n",
       "      <th></th>\n",
       "      <th>id</th>\n",
       "      <th>age</th>\n",
       "      <th>gender</th>\n",
       "      <th>height</th>\n",
       "      <th>weight</th>\n",
       "      <th>ap_hi</th>\n",
       "      <th>ap_lo</th>\n",
       "      <th>cholesterol</th>\n",
       "      <th>gluc</th>\n",
       "      <th>smoke</th>\n",
       "      <th>alco</th>\n",
       "      <th>active</th>\n",
       "      <th>cardio</th>\n",
       "      <th>age_cut</th>\n",
       "      <th>BMI</th>\n",
       "      <th>BMI_cut</th>\n",
       "      <th>aver_ap</th>\n",
       "    </tr>\n",
       "  </thead>\n",
       "  <tbody>\n",
       "    <tr>\n",
       "      <th>0</th>\n",
       "      <td>0</td>\n",
       "      <td>18393</td>\n",
       "      <td>2</td>\n",
       "      <td>168</td>\n",
       "      <td>62.0</td>\n",
       "      <td>110</td>\n",
       "      <td>80</td>\n",
       "      <td>1</td>\n",
       "      <td>1</td>\n",
       "      <td>0</td>\n",
       "      <td>0</td>\n",
       "      <td>1</td>\n",
       "      <td>0</td>\n",
       "      <td>50-60</td>\n",
       "      <td>18.452381</td>\n",
       "      <td>thin</td>\n",
       "      <td>95.0</td>\n",
       "    </tr>\n",
       "    <tr>\n",
       "      <th>1</th>\n",
       "      <td>1</td>\n",
       "      <td>20228</td>\n",
       "      <td>1</td>\n",
       "      <td>156</td>\n",
       "      <td>85.0</td>\n",
       "      <td>140</td>\n",
       "      <td>90</td>\n",
       "      <td>3</td>\n",
       "      <td>1</td>\n",
       "      <td>0</td>\n",
       "      <td>0</td>\n",
       "      <td>1</td>\n",
       "      <td>1</td>\n",
       "      <td>50-60</td>\n",
       "      <td>27.243590</td>\n",
       "      <td>overweight</td>\n",
       "      <td>115.0</td>\n",
       "    </tr>\n",
       "    <tr>\n",
       "      <th>2</th>\n",
       "      <td>2</td>\n",
       "      <td>18857</td>\n",
       "      <td>1</td>\n",
       "      <td>165</td>\n",
       "      <td>64.0</td>\n",
       "      <td>130</td>\n",
       "      <td>70</td>\n",
       "      <td>3</td>\n",
       "      <td>1</td>\n",
       "      <td>0</td>\n",
       "      <td>0</td>\n",
       "      <td>0</td>\n",
       "      <td>1</td>\n",
       "      <td>50-60</td>\n",
       "      <td>19.393939</td>\n",
       "      <td>normal</td>\n",
       "      <td>100.0</td>\n",
       "    </tr>\n",
       "    <tr>\n",
       "      <th>3</th>\n",
       "      <td>3</td>\n",
       "      <td>17623</td>\n",
       "      <td>2</td>\n",
       "      <td>169</td>\n",
       "      <td>82.0</td>\n",
       "      <td>150</td>\n",
       "      <td>100</td>\n",
       "      <td>1</td>\n",
       "      <td>1</td>\n",
       "      <td>0</td>\n",
       "      <td>0</td>\n",
       "      <td>1</td>\n",
       "      <td>1</td>\n",
       "      <td>40-50</td>\n",
       "      <td>24.260355</td>\n",
       "      <td>normal</td>\n",
       "      <td>125.0</td>\n",
       "    </tr>\n",
       "    <tr>\n",
       "      <th>4</th>\n",
       "      <td>4</td>\n",
       "      <td>17474</td>\n",
       "      <td>1</td>\n",
       "      <td>156</td>\n",
       "      <td>56.0</td>\n",
       "      <td>100</td>\n",
       "      <td>60</td>\n",
       "      <td>1</td>\n",
       "      <td>1</td>\n",
       "      <td>0</td>\n",
       "      <td>0</td>\n",
       "      <td>0</td>\n",
       "      <td>0</td>\n",
       "      <td>40-50</td>\n",
       "      <td>17.948718</td>\n",
       "      <td>thin</td>\n",
       "      <td>80.0</td>\n",
       "    </tr>\n",
       "  </tbody>\n",
       "</table>\n",
       "</div>"
      ],
      "text/plain": [
       "  id    age gender  height  weight  ap_hi  ap_lo cholesterol gluc smoke alco  \\\n",
       "0  0  18393      2     168    62.0    110     80           1    1     0    0   \n",
       "1  1  20228      1     156    85.0    140     90           3    1     0    0   \n",
       "2  2  18857      1     165    64.0    130     70           3    1     0    0   \n",
       "3  3  17623      2     169    82.0    150    100           1    1     0    0   \n",
       "4  4  17474      1     156    56.0    100     60           1    1     0    0   \n",
       "\n",
       "  active cardio age_cut        BMI     BMI_cut  aver_ap  \n",
       "0      1      0   50-60  18.452381        thin     95.0  \n",
       "1      1      1   50-60  27.243590  overweight    115.0  \n",
       "2      0      1   50-60  19.393939      normal    100.0  \n",
       "3      1      1   40-50  24.260355      normal    125.0  \n",
       "4      0      0   40-50  17.948718        thin     80.0  "
      ]
     },
     "execution_count": 77,
     "metadata": {},
     "output_type": "execute_result"
    }
   ],
   "source": [
    "## 对年龄进行数据分箱，再探究年龄对心血管疾病的影响。\n",
    "age_bins = [10789,14600,18250,21900,23713]\n",
    "age_labels = ['30-40','40-50','50-60','60-65']\n",
    "cleaned_data['age_cut'] = pd.cut(cleaned_data['age'],age_bins,labels = age_labels)\n",
    "cleaned_data.head()"
   ]
  },
  {
   "cell_type": "code",
   "execution_count": 78,
   "id": "cf6c66d5-068b-4f4b-afc9-e85f294b571b",
   "metadata": {},
   "outputs": [
    {
     "data": {
      "image/png": "[encoded data removed]",
      "text/plain": [
       "<Figure size 640x480 with 1 Axes>"
      ]
     },
     "metadata": {},
     "output_type": "display_data"
    }
   ],
   "source": [
    "s1 = cleaned_data['age_cut'].value_counts()\n",
    "plt.pie(s1,labels = s1.index,autopct = '%.2f%%')\n",
    "plt.show()"
   ]
  },
  {
   "cell_type": "markdown",
   "id": "56335e98-88ee-4df7-ac76-b80733324ced",
   "metadata": {},
   "source": [
    "##### 样本中，50-60岁年龄段的样本数占一半。其次是40-50年龄组、60岁以上的你年龄组。"
   ]
  },
  {
   "cell_type": "code",
   "execution_count": 79,
   "id": "afcfe322-e57d-45f4-b9ff-2e9dc69d8f2b",
   "metadata": {},
   "outputs": [
    {
     "data": {
      "text/plain": [
       "<function matplotlib.pyplot.show(close=None, block=None)>"
      ]
     },
     "execution_count": 79,
     "metadata": {},
     "output_type": "execute_result"
    },
    {
     "data": {
      "image/png": "[encoded data removed]",
      "text/plain": [
       "<Figure size 640x480 with 1 Axes>"
      ]
     },
     "metadata": {},
     "output_type": "display_data"
    }
   ],
   "source": [
    "sns.barplot(cleaned_data,x = 'age_cut',y = 'cardio')\n",
    "plt.gca().invert_yaxis()\n",
    "plt.show"
   ]
  },
  {
   "cell_type": "markdown",
   "id": "baf3ac98-dc47-4bec-95ff-5ccfb371f6bf",
   "metadata": {},
   "source": [
    "##### 得出结论：年龄越大，患病几率越高。患病几率与年龄成正比。"
   ]
  },
  {
   "cell_type": "markdown",
   "id": "9573d058-fa19-4da8-b789-a8fbba5677e7",
   "metadata": {},
   "source": [
    "#### 性别与心血管疾病的关系"
   ]
  },
  {
   "cell_type": "code",
   "execution_count": 80,
   "id": "347532ae-ab88-422b-a354-937131b889d5",
   "metadata": {},
   "outputs": [
    {
     "data": {
      "image/png": "[encoded data removed]",
      "text/plain": [
       "<Figure size 1100x500 with 2 Axes>"
      ]
     },
     "metadata": {},
     "output_type": "display_data"
    }
   ],
   "source": [
    "sns.set_palette('pastel')\n",
    "figure, axes = plt.subplots(1, 2,figsize = [11,5])\n",
    "sns.histplot(cleaned_data,x = 'gender', ax=axes[0])\n",
    "sns.countplot(cleaned_data,x = 'gender',hue = 'cardio',ax=axes[1])\n",
    "plt.show()"
   ]
  },
  {
   "cell_type": "markdown",
   "id": "af7688f7-21aa-4513-8104-aa0276d4394b",
   "metadata": {},
   "source": [
    "##### 样本中，女性的数量大约是男性的一倍，且女性中，不患病的数量约高于患病的数量。男性中，患病数和不患病的数量大致相等。"
   ]
  },
  {
   "cell_type": "markdown",
   "id": "54db23b5-9b0c-4297-ac0e-ea0935301d73",
   "metadata": {},
   "source": [
    "#### 身高体重对心血管疾病的影响"
   ]
  },
  {
   "cell_type": "code",
   "execution_count": 81,
   "id": "02e2ec99-a024-450c-9f7d-1777e8217f8c",
   "metadata": {},
   "outputs": [
    {
     "data": {
      "image/png": "[encoded data removed]",
      "text/plain": [
       "<Figure size 1200x700 with 2 Axes>"
      ]
     },
     "metadata": {},
     "output_type": "display_data"
    }
   ],
   "source": [
    "figure, axes = plt.subplots(1, 2, figsize=[12, 7])\n",
    "sns.boxplot(cleaned_data,y = 'height', ax=axes[0])\n",
    "sns.boxplot(cleaned_data,y = 'weight', ax=axes[1])\n",
    "plt.show()"
   ]
  },
  {
   "cell_type": "code",
   "execution_count": 82,
   "id": "fbe96915-7523-455a-a1a5-707ab2b1a076",
   "metadata": {},
   "outputs": [
    {
     "data": {
      "text/plain": [
       "<function matplotlib.pyplot.show(close=None, block=None)>"
      ]
     },
     "execution_count": 82,
     "metadata": {},
     "output_type": "execute_result"
    },
    {
     "data": {
      "image/png": "[encoded data removed]",
      "text/plain": [
       "<Figure size 1200x500 with 2 Axes>"
      ]
     },
     "metadata": {},
     "output_type": "display_data"
    }
   ],
   "source": [
    "figure, axes = plt.subplots(1, 2, figsize=[12, 5])\n",
    "sns.kdeplot(cleaned_data,x = 'height',ax=axes[0])\n",
    "sns.kdeplot(cleaned_data,x = 'weight', ax=axes[1])\n",
    "plt.show"
   ]
  },
  {
   "cell_type": "code",
   "execution_count": 83,
   "id": "9ef7da5a-3d4b-4d15-82f5-b8fcdd4e41c2",
   "metadata": {},
   "outputs": [
    {
     "data": {
      "text/html": [
       "<div>\n",
       "<style scoped>\n",
       "    .dataframe tbody tr th:only-of-type {\n",
       "        vertical-align: middle;\n",
       "    }\n",
       "\n",
       "    .dataframe tbody tr th {\n",
       "        vertical-align: top;\n",
       "    }\n",
       "\n",
       "    .dataframe thead th {\n",
       "        text-align: right;\n",
       "    }\n",
       "</style>\n",
       "<table border=\"1\" class=\"dataframe\">\n",
       "  <thead>\n",
       "    <tr style=\"text-align: right;\">\n",
       "      <th></th>\n",
       "      <th>id</th>\n",
       "      <th>age</th>\n",
       "      <th>gender</th>\n",
       "      <th>height</th>\n",
       "      <th>weight</th>\n",
       "      <th>ap_hi</th>\n",
       "      <th>ap_lo</th>\n",
       "      <th>cholesterol</th>\n",
       "      <th>gluc</th>\n",
       "      <th>smoke</th>\n",
       "      <th>alco</th>\n",
       "      <th>active</th>\n",
       "      <th>cardio</th>\n",
       "      <th>age_cut</th>\n",
       "      <th>BMI</th>\n",
       "      <th>BMI_cut</th>\n",
       "      <th>aver_ap</th>\n",
       "    </tr>\n",
       "  </thead>\n",
       "  <tbody>\n",
       "    <tr>\n",
       "      <th>0</th>\n",
       "      <td>0</td>\n",
       "      <td>18393</td>\n",
       "      <td>2</td>\n",
       "      <td>168</td>\n",
       "      <td>62.0</td>\n",
       "      <td>110</td>\n",
       "      <td>80</td>\n",
       "      <td>1</td>\n",
       "      <td>1</td>\n",
       "      <td>0</td>\n",
       "      <td>0</td>\n",
       "      <td>1</td>\n",
       "      <td>0</td>\n",
       "      <td>50-60</td>\n",
       "      <td>18.452381</td>\n",
       "      <td>thin</td>\n",
       "      <td>95.0</td>\n",
       "    </tr>\n",
       "    <tr>\n",
       "      <th>1</th>\n",
       "      <td>1</td>\n",
       "      <td>20228</td>\n",
       "      <td>1</td>\n",
       "      <td>156</td>\n",
       "      <td>85.0</td>\n",
       "      <td>140</td>\n",
       "      <td>90</td>\n",
       "      <td>3</td>\n",
       "      <td>1</td>\n",
       "      <td>0</td>\n",
       "      <td>0</td>\n",
       "      <td>1</td>\n",
       "      <td>1</td>\n",
       "      <td>50-60</td>\n",
       "      <td>27.243590</td>\n",
       "      <td>overweight</td>\n",
       "      <td>115.0</td>\n",
       "    </tr>\n",
       "    <tr>\n",
       "      <th>2</th>\n",
       "      <td>2</td>\n",
       "      <td>18857</td>\n",
       "      <td>1</td>\n",
       "      <td>165</td>\n",
       "      <td>64.0</td>\n",
       "      <td>130</td>\n",
       "      <td>70</td>\n",
       "      <td>3</td>\n",
       "      <td>1</td>\n",
       "      <td>0</td>\n",
       "      <td>0</td>\n",
       "      <td>0</td>\n",
       "      <td>1</td>\n",
       "      <td>50-60</td>\n",
       "      <td>19.393939</td>\n",
       "      <td>normal</td>\n",
       "      <td>100.0</td>\n",
       "    </tr>\n",
       "    <tr>\n",
       "      <th>3</th>\n",
       "      <td>3</td>\n",
       "      <td>17623</td>\n",
       "      <td>2</td>\n",
       "      <td>169</td>\n",
       "      <td>82.0</td>\n",
       "      <td>150</td>\n",
       "      <td>100</td>\n",
       "      <td>1</td>\n",
       "      <td>1</td>\n",
       "      <td>0</td>\n",
       "      <td>0</td>\n",
       "      <td>1</td>\n",
       "      <td>1</td>\n",
       "      <td>40-50</td>\n",
       "      <td>24.260355</td>\n",
       "      <td>normal</td>\n",
       "      <td>125.0</td>\n",
       "    </tr>\n",
       "    <tr>\n",
       "      <th>4</th>\n",
       "      <td>4</td>\n",
       "      <td>17474</td>\n",
       "      <td>1</td>\n",
       "      <td>156</td>\n",
       "      <td>56.0</td>\n",
       "      <td>100</td>\n",
       "      <td>60</td>\n",
       "      <td>1</td>\n",
       "      <td>1</td>\n",
       "      <td>0</td>\n",
       "      <td>0</td>\n",
       "      <td>0</td>\n",
       "      <td>0</td>\n",
       "      <td>40-50</td>\n",
       "      <td>17.948718</td>\n",
       "      <td>thin</td>\n",
       "      <td>80.0</td>\n",
       "    </tr>\n",
       "  </tbody>\n",
       "</table>\n",
       "</div>"
      ],
      "text/plain": [
       "  id    age gender  height  weight  ap_hi  ap_lo cholesterol gluc smoke alco  \\\n",
       "0  0  18393      2     168    62.0    110     80           1    1     0    0   \n",
       "1  1  20228      1     156    85.0    140     90           3    1     0    0   \n",
       "2  2  18857      1     165    64.0    130     70           3    1     0    0   \n",
       "3  3  17623      2     169    82.0    150    100           1    1     0    0   \n",
       "4  4  17474      1     156    56.0    100     60           1    1     0    0   \n",
       "\n",
       "  active cardio age_cut        BMI     BMI_cut  aver_ap  \n",
       "0      1      0   50-60  18.452381        thin     95.0  \n",
       "1      1      1   50-60  27.243590  overweight    115.0  \n",
       "2      0      1   50-60  19.393939      normal    100.0  \n",
       "3      1      1   40-50  24.260355      normal    125.0  \n",
       "4      0      0   40-50  17.948718        thin     80.0  "
      ]
     },
     "execution_count": 83,
     "metadata": {},
     "output_type": "execute_result"
    }
   ],
   "source": [
    "## 身高呈正态分布。体重呈右偏态分布。说明数据集中的大部分身高和体重中等，被一些少数极端值拉高均值。\n",
    "## 引入新变量BMI，进行数据分箱。\n",
    "cleaned_data['BMI'] = cleaned_data['weight']/(cleaned_data['height']*0.01*2)\n",
    "BMI_bins = [0,18.5,24.9,29.9,50]\n",
    "BMI_labels = ['thin','normal','overweight','fat']\n",
    "cleaned_data['BMI_cut'] = pd.cut(cleaned_data['BMI'],BMI_bins,labels = BMI_labels)\n",
    "cleaned_data.head()"
   ]
  },
  {
   "cell_type": "code",
   "execution_count": 97,
   "id": "75c7289c-b251-47b0-9737-d90fd5128289",
   "metadata": {},
   "outputs": [
    {
     "data": {
      "image/png": "[encoded data removed]",
      "text/plain": [
       "<Figure size 640x480 with 1 Axes>"
      ]
     },
     "metadata": {},
     "output_type": "display_data"
    }
   ],
   "source": [
    "sns.barplot(cleaned_data,x = 'BMI_cut',y = 'cardio')\n",
    "plt.gca().invert_yaxis()\n",
    "plt.show()"
   ]
  },
  {
   "cell_type": "code",
   "execution_count": 85,
   "id": "e7e057f5-7952-46c6-944f-2c0e3f9626a0",
   "metadata": {},
   "outputs": [
    {
     "data": {
      "text/plain": [
       "<function matplotlib.pyplot.show(close=None, block=None)>"
      ]
     },
     "execution_count": 85,
     "metadata": {},
     "output_type": "execute_result"
    },
    {
     "data": {
      "image/png": "[encoded data removed]",
      "text/plain": [
       "<Figure size 640x480 with 1 Axes>"
      ]
     },
     "metadata": {},
     "output_type": "display_data"
    }
   ],
   "source": [
    "sns.histplot(cleaned_data,x = 'BMI_cut',hue = 'cardio')\n",
    "plt.show"
   ]
  },
  {
   "cell_type": "markdown",
   "id": "bd8fca49-e711-44dd-a448-44c5603d1ab2",
   "metadata": {},
   "source": [
    "##### 数据证明，大部分人都是正常的BMI值范围内。患心血管疾病的概率与BMI值成正比，这意味着约肥胖的人患病率越高。只有偏瘦和正常BMI的样本健康的人数较多，其余都是患病的人数大于不患病的人数。"
   ]
  },
  {
   "cell_type": "markdown",
   "id": "b6e75a57-a0d3-4b2f-b144-570cfd191930",
   "metadata": {},
   "source": [
    "#### 收缩压和舒张压对心血管疾病的影响"
   ]
  },
  {
   "cell_type": "code",
   "execution_count": 86,
   "id": "011feb7f-8e68-452f-9eed-da5b48e19c78",
   "metadata": {},
   "outputs": [
    {
     "data": {
      "text/html": [
       "<div>\n",
       "<style scoped>\n",
       "    .dataframe tbody tr th:only-of-type {\n",
       "        vertical-align: middle;\n",
       "    }\n",
       "\n",
       "    .dataframe tbody tr th {\n",
       "        vertical-align: top;\n",
       "    }\n",
       "\n",
       "    .dataframe thead th {\n",
       "        text-align: right;\n",
       "    }\n",
       "</style>\n",
       "<table border=\"1\" class=\"dataframe\">\n",
       "  <thead>\n",
       "    <tr style=\"text-align: right;\">\n",
       "      <th></th>\n",
       "      <th>id</th>\n",
       "      <th>age</th>\n",
       "      <th>gender</th>\n",
       "      <th>height</th>\n",
       "      <th>weight</th>\n",
       "      <th>ap_hi</th>\n",
       "      <th>ap_lo</th>\n",
       "      <th>cholesterol</th>\n",
       "      <th>gluc</th>\n",
       "      <th>smoke</th>\n",
       "      <th>alco</th>\n",
       "      <th>active</th>\n",
       "      <th>cardio</th>\n",
       "      <th>age_cut</th>\n",
       "      <th>BMI</th>\n",
       "      <th>BMI_cut</th>\n",
       "      <th>aver_ap</th>\n",
       "    </tr>\n",
       "  </thead>\n",
       "  <tbody>\n",
       "    <tr>\n",
       "      <th>0</th>\n",
       "      <td>0</td>\n",
       "      <td>18393</td>\n",
       "      <td>2</td>\n",
       "      <td>168</td>\n",
       "      <td>62.0</td>\n",
       "      <td>110</td>\n",
       "      <td>80</td>\n",
       "      <td>1</td>\n",
       "      <td>1</td>\n",
       "      <td>0</td>\n",
       "      <td>0</td>\n",
       "      <td>1</td>\n",
       "      <td>0</td>\n",
       "      <td>50-60</td>\n",
       "      <td>18.452381</td>\n",
       "      <td>thin</td>\n",
       "      <td>95.0</td>\n",
       "    </tr>\n",
       "    <tr>\n",
       "      <th>1</th>\n",
       "      <td>1</td>\n",
       "      <td>20228</td>\n",
       "      <td>1</td>\n",
       "      <td>156</td>\n",
       "      <td>85.0</td>\n",
       "      <td>140</td>\n",
       "      <td>90</td>\n",
       "      <td>3</td>\n",
       "      <td>1</td>\n",
       "      <td>0</td>\n",
       "      <td>0</td>\n",
       "      <td>1</td>\n",
       "      <td>1</td>\n",
       "      <td>50-60</td>\n",
       "      <td>27.243590</td>\n",
       "      <td>overweight</td>\n",
       "      <td>115.0</td>\n",
       "    </tr>\n",
       "    <tr>\n",
       "      <th>2</th>\n",
       "      <td>2</td>\n",
       "      <td>18857</td>\n",
       "      <td>1</td>\n",
       "      <td>165</td>\n",
       "      <td>64.0</td>\n",
       "      <td>130</td>\n",
       "      <td>70</td>\n",
       "      <td>3</td>\n",
       "      <td>1</td>\n",
       "      <td>0</td>\n",
       "      <td>0</td>\n",
       "      <td>0</td>\n",
       "      <td>1</td>\n",
       "      <td>50-60</td>\n",
       "      <td>19.393939</td>\n",
       "      <td>normal</td>\n",
       "      <td>100.0</td>\n",
       "    </tr>\n",
       "    <tr>\n",
       "      <th>3</th>\n",
       "      <td>3</td>\n",
       "      <td>17623</td>\n",
       "      <td>2</td>\n",
       "      <td>169</td>\n",
       "      <td>82.0</td>\n",
       "      <td>150</td>\n",
       "      <td>100</td>\n",
       "      <td>1</td>\n",
       "      <td>1</td>\n",
       "      <td>0</td>\n",
       "      <td>0</td>\n",
       "      <td>1</td>\n",
       "      <td>1</td>\n",
       "      <td>40-50</td>\n",
       "      <td>24.260355</td>\n",
       "      <td>normal</td>\n",
       "      <td>125.0</td>\n",
       "    </tr>\n",
       "    <tr>\n",
       "      <th>4</th>\n",
       "      <td>4</td>\n",
       "      <td>17474</td>\n",
       "      <td>1</td>\n",
       "      <td>156</td>\n",
       "      <td>56.0</td>\n",
       "      <td>100</td>\n",
       "      <td>60</td>\n",
       "      <td>1</td>\n",
       "      <td>1</td>\n",
       "      <td>0</td>\n",
       "      <td>0</td>\n",
       "      <td>0</td>\n",
       "      <td>0</td>\n",
       "      <td>40-50</td>\n",
       "      <td>17.948718</td>\n",
       "      <td>thin</td>\n",
       "      <td>80.0</td>\n",
       "    </tr>\n",
       "  </tbody>\n",
       "</table>\n",
       "</div>"
      ],
      "text/plain": [
       "  id    age gender  height  weight  ap_hi  ap_lo cholesterol gluc smoke alco  \\\n",
       "0  0  18393      2     168    62.0    110     80           1    1     0    0   \n",
       "1  1  20228      1     156    85.0    140     90           3    1     0    0   \n",
       "2  2  18857      1     165    64.0    130     70           3    1     0    0   \n",
       "3  3  17623      2     169    82.0    150    100           1    1     0    0   \n",
       "4  4  17474      1     156    56.0    100     60           1    1     0    0   \n",
       "\n",
       "  active cardio age_cut        BMI     BMI_cut  aver_ap  \n",
       "0      1      0   50-60  18.452381        thin     95.0  \n",
       "1      1      1   50-60  27.243590  overweight    115.0  \n",
       "2      0      1   50-60  19.393939      normal    100.0  \n",
       "3      1      1   40-50  24.260355      normal    125.0  \n",
       "4      0      0   40-50  17.948718        thin     80.0  "
      ]
     },
     "execution_count": 86,
     "metadata": {},
     "output_type": "execute_result"
    }
   ],
   "source": [
    "## 设定新变量aver ap，用于计算样本血压的平均值。\n",
    "cleaned_data['aver_ap'] = (cleaned_data['ap_hi'] + cleaned_data['ap_lo']) / 2\n",
    "cleaned_data.head()"
   ]
  },
  {
   "cell_type": "code",
   "execution_count": 87,
   "id": "e40a4ea0-5e2c-4141-8093-117aa309a622",
   "metadata": {},
   "outputs": [
    {
     "data": {
      "image/png": "[encoded data removed]",
      "text/plain": [
       "<Figure size 1200x500 with 1 Axes>"
      ]
     },
     "metadata": {},
     "output_type": "display_data"
    }
   ],
   "source": [
    "plt.subplots(1, 1, figsize=[12, 5])\n",
    "sns.histplot(cleaned_data,x = 'aver_ap',hue = 'cardio')\n",
    "plt.show()"
   ]
  },
  {
   "cell_type": "markdown",
   "id": "e3aa13d7-831a-4246-8f89-375550a04cf2",
   "metadata": {},
   "source": [
    "##### 观察图表可知，平均血压小于等于100时，样本中不患病的数量较多。但当平均血压大于100时，患病的数量远大于不患病的数量。"
   ]
  },
  {
   "cell_type": "markdown",
   "id": "85c71589-1a5f-474b-a683-9bfae9dec4bf",
   "metadata": {},
   "source": [
    " #### 胆固醇对心血管疾病的影响"
   ]
  },
  {
   "cell_type": "code",
   "execution_count": 88,
   "id": "c21a9aca-bbde-4f73-8519-9bcafd43a5e0",
   "metadata": {},
   "outputs": [
    {
     "data": {
      "image/png": "[encoded data removed]",
      "text/plain": [
       "<Figure size 640x480 with 1 Axes>"
      ]
     },
     "metadata": {},
     "output_type": "display_data"
    }
   ],
   "source": [
    "s2 = cleaned_data['cholesterol'].value_counts()\n",
    "plt.pie(s2,labels = s2.index,autopct = '%.2f%%')\n",
    "plt.show()"
   ]
  },
  {
   "cell_type": "code",
   "execution_count": 89,
   "id": "22efedd8-c592-453e-b4bd-a8664b3cd7ca",
   "metadata": {},
   "outputs": [
    {
     "data": {
      "image/png": "[encoded data removed]",
      "text/plain": [
       "<Figure size 640x480 with 2 Axes>"
      ]
     },
     "metadata": {},
     "output_type": "display_data"
    }
   ],
   "source": [
    "figure, axes = plt.subplots(1, 2)\n",
    "sns.countplot(cleaned_data,x = 'cholesterol',hue = 'cardio',ax = axes[0])\n",
    "sns.barplot(cleaned_data,x ='cholesterol',y = 'cardio',ax = axes[1])\n",
    "plt.gca().invert_yaxis()\n",
    "plt.show()"
   ]
  },
  {
   "cell_type": "markdown",
   "id": "d3f4c300-5b88-4958-b60a-b8c8c9ef8fcc",
   "metadata": {},
   "source": [
    "##### 样本中，胆固醇为正常范围的人数最多，占3/4。随着胆固醇越来越高，患病数量的占比也在提升。得出结论：胆固醇越高，患病概率越高。"
   ]
  },
  {
   "cell_type": "markdown",
   "id": "3399b074-30d6-4749-a4fc-9f132ad7bc7c",
   "metadata": {},
   "source": [
    "#### 胶质对心血管疾病的影响"
   ]
  },
  {
   "cell_type": "code",
   "execution_count": 90,
   "id": "a06a0d23-e4d0-49d6-a868-41fcfc7163f2",
   "metadata": {},
   "outputs": [
    {
     "data": {
      "image/png": "[encoded data removed]",
      "text/plain": [
       "<Figure size 640x480 with 2 Axes>"
      ]
     },
     "metadata": {},
     "output_type": "display_data"
    }
   ],
   "source": [
    "figure, axes = plt.subplots(1, 2)\n",
    "sns.histplot(cleaned_data,x = 'gluc',hue = 'cardio',ax = axes[0])\n",
    "sns.barplot(cleaned_data,x ='gluc',y = 'cardio',ax = axes[1])\n",
    "plt.gca().invert_yaxis()\n",
    "plt.show()"
   ]
  },
  {
   "cell_type": "markdown",
   "id": "a820d23d-83af-47bd-8174-0cef63211efd",
   "metadata": {},
   "source": [
    "##### 大部分样本胶质为正常值。在正常值中，未患病人数大于患病人数。在高于正常值样本中，皆是患病人数大于未患病人数。胶质越高，患病的概率也上升。"
   ]
  },
  {
   "cell_type": "markdown",
   "id": "ce6516ff-005f-497b-9c06-4cfd4ed56bff",
   "metadata": {},
   "source": [
    "#### 抽烟和喝酒对心血管疾病的影响"
   ]
  },
  {
   "cell_type": "code",
   "execution_count": 95,
   "id": "8e2ef709-ec40-455e-aa46-424ec1820b71",
   "metadata": {},
   "outputs": [
    {
     "data": {
      "image/png": "[encoded data removed]",
      "text/plain": [
       "<Figure size 640x480 with 2 Axes>"
      ]
     },
     "metadata": {},
     "output_type": "display_data"
    }
   ],
   "source": [
    "figure, axes = plt.subplots(1, 2)\n",
    "sns.barplot(cleaned_data,x ='smoke',y = 'cardio',ax = axes[0])\n",
    "sns.barplot(cleaned_data,x ='alco',y = 'cardio',ax = axes[1])\n",
    "plt.show()"
   ]
  },
  {
   "cell_type": "markdown",
   "id": "be3401df-2ce4-4187-86de-192a89d5f1ef",
   "metadata": {},
   "source": [
    "##### 抽烟和喝酒对心血管疾病的影响并不十分明显，患病概率接近。"
   ]
  },
  {
   "cell_type": "markdown",
   "id": "d74bfaf6-76eb-4e09-b449-1a3fa6e2c24d",
   "metadata": {},
   "source": [
    "#### 运动对心血管疾病的影响"
   ]
  },
  {
   "cell_type": "code",
   "execution_count": 92,
   "id": "9694600e-2c11-4b0f-b49e-a7a07e52f75e",
   "metadata": {},
   "outputs": [
    {
     "data": {
      "text/plain": [
       "active\n",
       "1    55229\n",
       "0    13517\n",
       "Name: count, dtype: int64"
      ]
     },
     "execution_count": 92,
     "metadata": {},
     "output_type": "execute_result"
    }
   ],
   "source": [
    "cleaned_data['active'].value_counts()"
   ]
  },
  {
   "cell_type": "code",
   "execution_count": 93,
   "id": "f2df928a-3cec-4b9b-bb7c-1f90781a13f3",
   "metadata": {},
   "outputs": [
    {
     "data": {
      "image/png": "[encoded data removed]",
      "text/plain": [
       "<Figure size 640x480 with 1 Axes>"
      ]
     },
     "metadata": {},
     "output_type": "display_data"
    }
   ],
   "source": [
    "sns.countplot(cleaned_data,x = 'active',hue = 'cardio')\n",
    "plt.show()"
   ]
  },
  {
   "cell_type": "markdown",
   "id": "d5ec42bf-29f7-4345-83b9-734f86c49fab",
   "metadata": {},
   "source": [
    "##### 不运动会增加患心血管疾病的概率。"
   ]
  },
  {
   "cell_type": "markdown",
   "id": "f5d3025c-95d4-4e34-9638-f450e1f03c5c",
   "metadata": {},
   "source": [
    "### 保存清洗后的数据"
   ]
  },
  {
   "cell_type": "code",
   "execution_count": 42,
   "id": "e2eff95a-94b0-4d2c-9b1f-8458816eeb98",
   "metadata": {},
   "outputs": [],
   "source": [
    "cleaned_data.to_csv('cleaned_cardio_data.csv',index = False)"
   ]
  },
  {
   "cell_type": "markdown",
   "id": "2ca0ebb9-1dda-47fa-a212-beb81ffc6b99",
   "metadata": {},
   "source": [
    "### 建立回归模型"
   ]
  },
  {
   "cell_type": "code",
   "execution_count": 43,
   "id": "9cbdbc6d-7e70-4096-83e2-5ba2a06067ea",
   "metadata": {},
   "outputs": [],
   "source": [
    "import statsmodels.api as sm"
   ]
  },
  {
   "cell_type": "code",
   "execution_count": 44,
   "id": "0efdef1e-b5e5-4534-a9e8-ea96234ac8a8",
   "metadata": {},
   "outputs": [
    {
     "data": {
      "text/html": [
       "<div>\n",
       "<style scoped>\n",
       "    .dataframe tbody tr th:only-of-type {\n",
       "        vertical-align: middle;\n",
       "    }\n",
       "\n",
       "    .dataframe tbody tr th {\n",
       "        vertical-align: top;\n",
       "    }\n",
       "\n",
       "    .dataframe thead th {\n",
       "        text-align: right;\n",
       "    }\n",
       "</style>\n",
       "<table border=\"1\" class=\"dataframe\">\n",
       "  <thead>\n",
       "    <tr style=\"text-align: right;\">\n",
       "      <th></th>\n",
       "      <th>age</th>\n",
       "      <th>gender</th>\n",
       "      <th>height</th>\n",
       "      <th>weight</th>\n",
       "      <th>ap_hi</th>\n",
       "      <th>ap_lo</th>\n",
       "      <th>cholesterol</th>\n",
       "      <th>gluc</th>\n",
       "      <th>smoke</th>\n",
       "      <th>alco</th>\n",
       "      <th>active</th>\n",
       "      <th>cardio</th>\n",
       "      <th>BMI</th>\n",
       "      <th>aver_ap</th>\n",
       "    </tr>\n",
       "  </thead>\n",
       "  <tbody>\n",
       "    <tr>\n",
       "      <th>0</th>\n",
       "      <td>18393</td>\n",
       "      <td>2</td>\n",
       "      <td>168</td>\n",
       "      <td>62.0</td>\n",
       "      <td>110</td>\n",
       "      <td>80</td>\n",
       "      <td>1</td>\n",
       "      <td>1</td>\n",
       "      <td>0</td>\n",
       "      <td>0</td>\n",
       "      <td>1</td>\n",
       "      <td>0</td>\n",
       "      <td>18.452381</td>\n",
       "      <td>95.0</td>\n",
       "    </tr>\n",
       "    <tr>\n",
       "      <th>1</th>\n",
       "      <td>20228</td>\n",
       "      <td>1</td>\n",
       "      <td>156</td>\n",
       "      <td>85.0</td>\n",
       "      <td>140</td>\n",
       "      <td>90</td>\n",
       "      <td>3</td>\n",
       "      <td>1</td>\n",
       "      <td>0</td>\n",
       "      <td>0</td>\n",
       "      <td>1</td>\n",
       "      <td>1</td>\n",
       "      <td>27.243590</td>\n",
       "      <td>115.0</td>\n",
       "    </tr>\n",
       "    <tr>\n",
       "      <th>2</th>\n",
       "      <td>18857</td>\n",
       "      <td>1</td>\n",
       "      <td>165</td>\n",
       "      <td>64.0</td>\n",
       "      <td>130</td>\n",
       "      <td>70</td>\n",
       "      <td>3</td>\n",
       "      <td>1</td>\n",
       "      <td>0</td>\n",
       "      <td>0</td>\n",
       "      <td>0</td>\n",
       "      <td>1</td>\n",
       "      <td>19.393939</td>\n",
       "      <td>100.0</td>\n",
       "    </tr>\n",
       "    <tr>\n",
       "      <th>3</th>\n",
       "      <td>17623</td>\n",
       "      <td>2</td>\n",
       "      <td>169</td>\n",
       "      <td>82.0</td>\n",
       "      <td>150</td>\n",
       "      <td>100</td>\n",
       "      <td>1</td>\n",
       "      <td>1</td>\n",
       "      <td>0</td>\n",
       "      <td>0</td>\n",
       "      <td>1</td>\n",
       "      <td>1</td>\n",
       "      <td>24.260355</td>\n",
       "      <td>125.0</td>\n",
       "    </tr>\n",
       "    <tr>\n",
       "      <th>4</th>\n",
       "      <td>17474</td>\n",
       "      <td>1</td>\n",
       "      <td>156</td>\n",
       "      <td>56.0</td>\n",
       "      <td>100</td>\n",
       "      <td>60</td>\n",
       "      <td>1</td>\n",
       "      <td>1</td>\n",
       "      <td>0</td>\n",
       "      <td>0</td>\n",
       "      <td>0</td>\n",
       "      <td>0</td>\n",
       "      <td>17.948718</td>\n",
       "      <td>80.0</td>\n",
       "    </tr>\n",
       "  </tbody>\n",
       "</table>\n",
       "</div>"
      ],
      "text/plain": [
       "     age gender  height  weight  ap_hi  ap_lo cholesterol gluc smoke alco  \\\n",
       "0  18393      2     168    62.0    110     80           1    1     0    0   \n",
       "1  20228      1     156    85.0    140     90           3    1     0    0   \n",
       "2  18857      1     165    64.0    130     70           3    1     0    0   \n",
       "3  17623      2     169    82.0    150    100           1    1     0    0   \n",
       "4  17474      1     156    56.0    100     60           1    1     0    0   \n",
       "\n",
       "  active cardio        BMI  aver_ap  \n",
       "0      1      0  18.452381     95.0  \n",
       "1      1      1  27.243590    115.0  \n",
       "2      0      1  19.393939    100.0  \n",
       "3      1      1  24.260355    125.0  \n",
       "4      0      0  17.948718     80.0  "
      ]
     },
     "execution_count": 44,
     "metadata": {},
     "output_type": "execute_result"
    }
   ],
   "source": [
    "## 删除不影响因变量的自变量\n",
    "lr_cleaned = cleaned_data.copy()\n",
    "lr_cleaned = lr_cleaned.drop(['age_cut','BMI_cut','id'],axis = 1)\n",
    "lr_cleaned.head()"
   ]
  },
  {
   "cell_type": "code",
   "execution_count": 45,
   "id": "caeecc7b-a27e-4390-bae0-46da2e488dff",
   "metadata": {},
   "outputs": [
    {
     "data": {
      "text/html": [
       "<div>\n",
       "<style scoped>\n",
       "    .dataframe tbody tr th:only-of-type {\n",
       "        vertical-align: middle;\n",
       "    }\n",
       "\n",
       "    .dataframe tbody tr th {\n",
       "        vertical-align: top;\n",
       "    }\n",
       "\n",
       "    .dataframe thead th {\n",
       "        text-align: right;\n",
       "    }\n",
       "</style>\n",
       "<table border=\"1\" class=\"dataframe\">\n",
       "  <thead>\n",
       "    <tr style=\"text-align: right;\">\n",
       "      <th></th>\n",
       "      <th>gender</th>\n",
       "      <th>height</th>\n",
       "      <th>weight</th>\n",
       "      <th>ap_hi</th>\n",
       "      <th>ap_lo</th>\n",
       "      <th>cholesterol</th>\n",
       "      <th>gluc</th>\n",
       "      <th>smoke</th>\n",
       "      <th>alco</th>\n",
       "      <th>active</th>\n",
       "      <th>cardio</th>\n",
       "      <th>BMI</th>\n",
       "      <th>aver_ap</th>\n",
       "      <th>age(years)</th>\n",
       "    </tr>\n",
       "  </thead>\n",
       "  <tbody>\n",
       "    <tr>\n",
       "      <th>0</th>\n",
       "      <td>2</td>\n",
       "      <td>168</td>\n",
       "      <td>62.0</td>\n",
       "      <td>110</td>\n",
       "      <td>80</td>\n",
       "      <td>1</td>\n",
       "      <td>1</td>\n",
       "      <td>0</td>\n",
       "      <td>0</td>\n",
       "      <td>1</td>\n",
       "      <td>0</td>\n",
       "      <td>18.452381</td>\n",
       "      <td>95.0</td>\n",
       "      <td>50.391781</td>\n",
       "    </tr>\n",
       "    <tr>\n",
       "      <th>1</th>\n",
       "      <td>1</td>\n",
       "      <td>156</td>\n",
       "      <td>85.0</td>\n",
       "      <td>140</td>\n",
       "      <td>90</td>\n",
       "      <td>3</td>\n",
       "      <td>1</td>\n",
       "      <td>0</td>\n",
       "      <td>0</td>\n",
       "      <td>1</td>\n",
       "      <td>1</td>\n",
       "      <td>27.243590</td>\n",
       "      <td>115.0</td>\n",
       "      <td>55.419178</td>\n",
       "    </tr>\n",
       "    <tr>\n",
       "      <th>2</th>\n",
       "      <td>1</td>\n",
       "      <td>165</td>\n",
       "      <td>64.0</td>\n",
       "      <td>130</td>\n",
       "      <td>70</td>\n",
       "      <td>3</td>\n",
       "      <td>1</td>\n",
       "      <td>0</td>\n",
       "      <td>0</td>\n",
       "      <td>0</td>\n",
       "      <td>1</td>\n",
       "      <td>19.393939</td>\n",
       "      <td>100.0</td>\n",
       "      <td>51.663014</td>\n",
       "    </tr>\n",
       "    <tr>\n",
       "      <th>3</th>\n",
       "      <td>2</td>\n",
       "      <td>169</td>\n",
       "      <td>82.0</td>\n",
       "      <td>150</td>\n",
       "      <td>100</td>\n",
       "      <td>1</td>\n",
       "      <td>1</td>\n",
       "      <td>0</td>\n",
       "      <td>0</td>\n",
       "      <td>1</td>\n",
       "      <td>1</td>\n",
       "      <td>24.260355</td>\n",
       "      <td>125.0</td>\n",
       "      <td>48.282192</td>\n",
       "    </tr>\n",
       "    <tr>\n",
       "      <th>4</th>\n",
       "      <td>1</td>\n",
       "      <td>156</td>\n",
       "      <td>56.0</td>\n",
       "      <td>100</td>\n",
       "      <td>60</td>\n",
       "      <td>1</td>\n",
       "      <td>1</td>\n",
       "      <td>0</td>\n",
       "      <td>0</td>\n",
       "      <td>0</td>\n",
       "      <td>0</td>\n",
       "      <td>17.948718</td>\n",
       "      <td>80.0</td>\n",
       "      <td>47.873973</td>\n",
       "    </tr>\n",
       "  </tbody>\n",
       "</table>\n",
       "</div>"
      ],
      "text/plain": [
       "  gender  height  weight  ap_hi  ap_lo cholesterol gluc smoke alco active  \\\n",
       "0      2     168    62.0    110     80           1    1     0    0      1   \n",
       "1      1     156    85.0    140     90           3    1     0    0      1   \n",
       "2      1     165    64.0    130     70           3    1     0    0      0   \n",
       "3      2     169    82.0    150    100           1    1     0    0      1   \n",
       "4      1     156    56.0    100     60           1    1     0    0      0   \n",
       "\n",
       "  cardio        BMI  aver_ap  age(years)  \n",
       "0      0  18.452381     95.0   50.391781  \n",
       "1      1  27.243590    115.0   55.419178  \n",
       "2      1  19.393939    100.0   51.663014  \n",
       "3      1  24.260355    125.0   48.282192  \n",
       "4      0  17.948718     80.0   47.873973  "
      ]
     },
     "execution_count": 45,
     "metadata": {},
     "output_type": "execute_result"
    }
   ],
   "source": [
    "## 将年龄的单位转化成岁\n",
    "lr_cleaned['age(years)'] = lr_cleaned['age'] / 365\n",
    "lr_cleaned = lr_cleaned.drop('age',axis = 1)\n",
    "lr_cleaned.head()"
   ]
  },
  {
   "cell_type": "code",
   "execution_count": 46,
   "id": "e7c83484-8af9-4e89-8d7c-912a4cb95f0a",
   "metadata": {},
   "outputs": [
    {
     "data": {
      "text/html": [
       "<div>\n",
       "<style scoped>\n",
       "    .dataframe tbody tr th:only-of-type {\n",
       "        vertical-align: middle;\n",
       "    }\n",
       "\n",
       "    .dataframe tbody tr th {\n",
       "        vertical-align: top;\n",
       "    }\n",
       "\n",
       "    .dataframe thead th {\n",
       "        text-align: right;\n",
       "    }\n",
       "</style>\n",
       "<table border=\"1\" class=\"dataframe\">\n",
       "  <thead>\n",
       "    <tr style=\"text-align: right;\">\n",
       "      <th></th>\n",
       "      <th>height</th>\n",
       "      <th>weight</th>\n",
       "      <th>ap_hi</th>\n",
       "      <th>ap_lo</th>\n",
       "      <th>cardio</th>\n",
       "      <th>BMI</th>\n",
       "      <th>aver_ap</th>\n",
       "      <th>age(years)</th>\n",
       "      <th>gender_2</th>\n",
       "      <th>cholesterol_2</th>\n",
       "      <th>cholesterol_3</th>\n",
       "      <th>gluc_2</th>\n",
       "      <th>gluc_3</th>\n",
       "      <th>smoke_1</th>\n",
       "      <th>alco_1</th>\n",
       "      <th>active_1</th>\n",
       "    </tr>\n",
       "  </thead>\n",
       "  <tbody>\n",
       "    <tr>\n",
       "      <th>0</th>\n",
       "      <td>168</td>\n",
       "      <td>62.0</td>\n",
       "      <td>110</td>\n",
       "      <td>80</td>\n",
       "      <td>0</td>\n",
       "      <td>18.452381</td>\n",
       "      <td>95.0</td>\n",
       "      <td>50.391781</td>\n",
       "      <td>1</td>\n",
       "      <td>0</td>\n",
       "      <td>0</td>\n",
       "      <td>0</td>\n",
       "      <td>0</td>\n",
       "      <td>0</td>\n",
       "      <td>0</td>\n",
       "      <td>1</td>\n",
       "    </tr>\n",
       "    <tr>\n",
       "      <th>1</th>\n",
       "      <td>156</td>\n",
       "      <td>85.0</td>\n",
       "      <td>140</td>\n",
       "      <td>90</td>\n",
       "      <td>1</td>\n",
       "      <td>27.243590</td>\n",
       "      <td>115.0</td>\n",
       "      <td>55.419178</td>\n",
       "      <td>0</td>\n",
       "      <td>0</td>\n",
       "      <td>1</td>\n",
       "      <td>0</td>\n",
       "      <td>0</td>\n",
       "      <td>0</td>\n",
       "      <td>0</td>\n",
       "      <td>1</td>\n",
       "    </tr>\n",
       "    <tr>\n",
       "      <th>2</th>\n",
       "      <td>165</td>\n",
       "      <td>64.0</td>\n",
       "      <td>130</td>\n",
       "      <td>70</td>\n",
       "      <td>1</td>\n",
       "      <td>19.393939</td>\n",
       "      <td>100.0</td>\n",
       "      <td>51.663014</td>\n",
       "      <td>0</td>\n",
       "      <td>0</td>\n",
       "      <td>1</td>\n",
       "      <td>0</td>\n",
       "      <td>0</td>\n",
       "      <td>0</td>\n",
       "      <td>0</td>\n",
       "      <td>0</td>\n",
       "    </tr>\n",
       "    <tr>\n",
       "      <th>3</th>\n",
       "      <td>169</td>\n",
       "      <td>82.0</td>\n",
       "      <td>150</td>\n",
       "      <td>100</td>\n",
       "      <td>1</td>\n",
       "      <td>24.260355</td>\n",
       "      <td>125.0</td>\n",
       "      <td>48.282192</td>\n",
       "      <td>1</td>\n",
       "      <td>0</td>\n",
       "      <td>0</td>\n",
       "      <td>0</td>\n",
       "      <td>0</td>\n",
       "      <td>0</td>\n",
       "      <td>0</td>\n",
       "      <td>1</td>\n",
       "    </tr>\n",
       "    <tr>\n",
       "      <th>4</th>\n",
       "      <td>156</td>\n",
       "      <td>56.0</td>\n",
       "      <td>100</td>\n",
       "      <td>60</td>\n",
       "      <td>0</td>\n",
       "      <td>17.948718</td>\n",
       "      <td>80.0</td>\n",
       "      <td>47.873973</td>\n",
       "      <td>0</td>\n",
       "      <td>0</td>\n",
       "      <td>0</td>\n",
       "      <td>0</td>\n",
       "      <td>0</td>\n",
       "      <td>0</td>\n",
       "      <td>0</td>\n",
       "      <td>0</td>\n",
       "    </tr>\n",
       "  </tbody>\n",
       "</table>\n",
       "</div>"
      ],
      "text/plain": [
       "   height  weight  ap_hi  ap_lo cardio        BMI  aver_ap  age(years)  \\\n",
       "0     168    62.0    110     80      0  18.452381     95.0   50.391781   \n",
       "1     156    85.0    140     90      1  27.243590    115.0   55.419178   \n",
       "2     165    64.0    130     70      1  19.393939    100.0   51.663014   \n",
       "3     169    82.0    150    100      1  24.260355    125.0   48.282192   \n",
       "4     156    56.0    100     60      0  17.948718     80.0   47.873973   \n",
       "\n",
       "   gender_2  cholesterol_2  cholesterol_3  gluc_2  gluc_3  smoke_1  alco_1  \\\n",
       "0         1              0              0       0       0        0       0   \n",
       "1         0              0              1       0       0        0       0   \n",
       "2         0              0              1       0       0        0       0   \n",
       "3         1              0              0       0       0        0       0   \n",
       "4         0              0              0       0       0        0       0   \n",
       "\n",
       "   active_1  \n",
       "0         1  \n",
       "1         1  \n",
       "2         0  \n",
       "3         1  \n",
       "4         0  "
      ]
     },
     "execution_count": 46,
     "metadata": {},
     "output_type": "execute_result"
    }
   ],
   "source": [
    "## 把分类变量转化成虚拟变量\n",
    "lr_cleaned = pd.get_dummies(lr_cleaned,columns = ['gender','cholesterol','gluc','smoke','alco','active'],drop_first=True,dtype = int)\n",
    "lr_cleaned.head()"
   ]
  },
  {
   "cell_type": "code",
   "execution_count": 47,
   "id": "ad14eb51-20a7-43d2-8585-536a187a8173",
   "metadata": {},
   "outputs": [],
   "source": [
    "## 回归模型中的自变量和因变量都应该是数字类型，将cardio修改为int。\n",
    "lr_cleaned['cardio'] = lr_cleaned['cardio'].astype('int')"
   ]
  },
  {
   "cell_type": "code",
   "execution_count": 48,
   "id": "8cddb8cd-7091-4500-a5a3-78e6b05fde82",
   "metadata": {},
   "outputs": [
    {
     "name": "stdout",
     "output_type": "stream",
     "text": [
      "int64\n"
     ]
    }
   ],
   "source": [
    "## 指定自变量和因变量\n",
    "y = lr_cleaned['cardio']\n",
    "x = lr_cleaned.drop('cardio',axis = 1)\n",
    "print(y.dtype)"
   ]
  },
  {
   "cell_type": "code",
   "execution_count": 49,
   "id": "0f7764ab-947e-494d-a63f-a5a69c0ae896",
   "metadata": {},
   "outputs": [
    {
     "data": {
      "text/html": [
       "<div>\n",
       "<style scoped>\n",
       "    .dataframe tbody tr th:only-of-type {\n",
       "        vertical-align: middle;\n",
       "    }\n",
       "\n",
       "    .dataframe tbody tr th {\n",
       "        vertical-align: top;\n",
       "    }\n",
       "\n",
       "    .dataframe thead th {\n",
       "        text-align: right;\n",
       "    }\n",
       "</style>\n",
       "<table border=\"1\" class=\"dataframe\">\n",
       "  <thead>\n",
       "    <tr style=\"text-align: right;\">\n",
       "      <th></th>\n",
       "      <th>height</th>\n",
       "      <th>weight</th>\n",
       "      <th>ap_hi</th>\n",
       "      <th>ap_lo</th>\n",
       "      <th>BMI</th>\n",
       "      <th>aver_ap</th>\n",
       "      <th>age(years)</th>\n",
       "      <th>gender_2</th>\n",
       "      <th>cholesterol_2</th>\n",
       "      <th>cholesterol_3</th>\n",
       "      <th>gluc_2</th>\n",
       "      <th>gluc_3</th>\n",
       "      <th>smoke_1</th>\n",
       "      <th>alco_1</th>\n",
       "      <th>active_1</th>\n",
       "    </tr>\n",
       "  </thead>\n",
       "  <tbody>\n",
       "    <tr>\n",
       "      <th>height</th>\n",
       "      <td>1.000000</td>\n",
       "      <td>0.291779</td>\n",
       "      <td>0.018245</td>\n",
       "      <td>0.036083</td>\n",
       "      <td>0.006385</td>\n",
       "      <td>0.026565</td>\n",
       "      <td>0.081429</td>\n",
       "      <td>0.499333</td>\n",
       "      <td>0.024394</td>\n",
       "      <td>0.040680</td>\n",
       "      <td>0.012830</td>\n",
       "      <td>0.013747</td>\n",
       "      <td>0.188307</td>\n",
       "      <td>0.095227</td>\n",
       "      <td>0.007481</td>\n",
       "    </tr>\n",
       "    <tr>\n",
       "      <th>weight</th>\n",
       "      <td>0.291779</td>\n",
       "      <td>1.000000</td>\n",
       "      <td>0.269918</td>\n",
       "      <td>0.251950</td>\n",
       "      <td>0.951924</td>\n",
       "      <td>0.283123</td>\n",
       "      <td>0.054619</td>\n",
       "      <td>0.156026</td>\n",
       "      <td>0.067063</td>\n",
       "      <td>0.114371</td>\n",
       "      <td>0.094730</td>\n",
       "      <td>0.068679</td>\n",
       "      <td>0.067019</td>\n",
       "      <td>0.067875</td>\n",
       "      <td>0.017718</td>\n",
       "    </tr>\n",
       "    <tr>\n",
       "      <th>ap_hi</th>\n",
       "      <td>0.018245</td>\n",
       "      <td>0.269918</td>\n",
       "      <td>1.000000</td>\n",
       "      <td>0.709145</td>\n",
       "      <td>0.272783</td>\n",
       "      <td>0.961479</td>\n",
       "      <td>0.208488</td>\n",
       "      <td>0.061169</td>\n",
       "      <td>0.099463</td>\n",
       "      <td>0.153439</td>\n",
       "      <td>0.075895</td>\n",
       "      <td>0.062778</td>\n",
       "      <td>0.027204</td>\n",
       "      <td>0.033183</td>\n",
       "      <td>0.001275</td>\n",
       "    </tr>\n",
       "    <tr>\n",
       "      <th>ap_lo</th>\n",
       "      <td>0.036083</td>\n",
       "      <td>0.251950</td>\n",
       "      <td>0.709145</td>\n",
       "      <td>1.000000</td>\n",
       "      <td>0.249682</td>\n",
       "      <td>0.875635</td>\n",
       "      <td>0.154310</td>\n",
       "      <td>0.068157</td>\n",
       "      <td>0.073073</td>\n",
       "      <td>0.131530</td>\n",
       "      <td>0.061191</td>\n",
       "      <td>0.051415</td>\n",
       "      <td>0.025805</td>\n",
       "      <td>0.041030</td>\n",
       "      <td>0.000055</td>\n",
       "    </tr>\n",
       "    <tr>\n",
       "      <th>BMI</th>\n",
       "      <td>0.006385</td>\n",
       "      <td>0.951924</td>\n",
       "      <td>0.272783</td>\n",
       "      <td>0.249682</td>\n",
       "      <td>1.000000</td>\n",
       "      <td>0.284201</td>\n",
       "      <td>0.078520</td>\n",
       "      <td>0.022722</td>\n",
       "      <td>0.073637</td>\n",
       "      <td>0.128361</td>\n",
       "      <td>0.099568</td>\n",
       "      <td>0.074118</td>\n",
       "      <td>0.017399</td>\n",
       "      <td>0.043087</td>\n",
       "      <td>0.016776</td>\n",
       "    </tr>\n",
       "    <tr>\n",
       "      <th>aver_ap</th>\n",
       "      <td>0.026565</td>\n",
       "      <td>0.283123</td>\n",
       "      <td>0.961479</td>\n",
       "      <td>0.875635</td>\n",
       "      <td>0.284201</td>\n",
       "      <td>1.000000</td>\n",
       "      <td>0.202976</td>\n",
       "      <td>0.068473</td>\n",
       "      <td>0.096622</td>\n",
       "      <td>0.156386</td>\n",
       "      <td>0.075845</td>\n",
       "      <td>0.063048</td>\n",
       "      <td>0.028695</td>\n",
       "      <td>0.038726</td>\n",
       "      <td>0.000852</td>\n",
       "    </tr>\n",
       "    <tr>\n",
       "      <th>age(years)</th>\n",
       "      <td>0.081429</td>\n",
       "      <td>0.054619</td>\n",
       "      <td>0.208488</td>\n",
       "      <td>0.154310</td>\n",
       "      <td>0.078520</td>\n",
       "      <td>0.202976</td>\n",
       "      <td>1.000000</td>\n",
       "      <td>0.023236</td>\n",
       "      <td>0.021918</td>\n",
       "      <td>0.153804</td>\n",
       "      <td>0.024880</td>\n",
       "      <td>0.094625</td>\n",
       "      <td>0.047900</td>\n",
       "      <td>0.029047</td>\n",
       "      <td>0.010399</td>\n",
       "    </tr>\n",
       "    <tr>\n",
       "      <th>gender_2</th>\n",
       "      <td>0.499333</td>\n",
       "      <td>0.156026</td>\n",
       "      <td>0.061169</td>\n",
       "      <td>0.068157</td>\n",
       "      <td>0.022722</td>\n",
       "      <td>0.068473</td>\n",
       "      <td>0.023236</td>\n",
       "      <td>1.000000</td>\n",
       "      <td>0.017688</td>\n",
       "      <td>0.029469</td>\n",
       "      <td>0.005358</td>\n",
       "      <td>0.019996</td>\n",
       "      <td>0.338816</td>\n",
       "      <td>0.171473</td>\n",
       "      <td>0.005853</td>\n",
       "    </tr>\n",
       "    <tr>\n",
       "      <th>cholesterol_2</th>\n",
       "      <td>0.024394</td>\n",
       "      <td>0.067063</td>\n",
       "      <td>0.099463</td>\n",
       "      <td>0.073073</td>\n",
       "      <td>0.073637</td>\n",
       "      <td>0.096622</td>\n",
       "      <td>0.021918</td>\n",
       "      <td>0.017688</td>\n",
       "      <td>1.000000</td>\n",
       "      <td>0.142398</td>\n",
       "      <td>0.273738</td>\n",
       "      <td>0.054044</td>\n",
       "      <td>0.024694</td>\n",
       "      <td>0.038610</td>\n",
       "      <td>0.005438</td>\n",
       "    </tr>\n",
       "    <tr>\n",
       "      <th>cholesterol_3</th>\n",
       "      <td>0.040680</td>\n",
       "      <td>0.114371</td>\n",
       "      <td>0.153439</td>\n",
       "      <td>0.131530</td>\n",
       "      <td>0.128361</td>\n",
       "      <td>0.156386</td>\n",
       "      <td>0.153804</td>\n",
       "      <td>0.029469</td>\n",
       "      <td>0.142398</td>\n",
       "      <td>1.000000</td>\n",
       "      <td>0.013821</td>\n",
       "      <td>0.481833</td>\n",
       "      <td>0.002707</td>\n",
       "      <td>0.017014</td>\n",
       "      <td>0.012359</td>\n",
       "    </tr>\n",
       "    <tr>\n",
       "      <th>gluc_2</th>\n",
       "      <td>0.012830</td>\n",
       "      <td>0.094730</td>\n",
       "      <td>0.075895</td>\n",
       "      <td>0.061191</td>\n",
       "      <td>0.099568</td>\n",
       "      <td>0.075845</td>\n",
       "      <td>0.024880</td>\n",
       "      <td>0.005358</td>\n",
       "      <td>0.273738</td>\n",
       "      <td>0.013821</td>\n",
       "      <td>1.000000</td>\n",
       "      <td>0.080953</td>\n",
       "      <td>0.015667</td>\n",
       "      <td>0.030533</td>\n",
       "      <td>0.010969</td>\n",
       "    </tr>\n",
       "    <tr>\n",
       "      <th>gluc_3</th>\n",
       "      <td>0.013747</td>\n",
       "      <td>0.068679</td>\n",
       "      <td>0.062778</td>\n",
       "      <td>0.051415</td>\n",
       "      <td>0.074118</td>\n",
       "      <td>0.063048</td>\n",
       "      <td>0.094625</td>\n",
       "      <td>0.019996</td>\n",
       "      <td>0.054044</td>\n",
       "      <td>0.481833</td>\n",
       "      <td>0.080953</td>\n",
       "      <td>1.000000</td>\n",
       "      <td>0.013814</td>\n",
       "      <td>0.003427</td>\n",
       "      <td>0.002742</td>\n",
       "    </tr>\n",
       "    <tr>\n",
       "      <th>smoke_1</th>\n",
       "      <td>0.188307</td>\n",
       "      <td>0.067019</td>\n",
       "      <td>0.027204</td>\n",
       "      <td>0.025805</td>\n",
       "      <td>0.017399</td>\n",
       "      <td>0.028695</td>\n",
       "      <td>0.047900</td>\n",
       "      <td>0.338816</td>\n",
       "      <td>0.024694</td>\n",
       "      <td>0.002707</td>\n",
       "      <td>0.015667</td>\n",
       "      <td>0.013814</td>\n",
       "      <td>1.000000</td>\n",
       "      <td>0.340401</td>\n",
       "      <td>0.025441</td>\n",
       "    </tr>\n",
       "    <tr>\n",
       "      <th>alco_1</th>\n",
       "      <td>0.095227</td>\n",
       "      <td>0.067875</td>\n",
       "      <td>0.033183</td>\n",
       "      <td>0.041030</td>\n",
       "      <td>0.043087</td>\n",
       "      <td>0.038726</td>\n",
       "      <td>0.029047</td>\n",
       "      <td>0.171473</td>\n",
       "      <td>0.038610</td>\n",
       "      <td>0.017014</td>\n",
       "      <td>0.030533</td>\n",
       "      <td>0.003427</td>\n",
       "      <td>0.340401</td>\n",
       "      <td>1.000000</td>\n",
       "      <td>0.024866</td>\n",
       "    </tr>\n",
       "    <tr>\n",
       "      <th>active_1</th>\n",
       "      <td>0.007481</td>\n",
       "      <td>0.017718</td>\n",
       "      <td>0.001275</td>\n",
       "      <td>0.000055</td>\n",
       "      <td>0.016776</td>\n",
       "      <td>0.000852</td>\n",
       "      <td>0.010399</td>\n",
       "      <td>0.005853</td>\n",
       "      <td>0.005438</td>\n",
       "      <td>0.012359</td>\n",
       "      <td>0.010969</td>\n",
       "      <td>0.002742</td>\n",
       "      <td>0.025441</td>\n",
       "      <td>0.024866</td>\n",
       "      <td>1.000000</td>\n",
       "    </tr>\n",
       "  </tbody>\n",
       "</table>\n",
       "</div>"
      ],
      "text/plain": [
       "                 height    weight     ap_hi     ap_lo       BMI   aver_ap  \\\n",
       "height         1.000000  0.291779  0.018245  0.036083  0.006385  0.026565   \n",
       "weight         0.291779  1.000000  0.269918  0.251950  0.951924  0.283123   \n",
       "ap_hi          0.018245  0.269918  1.000000  0.709145  0.272783  0.961479   \n",
       "ap_lo          0.036083  0.251950  0.709145  1.000000  0.249682  0.875635   \n",
       "BMI            0.006385  0.951924  0.272783  0.249682  1.000000  0.284201   \n",
       "aver_ap        0.026565  0.283123  0.961479  0.875635  0.284201  1.000000   \n",
       "age(years)     0.081429  0.054619  0.208488  0.154310  0.078520  0.202976   \n",
       "gender_2       0.499333  0.156026  0.061169  0.068157  0.022722  0.068473   \n",
       "cholesterol_2  0.024394  0.067063  0.099463  0.073073  0.073637  0.096622   \n",
       "cholesterol_3  0.040680  0.114371  0.153439  0.131530  0.128361  0.156386   \n",
       "gluc_2         0.012830  0.094730  0.075895  0.061191  0.099568  0.075845   \n",
       "gluc_3         0.013747  0.068679  0.062778  0.051415  0.074118  0.063048   \n",
       "smoke_1        0.188307  0.067019  0.027204  0.025805  0.017399  0.028695   \n",
       "alco_1         0.095227  0.067875  0.033183  0.041030  0.043087  0.038726   \n",
       "active_1       0.007481  0.017718  0.001275  0.000055  0.016776  0.000852   \n",
       "\n",
       "               age(years)  gender_2  cholesterol_2  cholesterol_3    gluc_2  \\\n",
       "height           0.081429  0.499333       0.024394       0.040680  0.012830   \n",
       "weight           0.054619  0.156026       0.067063       0.114371  0.094730   \n",
       "ap_hi            0.208488  0.061169       0.099463       0.153439  0.075895   \n",
       "ap_lo            0.154310  0.068157       0.073073       0.131530  0.061191   \n",
       "BMI              0.078520  0.022722       0.073637       0.128361  0.099568   \n",
       "aver_ap          0.202976  0.068473       0.096622       0.156386  0.075845   \n",
       "age(years)       1.000000  0.023236       0.021918       0.153804  0.024880   \n",
       "gender_2         0.023236  1.000000       0.017688       0.029469  0.005358   \n",
       "cholesterol_2    0.021918  0.017688       1.000000       0.142398  0.273738   \n",
       "cholesterol_3    0.153804  0.029469       0.142398       1.000000  0.013821   \n",
       "gluc_2           0.024880  0.005358       0.273738       0.013821  1.000000   \n",
       "gluc_3           0.094625  0.019996       0.054044       0.481833  0.080953   \n",
       "smoke_1          0.047900  0.338816       0.024694       0.002707  0.015667   \n",
       "alco_1           0.029047  0.171473       0.038610       0.017014  0.030533   \n",
       "active_1         0.010399  0.005853       0.005438       0.012359  0.010969   \n",
       "\n",
       "                 gluc_3   smoke_1    alco_1  active_1  \n",
       "height         0.013747  0.188307  0.095227  0.007481  \n",
       "weight         0.068679  0.067019  0.067875  0.017718  \n",
       "ap_hi          0.062778  0.027204  0.033183  0.001275  \n",
       "ap_lo          0.051415  0.025805  0.041030  0.000055  \n",
       "BMI            0.074118  0.017399  0.043087  0.016776  \n",
       "aver_ap        0.063048  0.028695  0.038726  0.000852  \n",
       "age(years)     0.094625  0.047900  0.029047  0.010399  \n",
       "gender_2       0.019996  0.338816  0.171473  0.005853  \n",
       "cholesterol_2  0.054044  0.024694  0.038610  0.005438  \n",
       "cholesterol_3  0.481833  0.002707  0.017014  0.012359  \n",
       "gluc_2         0.080953  0.015667  0.030533  0.010969  \n",
       "gluc_3         1.000000  0.013814  0.003427  0.002742  \n",
       "smoke_1        0.013814  1.000000  0.340401  0.025441  \n",
       "alco_1         0.003427  0.340401  1.000000  0.024866  \n",
       "active_1       0.002742  0.025441  0.024866  1.000000  "
      ]
     },
     "execution_count": 49,
     "metadata": {},
     "output_type": "execute_result"
    }
   ],
   "source": [
    "##检查自变量之间的相关性，并删除会导致共线性问题的自变量。\n",
    "x.corr().abs()"
   ]
  },
  {
   "cell_type": "code",
   "execution_count": 50,
   "id": "e3a1ba36-f329-40f0-b92d-0a8818e170d5",
   "metadata": {},
   "outputs": [
    {
     "data": {
      "image/png": "[encoded data removed]",
      "text/plain": [
       "<Figure size 1300x500 with 2 Axes>"
      ]
     },
     "metadata": {},
     "output_type": "display_data"
    }
   ],
   "source": [
    "plt.subplots(1, 1, figsize=[13, 5])\n",
    "sns.heatmap(x.corr().abs(), annot = True)\n",
    "plt.show()"
   ]
  },
  {
   "cell_type": "code",
   "execution_count": 51,
   "id": "410154df-9be9-4bf2-b5f8-486437681926",
   "metadata": {},
   "outputs": [
    {
     "data": {
      "text/html": [
       "<div>\n",
       "<style scoped>\n",
       "    .dataframe tbody tr th:only-of-type {\n",
       "        vertical-align: middle;\n",
       "    }\n",
       "\n",
       "    .dataframe tbody tr th {\n",
       "        vertical-align: top;\n",
       "    }\n",
       "\n",
       "    .dataframe thead th {\n",
       "        text-align: right;\n",
       "    }\n",
       "</style>\n",
       "<table border=\"1\" class=\"dataframe\">\n",
       "  <thead>\n",
       "    <tr style=\"text-align: right;\">\n",
       "      <th></th>\n",
       "      <th>height</th>\n",
       "      <th>BMI</th>\n",
       "      <th>aver_ap</th>\n",
       "      <th>age(years)</th>\n",
       "      <th>gender_2</th>\n",
       "      <th>cholesterol_2</th>\n",
       "      <th>cholesterol_3</th>\n",
       "      <th>gluc_2</th>\n",
       "      <th>gluc_3</th>\n",
       "      <th>smoke_1</th>\n",
       "      <th>alco_1</th>\n",
       "      <th>active_1</th>\n",
       "    </tr>\n",
       "  </thead>\n",
       "  <tbody>\n",
       "    <tr>\n",
       "      <th>height</th>\n",
       "      <td>True</td>\n",
       "      <td>False</td>\n",
       "      <td>False</td>\n",
       "      <td>False</td>\n",
       "      <td>False</td>\n",
       "      <td>False</td>\n",
       "      <td>False</td>\n",
       "      <td>False</td>\n",
       "      <td>False</td>\n",
       "      <td>False</td>\n",
       "      <td>False</td>\n",
       "      <td>False</td>\n",
       "    </tr>\n",
       "    <tr>\n",
       "      <th>BMI</th>\n",
       "      <td>False</td>\n",
       "      <td>True</td>\n",
       "      <td>False</td>\n",
       "      <td>False</td>\n",
       "      <td>False</td>\n",
       "      <td>False</td>\n",
       "      <td>False</td>\n",
       "      <td>False</td>\n",
       "      <td>False</td>\n",
       "      <td>False</td>\n",
       "      <td>False</td>\n",
       "      <td>False</td>\n",
       "    </tr>\n",
       "    <tr>\n",
       "      <th>aver_ap</th>\n",
       "      <td>False</td>\n",
       "      <td>False</td>\n",
       "      <td>True</td>\n",
       "      <td>False</td>\n",
       "      <td>False</td>\n",
       "      <td>False</td>\n",
       "      <td>False</td>\n",
       "      <td>False</td>\n",
       "      <td>False</td>\n",
       "      <td>False</td>\n",
       "      <td>False</td>\n",
       "      <td>False</td>\n",
       "    </tr>\n",
       "    <tr>\n",
       "      <th>age(years)</th>\n",
       "      <td>False</td>\n",
       "      <td>False</td>\n",
       "      <td>False</td>\n",
       "      <td>True</td>\n",
       "      <td>False</td>\n",
       "      <td>False</td>\n",
       "      <td>False</td>\n",
       "      <td>False</td>\n",
       "      <td>False</td>\n",
       "      <td>False</td>\n",
       "      <td>False</td>\n",
       "      <td>False</td>\n",
       "    </tr>\n",
       "    <tr>\n",
       "      <th>gender_2</th>\n",
       "      <td>False</td>\n",
       "      <td>False</td>\n",
       "      <td>False</td>\n",
       "      <td>False</td>\n",
       "      <td>True</td>\n",
       "      <td>False</td>\n",
       "      <td>False</td>\n",
       "      <td>False</td>\n",
       "      <td>False</td>\n",
       "      <td>False</td>\n",
       "      <td>False</td>\n",
       "      <td>False</td>\n",
       "    </tr>\n",
       "    <tr>\n",
       "      <th>cholesterol_2</th>\n",
       "      <td>False</td>\n",
       "      <td>False</td>\n",
       "      <td>False</td>\n",
       "      <td>False</td>\n",
       "      <td>False</td>\n",
       "      <td>True</td>\n",
       "      <td>False</td>\n",
       "      <td>False</td>\n",
       "      <td>False</td>\n",
       "      <td>False</td>\n",
       "      <td>False</td>\n",
       "      <td>False</td>\n",
       "    </tr>\n",
       "    <tr>\n",
       "      <th>cholesterol_3</th>\n",
       "      <td>False</td>\n",
       "      <td>False</td>\n",
       "      <td>False</td>\n",
       "      <td>False</td>\n",
       "      <td>False</td>\n",
       "      <td>False</td>\n",
       "      <td>True</td>\n",
       "      <td>False</td>\n",
       "      <td>False</td>\n",
       "      <td>False</td>\n",
       "      <td>False</td>\n",
       "      <td>False</td>\n",
       "    </tr>\n",
       "    <tr>\n",
       "      <th>gluc_2</th>\n",
       "      <td>False</td>\n",
       "      <td>False</td>\n",
       "      <td>False</td>\n",
       "      <td>False</td>\n",
       "      <td>False</td>\n",
       "      <td>False</td>\n",
       "      <td>False</td>\n",
       "      <td>True</td>\n",
       "      <td>False</td>\n",
       "      <td>False</td>\n",
       "      <td>False</td>\n",
       "      <td>False</td>\n",
       "    </tr>\n",
       "    <tr>\n",
       "      <th>gluc_3</th>\n",
       "      <td>False</td>\n",
       "      <td>False</td>\n",
       "      <td>False</td>\n",
       "      <td>False</td>\n",
       "      <td>False</td>\n",
       "      <td>False</td>\n",
       "      <td>False</td>\n",
       "      <td>False</td>\n",
       "      <td>True</td>\n",
       "      <td>False</td>\n",
       "      <td>False</td>\n",
       "      <td>False</td>\n",
       "    </tr>\n",
       "    <tr>\n",
       "      <th>smoke_1</th>\n",
       "      <td>False</td>\n",
       "      <td>False</td>\n",
       "      <td>False</td>\n",
       "      <td>False</td>\n",
       "      <td>False</td>\n",
       "      <td>False</td>\n",
       "      <td>False</td>\n",
       "      <td>False</td>\n",
       "      <td>False</td>\n",
       "      <td>True</td>\n",
       "      <td>False</td>\n",
       "      <td>False</td>\n",
       "    </tr>\n",
       "    <tr>\n",
       "      <th>alco_1</th>\n",
       "      <td>False</td>\n",
       "      <td>False</td>\n",
       "      <td>False</td>\n",
       "      <td>False</td>\n",
       "      <td>False</td>\n",
       "      <td>False</td>\n",
       "      <td>False</td>\n",
       "      <td>False</td>\n",
       "      <td>False</td>\n",
       "      <td>False</td>\n",
       "      <td>True</td>\n",
       "      <td>False</td>\n",
       "    </tr>\n",
       "    <tr>\n",
       "      <th>active_1</th>\n",
       "      <td>False</td>\n",
       "      <td>False</td>\n",
       "      <td>False</td>\n",
       "      <td>False</td>\n",
       "      <td>False</td>\n",
       "      <td>False</td>\n",
       "      <td>False</td>\n",
       "      <td>False</td>\n",
       "      <td>False</td>\n",
       "      <td>False</td>\n",
       "      <td>False</td>\n",
       "      <td>True</td>\n",
       "    </tr>\n",
       "  </tbody>\n",
       "</table>\n",
       "</div>"
      ],
      "text/plain": [
       "               height    BMI  aver_ap  age(years)  gender_2  cholesterol_2  \\\n",
       "height           True  False    False       False     False          False   \n",
       "BMI             False   True    False       False     False          False   \n",
       "aver_ap         False  False     True       False     False          False   \n",
       "age(years)      False  False    False        True     False          False   \n",
       "gender_2        False  False    False       False      True          False   \n",
       "cholesterol_2   False  False    False       False     False           True   \n",
       "cholesterol_3   False  False    False       False     False          False   \n",
       "gluc_2          False  False    False       False     False          False   \n",
       "gluc_3          False  False    False       False     False          False   \n",
       "smoke_1         False  False    False       False     False          False   \n",
       "alco_1          False  False    False       False     False          False   \n",
       "active_1        False  False    False       False     False          False   \n",
       "\n",
       "               cholesterol_3  gluc_2  gluc_3  smoke_1  alco_1  active_1  \n",
       "height                 False   False   False    False   False     False  \n",
       "BMI                    False   False   False    False   False     False  \n",
       "aver_ap                False   False   False    False   False     False  \n",
       "age(years)             False   False   False    False   False     False  \n",
       "gender_2               False   False   False    False   False     False  \n",
       "cholesterol_2          False   False   False    False   False     False  \n",
       "cholesterol_3           True   False   False    False   False     False  \n",
       "gluc_2                 False    True   False    False   False     False  \n",
       "gluc_3                 False   False    True    False   False     False  \n",
       "smoke_1                False   False   False     True   False     False  \n",
       "alco_1                 False   False   False    False    True     False  \n",
       "active_1               False   False   False    False   False      True  "
      ]
     },
     "execution_count": 51,
     "metadata": {},
     "output_type": "execute_result"
    }
   ],
   "source": [
    "## aver_ap是由ap_hi和ap_lo计算得来的，所以他们之间的相关性很强，大于0.8，应删除ap_hi和ap_lo两个自变量。\n",
    "## 由于BMI值是由height和weight计算得来的，都保留会导致共线性问题，且weight和BMI相关性大于0.8，应删除weight。\n",
    "x = x.drop(['ap_hi','ap_lo','weight'],axis = 1)\n",
    "x.corr().abs() > 0.8"
   ]
  },
  {
   "cell_type": "code",
   "execution_count": 52,
   "id": "ee2f8a9f-b1df-45cc-a547-6537223d1ea2",
   "metadata": {},
   "outputs": [
    {
     "data": {
      "image/png": "[encoded data removed]",
      "text/plain": [
       "<Figure size 1300x500 with 2 Axes>"
      ]
     },
     "metadata": {},
     "output_type": "display_data"
    }
   ],
   "source": [
    "plt.subplots(1, 1, figsize=[13, 5])\n",
    "sns.heatmap(x.corr().abs(), annot = True)\n",
    "plt.show()"
   ]
  },
  {
   "cell_type": "code",
   "execution_count": 53,
   "id": "950cd0ab-902a-4449-a659-62bef7cd9157",
   "metadata": {},
   "outputs": [],
   "source": [
    "## 计算截距\n",
    "x = sm.add_constant(x)"
   ]
  },
  {
   "cell_type": "code",
   "execution_count": 54,
   "id": "3370884b-f80e-4f01-97a8-9b16bb0ec460",
   "metadata": {},
   "outputs": [
    {
     "name": "stdout",
     "output_type": "stream",
     "text": [
      "Optimization terminated successfully.\n",
      "         Current function value: 0.563338\n",
      "         Iterations 6\n"
     ]
    },
    {
     "data": {
      "text/html": [
       "<table class=\"simpletable\">\n",
       "<caption>Logit Regression Results</caption>\n",
       "<tr>\n",
       "  <th>Dep. Variable:</th>        <td>cardio</td>      <th>  No. Observations:  </th>  <td> 68746</td> \n",
       "</tr>\n",
       "<tr>\n",
       "  <th>Model:</th>                 <td>Logit</td>      <th>  Df Residuals:      </th>  <td> 68733</td> \n",
       "</tr>\n",
       "<tr>\n",
       "  <th>Method:</th>                 <td>MLE</td>       <th>  Df Model:          </th>  <td>    12</td> \n",
       "</tr>\n",
       "<tr>\n",
       "  <th>Date:</th>            <td>Fri, 22 Aug 2025</td> <th>  Pseudo R-squ.:     </th>  <td>0.1872</td> \n",
       "</tr>\n",
       "<tr>\n",
       "  <th>Time:</th>                <td>09:28:38</td>     <th>  Log-Likelihood:    </th> <td> -38727.</td>\n",
       "</tr>\n",
       "<tr>\n",
       "  <th>converged:</th>             <td>True</td>       <th>  LL-Null:           </th> <td> -47647.</td>\n",
       "</tr>\n",
       "<tr>\n",
       "  <th>Covariance Type:</th>     <td>nonrobust</td>    <th>  LLR p-value:       </th>  <td> 0.000</td> \n",
       "</tr>\n",
       "</table>\n",
       "<table class=\"simpletable\">\n",
       "<tr>\n",
       "        <td></td>           <th>coef</th>     <th>std err</th>      <th>z</th>      <th>P>|z|</th>  <th>[0.025</th>    <th>0.975]</th>  \n",
       "</tr>\n",
       "<tr>\n",
       "  <th>const</th>         <td>  -12.1048</td> <td>    0.240</td> <td>  -50.533</td> <td> 0.000</td> <td>  -12.574</td> <td>  -11.635</td>\n",
       "</tr>\n",
       "<tr>\n",
       "  <th>height</th>        <td>    0.0015</td> <td>    0.001</td> <td>    1.233</td> <td> 0.218</td> <td>   -0.001</td> <td>    0.004</td>\n",
       "</tr>\n",
       "<tr>\n",
       "  <th>BMI</th>           <td>    0.0340</td> <td>    0.002</td> <td>   15.313</td> <td> 0.000</td> <td>    0.030</td> <td>    0.038</td>\n",
       "</tr>\n",
       "<tr>\n",
       "  <th>aver_ap</th>       <td>    0.0805</td> <td>    0.001</td> <td>   84.966</td> <td> 0.000</td> <td>    0.079</td> <td>    0.082</td>\n",
       "</tr>\n",
       "<tr>\n",
       "  <th>age(years)</th>    <td>    0.0524</td> <td>    0.001</td> <td>   38.796</td> <td> 0.000</td> <td>    0.050</td> <td>    0.055</td>\n",
       "</tr>\n",
       "<tr>\n",
       "  <th>gender_2</th>      <td>   -0.0238</td> <td>    0.022</td> <td>   -1.089</td> <td> 0.276</td> <td>   -0.067</td> <td>    0.019</td>\n",
       "</tr>\n",
       "<tr>\n",
       "  <th>cholesterol_2</th> <td>    0.3929</td> <td>    0.027</td> <td>   14.433</td> <td> 0.000</td> <td>    0.340</td> <td>    0.446</td>\n",
       "</tr>\n",
       "<tr>\n",
       "  <th>cholesterol_3</th> <td>    1.0968</td> <td>    0.036</td> <td>   30.818</td> <td> 0.000</td> <td>    1.027</td> <td>    1.167</td>\n",
       "</tr>\n",
       "<tr>\n",
       "  <th>gluc_2</th>        <td>    0.0220</td> <td>    0.036</td> <td>    0.610</td> <td> 0.542</td> <td>   -0.049</td> <td>    0.093</td>\n",
       "</tr>\n",
       "<tr>\n",
       "  <th>gluc_3</th>        <td>   -0.3318</td> <td>    0.039</td> <td>   -8.425</td> <td> 0.000</td> <td>   -0.409</td> <td>   -0.255</td>\n",
       "</tr>\n",
       "<tr>\n",
       "  <th>smoke_1</th>       <td>   -0.1329</td> <td>    0.035</td> <td>   -3.834</td> <td> 0.000</td> <td>   -0.201</td> <td>   -0.065</td>\n",
       "</tr>\n",
       "<tr>\n",
       "  <th>alco_1</th>        <td>   -0.2236</td> <td>    0.042</td> <td>   -5.299</td> <td> 0.000</td> <td>   -0.306</td> <td>   -0.141</td>\n",
       "</tr>\n",
       "<tr>\n",
       "  <th>active_1</th>      <td>   -0.2270</td> <td>    0.022</td> <td>  -10.399</td> <td> 0.000</td> <td>   -0.270</td> <td>   -0.184</td>\n",
       "</tr>\n",
       "</table>"
      ],
      "text/latex": [
       "\\begin{center}\n",
       "\\begin{tabular}{lclc}\n",
       "\\toprule\n",
       "\\textbf{Dep. Variable:}   &      cardio      & \\textbf{  No. Observations:  } &    68746    \\\\\n",
       "\\textbf{Model:}           &      Logit       & \\textbf{  Df Residuals:      } &    68733    \\\\\n",
       "\\textbf{Method:}          &       MLE        & \\textbf{  Df Model:          } &       12    \\\\\n",
       "\\textbf{Date:}            & Fri, 22 Aug 2025 & \\textbf{  Pseudo R-squ.:     } &   0.1872    \\\\\n",
       "\\textbf{Time:}            &     09:28:38     & \\textbf{  Log-Likelihood:    } &   -38727.   \\\\\n",
       "\\textbf{converged:}       &       True       & \\textbf{  LL-Null:           } &   -47647.   \\\\\n",
       "\\textbf{Covariance Type:} &    nonrobust     & \\textbf{  LLR p-value:       } &    0.000    \\\\\n",
       "\\bottomrule\n",
       "\\end{tabular}\n",
       "\\begin{tabular}{lcccccc}\n",
       "                        & \\textbf{coef} & \\textbf{std err} & \\textbf{z} & \\textbf{P$> |$z$|$} & \\textbf{[0.025} & \\textbf{0.975]}  \\\\\n",
       "\\midrule\n",
       "\\textbf{const}          &     -12.1048  &        0.240     &   -50.533  &         0.000        &      -12.574    &      -11.635     \\\\\n",
       "\\textbf{height}         &       0.0015  &        0.001     &     1.233  &         0.218        &       -0.001    &        0.004     \\\\\n",
       "\\textbf{BMI}            &       0.0340  &        0.002     &    15.313  &         0.000        &        0.030    &        0.038     \\\\\n",
       "\\textbf{aver\\_ap}       &       0.0805  &        0.001     &    84.966  &         0.000        &        0.079    &        0.082     \\\\\n",
       "\\textbf{age(years)}     &       0.0524  &        0.001     &    38.796  &         0.000        &        0.050    &        0.055     \\\\\n",
       "\\textbf{gender\\_2}      &      -0.0238  &        0.022     &    -1.089  &         0.276        &       -0.067    &        0.019     \\\\\n",
       "\\textbf{cholesterol\\_2} &       0.3929  &        0.027     &    14.433  &         0.000        &        0.340    &        0.446     \\\\\n",
       "\\textbf{cholesterol\\_3} &       1.0968  &        0.036     &    30.818  &         0.000        &        1.027    &        1.167     \\\\\n",
       "\\textbf{gluc\\_2}        &       0.0220  &        0.036     &     0.610  &         0.542        &       -0.049    &        0.093     \\\\\n",
       "\\textbf{gluc\\_3}        &      -0.3318  &        0.039     &    -8.425  &         0.000        &       -0.409    &       -0.255     \\\\\n",
       "\\textbf{smoke\\_1}       &      -0.1329  &        0.035     &    -3.834  &         0.000        &       -0.201    &       -0.065     \\\\\n",
       "\\textbf{alco\\_1}        &      -0.2236  &        0.042     &    -5.299  &         0.000        &       -0.306    &       -0.141     \\\\\n",
       "\\textbf{active\\_1}      &      -0.2270  &        0.022     &   -10.399  &         0.000        &       -0.270    &       -0.184     \\\\\n",
       "\\bottomrule\n",
       "\\end{tabular}\n",
       "%\\caption{Logit Regression Results}\n",
       "\\end{center}"
      ],
      "text/plain": [
       "<class 'statsmodels.iolib.summary.Summary'>\n",
       "\"\"\"\n",
       "                           Logit Regression Results                           \n",
       "==============================================================================\n",
       "Dep. Variable:                 cardio   No. Observations:                68746\n",
       "Model:                          Logit   Df Residuals:                    68733\n",
       "Method:                           MLE   Df Model:                           12\n",
       "Date:                Fri, 22 Aug 2025   Pseudo R-squ.:                  0.1872\n",
       "Time:                        09:28:38   Log-Likelihood:                -38727.\n",
       "converged:                       True   LL-Null:                       -47647.\n",
       "Covariance Type:            nonrobust   LLR p-value:                     0.000\n",
       "=================================================================================\n",
       "                    coef    std err          z      P>|z|      [0.025      0.975]\n",
       "---------------------------------------------------------------------------------\n",
       "const           -12.1048      0.240    -50.533      0.000     -12.574     -11.635\n",
       "height            0.0015      0.001      1.233      0.218      -0.001       0.004\n",
       "BMI               0.0340      0.002     15.313      0.000       0.030       0.038\n",
       "aver_ap           0.0805      0.001     84.966      0.000       0.079       0.082\n",
       "age(years)        0.0524      0.001     38.796      0.000       0.050       0.055\n",
       "gender_2         -0.0238      0.022     -1.089      0.276      -0.067       0.019\n",
       "cholesterol_2     0.3929      0.027     14.433      0.000       0.340       0.446\n",
       "cholesterol_3     1.0968      0.036     30.818      0.000       1.027       1.167\n",
       "gluc_2            0.0220      0.036      0.610      0.542      -0.049       0.093\n",
       "gluc_3           -0.3318      0.039     -8.425      0.000      -0.409      -0.255\n",
       "smoke_1          -0.1329      0.035     -3.834      0.000      -0.201      -0.065\n",
       "alco_1           -0.2236      0.042     -5.299      0.000      -0.306      -0.141\n",
       "active_1         -0.2270      0.022    -10.399      0.000      -0.270      -0.184\n",
       "=================================================================================\n",
       "\"\"\""
      ]
     },
     "execution_count": 54,
     "metadata": {},
     "output_type": "execute_result"
    }
   ],
   "source": [
    "## 建立回归模型\n",
    "model = sm.Logit(y,x).fit()\n",
    "model.summary()"
   ]
  },
  {
   "cell_type": "code",
   "execution_count": 55,
   "id": "6686fba9-221d-42c4-8185-7f8100b3afa9",
   "metadata": {},
   "outputs": [
    {
     "name": "stdout",
     "output_type": "stream",
     "text": [
      "Optimization terminated successfully.\n",
      "         Current function value: 0.563354\n",
      "         Iterations 6\n"
     ]
    },
    {
     "data": {
      "text/html": [
       "<table class=\"simpletable\">\n",
       "<caption>Logit Regression Results</caption>\n",
       "<tr>\n",
       "  <th>Dep. Variable:</th>        <td>cardio</td>      <th>  No. Observations:  </th>  <td> 68746</td> \n",
       "</tr>\n",
       "<tr>\n",
       "  <th>Model:</th>                 <td>Logit</td>      <th>  Df Residuals:      </th>  <td> 68736</td> \n",
       "</tr>\n",
       "<tr>\n",
       "  <th>Method:</th>                 <td>MLE</td>       <th>  Df Model:          </th>  <td>     9</td> \n",
       "</tr>\n",
       "<tr>\n",
       "  <th>Date:</th>            <td>Fri, 22 Aug 2025</td> <th>  Pseudo R-squ.:     </th>  <td>0.1872</td> \n",
       "</tr>\n",
       "<tr>\n",
       "  <th>Time:</th>                <td>09:28:38</td>     <th>  Log-Likelihood:    </th> <td> -38728.</td>\n",
       "</tr>\n",
       "<tr>\n",
       "  <th>converged:</th>             <td>True</td>       <th>  LL-Null:           </th> <td> -47647.</td>\n",
       "</tr>\n",
       "<tr>\n",
       "  <th>Covariance Type:</th>     <td>nonrobust</td>    <th>  LLR p-value:       </th>  <td> 0.000</td> \n",
       "</tr>\n",
       "</table>\n",
       "<table class=\"simpletable\">\n",
       "<tr>\n",
       "        <td></td>           <th>coef</th>     <th>std err</th>      <th>z</th>      <th>P>|z|</th>  <th>[0.025</th>    <th>0.975]</th>  \n",
       "</tr>\n",
       "<tr>\n",
       "  <th>const</th>         <td>  -11.8545</td> <td>    0.122</td> <td>  -97.255</td> <td> 0.000</td> <td>  -12.093</td> <td>  -11.616</td>\n",
       "</tr>\n",
       "<tr>\n",
       "  <th>BMI</th>           <td>    0.0341</td> <td>    0.002</td> <td>   15.387</td> <td> 0.000</td> <td>    0.030</td> <td>    0.038</td>\n",
       "</tr>\n",
       "<tr>\n",
       "  <th>aver_ap</th>       <td>    0.0805</td> <td>    0.001</td> <td>   85.070</td> <td> 0.000</td> <td>    0.079</td> <td>    0.082</td>\n",
       "</tr>\n",
       "<tr>\n",
       "  <th>age(years)</th>    <td>    0.0522</td> <td>    0.001</td> <td>   38.852</td> <td> 0.000</td> <td>    0.050</td> <td>    0.055</td>\n",
       "</tr>\n",
       "<tr>\n",
       "  <th>cholesterol_2</th> <td>    0.3972</td> <td>    0.026</td> <td>   15.170</td> <td> 0.000</td> <td>    0.346</td> <td>    0.448</td>\n",
       "</tr>\n",
       "<tr>\n",
       "  <th>cholesterol_3</th> <td>    1.0973</td> <td>    0.036</td> <td>   30.892</td> <td> 0.000</td> <td>    1.028</td> <td>    1.167</td>\n",
       "</tr>\n",
       "<tr>\n",
       "  <th>gluc_3</th>        <td>   -0.3331</td> <td>    0.039</td> <td>   -8.489</td> <td> 0.000</td> <td>   -0.410</td> <td>   -0.256</td>\n",
       "</tr>\n",
       "<tr>\n",
       "  <th>smoke_1</th>       <td>   -0.1381</td> <td>    0.033</td> <td>   -4.172</td> <td> 0.000</td> <td>   -0.203</td> <td>   -0.073</td>\n",
       "</tr>\n",
       "<tr>\n",
       "  <th>alco_1</th>        <td>   -0.2245</td> <td>    0.042</td> <td>   -5.331</td> <td> 0.000</td> <td>   -0.307</td> <td>   -0.142</td>\n",
       "</tr>\n",
       "<tr>\n",
       "  <th>active_1</th>      <td>   -0.2274</td> <td>    0.022</td> <td>  -10.420</td> <td> 0.000</td> <td>   -0.270</td> <td>   -0.185</td>\n",
       "</tr>\n",
       "</table>"
      ],
      "text/latex": [
       "\\begin{center}\n",
       "\\begin{tabular}{lclc}\n",
       "\\toprule\n",
       "\\textbf{Dep. Variable:}   &      cardio      & \\textbf{  No. Observations:  } &    68746    \\\\\n",
       "\\textbf{Model:}           &      Logit       & \\textbf{  Df Residuals:      } &    68736    \\\\\n",
       "\\textbf{Method:}          &       MLE        & \\textbf{  Df Model:          } &        9    \\\\\n",
       "\\textbf{Date:}            & Fri, 22 Aug 2025 & \\textbf{  Pseudo R-squ.:     } &   0.1872    \\\\\n",
       "\\textbf{Time:}            &     09:28:38     & \\textbf{  Log-Likelihood:    } &   -38728.   \\\\\n",
       "\\textbf{converged:}       &       True       & \\textbf{  LL-Null:           } &   -47647.   \\\\\n",
       "\\textbf{Covariance Type:} &    nonrobust     & \\textbf{  LLR p-value:       } &    0.000    \\\\\n",
       "\\bottomrule\n",
       "\\end{tabular}\n",
       "\\begin{tabular}{lcccccc}\n",
       "                        & \\textbf{coef} & \\textbf{std err} & \\textbf{z} & \\textbf{P$> |$z$|$} & \\textbf{[0.025} & \\textbf{0.975]}  \\\\\n",
       "\\midrule\n",
       "\\textbf{const}          &     -11.8545  &        0.122     &   -97.255  &         0.000        &      -12.093    &      -11.616     \\\\\n",
       "\\textbf{BMI}            &       0.0341  &        0.002     &    15.387  &         0.000        &        0.030    &        0.038     \\\\\n",
       "\\textbf{aver\\_ap}       &       0.0805  &        0.001     &    85.070  &         0.000        &        0.079    &        0.082     \\\\\n",
       "\\textbf{age(years)}     &       0.0522  &        0.001     &    38.852  &         0.000        &        0.050    &        0.055     \\\\\n",
       "\\textbf{cholesterol\\_2} &       0.3972  &        0.026     &    15.170  &         0.000        &        0.346    &        0.448     \\\\\n",
       "\\textbf{cholesterol\\_3} &       1.0973  &        0.036     &    30.892  &         0.000        &        1.028    &        1.167     \\\\\n",
       "\\textbf{gluc\\_3}        &      -0.3331  &        0.039     &    -8.489  &         0.000        &       -0.410    &       -0.256     \\\\\n",
       "\\textbf{smoke\\_1}       &      -0.1381  &        0.033     &    -4.172  &         0.000        &       -0.203    &       -0.073     \\\\\n",
       "\\textbf{alco\\_1}        &      -0.2245  &        0.042     &    -5.331  &         0.000        &       -0.307    &       -0.142     \\\\\n",
       "\\textbf{active\\_1}      &      -0.2274  &        0.022     &   -10.420  &         0.000        &       -0.270    &       -0.185     \\\\\n",
       "\\bottomrule\n",
       "\\end{tabular}\n",
       "%\\caption{Logit Regression Results}\n",
       "\\end{center}"
      ],
      "text/plain": [
       "<class 'statsmodels.iolib.summary.Summary'>\n",
       "\"\"\"\n",
       "                           Logit Regression Results                           \n",
       "==============================================================================\n",
       "Dep. Variable:                 cardio   No. Observations:                68746\n",
       "Model:                          Logit   Df Residuals:                    68736\n",
       "Method:                           MLE   Df Model:                            9\n",
       "Date:                Fri, 22 Aug 2025   Pseudo R-squ.:                  0.1872\n",
       "Time:                        09:28:38   Log-Likelihood:                -38728.\n",
       "converged:                       True   LL-Null:                       -47647.\n",
       "Covariance Type:            nonrobust   LLR p-value:                     0.000\n",
       "=================================================================================\n",
       "                    coef    std err          z      P>|z|      [0.025      0.975]\n",
       "---------------------------------------------------------------------------------\n",
       "const           -11.8545      0.122    -97.255      0.000     -12.093     -11.616\n",
       "BMI               0.0341      0.002     15.387      0.000       0.030       0.038\n",
       "aver_ap           0.0805      0.001     85.070      0.000       0.079       0.082\n",
       "age(years)        0.0522      0.001     38.852      0.000       0.050       0.055\n",
       "cholesterol_2     0.3972      0.026     15.170      0.000       0.346       0.448\n",
       "cholesterol_3     1.0973      0.036     30.892      0.000       1.028       1.167\n",
       "gluc_3           -0.3331      0.039     -8.489      0.000      -0.410      -0.256\n",
       "smoke_1          -0.1381      0.033     -4.172      0.000      -0.203      -0.073\n",
       "alco_1           -0.2245      0.042     -5.331      0.000      -0.307      -0.142\n",
       "active_1         -0.2274      0.022    -10.420      0.000      -0.270      -0.185\n",
       "=================================================================================\n",
       "\"\"\""
      ]
     },
     "execution_count": 55,
     "metadata": {},
     "output_type": "execute_result"
    }
   ],
   "source": [
    "## 当设置显著水平为0.05时，模型认为height、gluc_2和gender_2自变量对是否患心血管疾病没有影响，移除该自变量，再次建立回归模型。\n",
    "x = x.drop(['gender_2','gluc_2','height'],axis = 1)\n",
    "model = sm.Logit(y,x).fit()\n",
    "model.summary()"
   ]
  },
  {
   "cell_type": "markdown",
   "id": "b6b0e5c9-e43b-477b-907e-6909f9450da7",
   "metadata": {},
   "source": [
    "#### 模型认为，自变量因素的增加对因变量的影响如下："
   ]
  },
  {
   "cell_type": "code",
   "execution_count": 56,
   "id": "8d1de637-d01f-4798-b989-339b68aa6ac6",
   "metadata": {},
   "outputs": [
    {
     "data": {
      "text/plain": [
       "np.float64(1.0346880703618861)"
      ]
     },
     "execution_count": 56,
     "metadata": {},
     "output_type": "execute_result"
    }
   ],
   "source": [
    "## BMI\n",
    "np.exp(0.0341)"
   ]
  },
  {
   "cell_type": "code",
   "execution_count": 57,
   "id": "b3758cc4-835c-45c2-8ea3-c0b265d26bca",
   "metadata": {},
   "outputs": [
    {
     "data": {
      "text/plain": [
       "np.float64(1.0838288466422508)"
      ]
     },
     "execution_count": 57,
     "metadata": {},
     "output_type": "execute_result"
    }
   ],
   "source": [
    "## 血压平均值\n",
    "np.exp(0.0805)"
   ]
  },
  {
   "cell_type": "code",
   "execution_count": 58,
   "id": "25bdd92b-4d90-42ec-8094-1eb9ed047975",
   "metadata": {},
   "outputs": [
    {
     "data": {
      "text/plain": [
       "np.float64(1.053586438730787)"
      ]
     },
     "execution_count": 58,
     "metadata": {},
     "output_type": "execute_result"
    }
   ],
   "source": [
    "## 年龄\n",
    "np.exp(0.0522)"
   ]
  },
  {
   "cell_type": "code",
   "execution_count": 59,
   "id": "ab1c8341-d410-4bdc-8dfc-1a34fa336fef",
   "metadata": {},
   "outputs": [
    {
     "data": {
      "text/plain": [
       "np.float64(1.4876534309864187)"
      ]
     },
     "execution_count": 59,
     "metadata": {},
     "output_type": "execute_result"
    }
   ],
   "source": [
    "## 胆固醇_高于正常值\n",
    "np.exp(0.3972)"
   ]
  },
  {
   "cell_type": "code",
   "execution_count": 60,
   "id": "c0f16a6f-b2fa-47e5-a23a-4806a9c497ea",
   "metadata": {},
   "outputs": [
    {
     "data": {
      "text/plain": [
       "np.float64(2.9960657160184168)"
      ]
     },
     "execution_count": 60,
     "metadata": {},
     "output_type": "execute_result"
    }
   ],
   "source": [
    "## 胆固醇_严重高于正常值\n",
    "np.exp(1.0973)"
   ]
  },
  {
   "cell_type": "markdown",
   "id": "de0db73a-d70d-4936-b620-b89eb3ae76cf",
   "metadata": {},
   "source": [
    "以上数据表明：\n",
    "- BMI值每增加1，患心血管疾病概率提升3.47%；\n",
    "- 血压的平均值每增加1，患病概率提升8.38%，比BMI值对心血管的影响高出5%；\n",
    "- 年龄每增加一岁，患病概率提升5.36%；\n",
    "- 胆固醇处在高于正常值范畴内，患病概率是正常胆固醇的1.48倍；而如果胆固醇处在严重高于正常值范畴的话，患病概率是正常值的199%，属于强致病因素。"
   ]
  },
  {
   "cell_type": "code",
   "execution_count": 61,
   "id": "ba56e178-2645-4e74-a3bb-794be87dce50",
   "metadata": {},
   "outputs": [
    {
     "data": {
      "text/plain": [
       "np.float64(0.7166985207200148)"
      ]
     },
     "execution_count": 61,
     "metadata": {},
     "output_type": "execute_result"
    }
   ],
   "source": [
    "## 胶质\n",
    "np.exp(-0.3331)"
   ]
  },
  {
   "cell_type": "code",
   "execution_count": 62,
   "id": "9549c7d4-0fcf-48c4-ba57-8264145aae18",
   "metadata": {},
   "outputs": [
    {
     "data": {
      "text/plain": [
       "np.float64(0.8710115862319721)"
      ]
     },
     "execution_count": 62,
     "metadata": {},
     "output_type": "execute_result"
    }
   ],
   "source": [
    "## 吸烟\n",
    "np.exp(-0.1381)"
   ]
  },
  {
   "cell_type": "code",
   "execution_count": 63,
   "id": "acab98c2-6a7b-4652-8752-c2188a880a78",
   "metadata": {},
   "outputs": [
    {
     "data": {
      "text/plain": [
       "np.float64(0.7989155766999219)"
      ]
     },
     "execution_count": 63,
     "metadata": {},
     "output_type": "execute_result"
    }
   ],
   "source": [
    "## 饮酒\n",
    "np.exp(-0.2245)"
   ]
  },
  {
   "cell_type": "code",
   "execution_count": 64,
   "id": "81f56291-eedc-43ae-b439-ab12cbaed988",
   "metadata": {},
   "outputs": [
    {
     "data": {
      "text/plain": [
       "np.float64(0.7987558095618282)"
      ]
     },
     "execution_count": 64,
     "metadata": {},
     "output_type": "execute_result"
    }
   ],
   "source": [
    "## 运动\n",
    "np.exp(-0.2247)"
   ]
  },
  {
   "cell_type": "markdown",
   "id": "eeeda194-befd-4a0f-bc50-e02d375383e8",
   "metadata": {},
   "source": [
    "以上数据表明\n",
    "- 胶质、吸烟和喝酒会降低患病的概率，不符合常理，需要复核数据准确性。\n",
    "- 运动会降低21%左右的患心血管疾病的风险。"
   ]
  },
  {
   "cell_type": "code",
   "execution_count": null,
   "id": "bdff10de-e8e3-426d-85ec-3230024d7c34",
   "metadata": {},
   "outputs": [],
   "source": []
  }
 ],
 "metadata": {
  "kernelspec": {
   "display_name": "Python 3 (ipykernel)",
   "language": "python",
   "name": "python3"
  },
  "language_info": {
   "codemirror_mode": {
    "name": "ipython",
    "version": 3
   },
   "file_extension": ".py",
   "mimetype": "text/x-python",
   "name": "python",
   "nbconvert_exporter": "python",
   "pygments_lexer": "ipython3",
   "version": "3.13.3"
  }
 },
 "nbformat": 4,
 "nbformat_minor": 5
}
