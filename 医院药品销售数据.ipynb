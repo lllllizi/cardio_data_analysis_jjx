{
 "cells": [
  {
   "cell_type": "markdown",
   "id": "ce12044c-ef90-4417-8593-367afed0165b",
   "metadata": {},
   "source": [
    "## **背景描述**\n",
    "某医院半年内的药品销售数据可视化\n",
    "\n",
    "## **数据说明**\n",
    "字段：购药时间、社保卡号、商品编码、商品名称、销售数量、应收金额、实收金额\n",
    "\n",
    "| 字段 | 数据类型 |\n",
    "| -------- | -------- | \n",
    "| 购药时间     | string     | \n",
    "| 社保卡号     | string     | \n",
    "| 商品编码     | string     | \n",
    "| 销售数量     | int     |\n",
    "| 应收金额     | float     | \n",
    "| 实收金额     | float     | "
   ]
  },
  {
   "cell_type": "markdown",
   "id": "7a11ec63-1f59-4c5b-95d6-afcc037f660d",
   "metadata": {},
   "source": [
    "### 读取数据"
   ]
  },
  {
   "cell_type": "code",
   "execution_count": 1,
   "id": "eff1f65d-c540-4133-ba3b-21aa2918d397",
   "metadata": {},
   "outputs": [
    {
     "data": {
      "text/html": [
       "<div>\n",
       "<style scoped>\n",
       "    .dataframe tbody tr th:only-of-type {\n",
       "        vertical-align: middle;\n",
       "    }\n",
       "\n",
       "    .dataframe tbody tr th {\n",
       "        vertical-align: top;\n",
       "    }\n",
       "\n",
       "    .dataframe thead th {\n",
       "        text-align: right;\n",
       "    }\n",
       "</style>\n",
       "<table border=\"1\" class=\"dataframe\">\n",
       "  <thead>\n",
       "    <tr style=\"text-align: right;\">\n",
       "      <th></th>\n",
       "      <th>购药时间</th>\n",
       "      <th>社保卡号</th>\n",
       "      <th>商品编码</th>\n",
       "      <th>商品名称</th>\n",
       "      <th>销售数量</th>\n",
       "      <th>应收金额</th>\n",
       "      <th>实收金额</th>\n",
       "    </tr>\n",
       "  </thead>\n",
       "  <tbody>\n",
       "    <tr>\n",
       "      <th>0</th>\n",
       "      <td>2016-01-01 星期五</td>\n",
       "      <td>1.616528e+06</td>\n",
       "      <td>236701.0</td>\n",
       "      <td>强力VC银翘片</td>\n",
       "      <td>6.0</td>\n",
       "      <td>82.8</td>\n",
       "      <td>69.00</td>\n",
       "    </tr>\n",
       "    <tr>\n",
       "      <th>1</th>\n",
       "      <td>2016-01-02 星期六</td>\n",
       "      <td>1.616528e+06</td>\n",
       "      <td>236701.0</td>\n",
       "      <td>清热解毒口服液</td>\n",
       "      <td>1.0</td>\n",
       "      <td>28.0</td>\n",
       "      <td>24.64</td>\n",
       "    </tr>\n",
       "    <tr>\n",
       "      <th>2</th>\n",
       "      <td>2016-01-06 星期三</td>\n",
       "      <td>1.260283e+07</td>\n",
       "      <td>236701.0</td>\n",
       "      <td>感康</td>\n",
       "      <td>2.0</td>\n",
       "      <td>16.8</td>\n",
       "      <td>15.00</td>\n",
       "    </tr>\n",
       "    <tr>\n",
       "      <th>3</th>\n",
       "      <td>2016-01-11 星期一</td>\n",
       "      <td>1.007034e+10</td>\n",
       "      <td>236701.0</td>\n",
       "      <td>三九感冒灵</td>\n",
       "      <td>1.0</td>\n",
       "      <td>28.0</td>\n",
       "      <td>28.00</td>\n",
       "    </tr>\n",
       "    <tr>\n",
       "      <th>4</th>\n",
       "      <td>2016-01-15 星期五</td>\n",
       "      <td>1.015543e+08</td>\n",
       "      <td>236701.0</td>\n",
       "      <td>三九感冒灵</td>\n",
       "      <td>8.0</td>\n",
       "      <td>224.0</td>\n",
       "      <td>208.00</td>\n",
       "    </tr>\n",
       "  </tbody>\n",
       "</table>\n",
       "</div>"
      ],
      "text/plain": [
       "             购药时间          社保卡号      商品编码     商品名称  销售数量   应收金额    实收金额\n",
       "0  2016-01-01 星期五  1.616528e+06  236701.0  强力VC银翘片   6.0   82.8   69.00\n",
       "1  2016-01-02 星期六  1.616528e+06  236701.0  清热解毒口服液   1.0   28.0   24.64\n",
       "2  2016-01-06 星期三  1.260283e+07  236701.0       感康   2.0   16.8   15.00\n",
       "3  2016-01-11 星期一  1.007034e+10  236701.0    三九感冒灵   1.0   28.0   28.00\n",
       "4  2016-01-15 星期五  1.015543e+08  236701.0    三九感冒灵   8.0  224.0  208.00"
      ]
     },
     "execution_count": 1,
     "metadata": {},
     "output_type": "execute_result"
    }
   ],
   "source": [
    "import pandas as pd\n",
    "import numpy as np\n",
    "original_data = pd.read_excel('医院药品销售数据.xlsx')\n",
    "original_data.head()"
   ]
  },
  {
   "cell_type": "markdown",
   "id": "9c356a93-ef7c-4691-9c97-df6dd5faae7a",
   "metadata": {},
   "source": [
    "### 评估与清洗数据"
   ]
  },
  {
   "cell_type": "markdown",
   "id": "d385899c-d06a-4185-a116-cfb384bc714f",
   "metadata": {},
   "source": [
    "#### 评估数据整齐程度"
   ]
  },
  {
   "cell_type": "code",
   "execution_count": 2,
   "id": "246b7987-3550-4769-8632-70f076cd0205",
   "metadata": {},
   "outputs": [
    {
     "data": {
      "text/html": [
       "<div>\n",
       "<style scoped>\n",
       "    .dataframe tbody tr th:only-of-type {\n",
       "        vertical-align: middle;\n",
       "    }\n",
       "\n",
       "    .dataframe tbody tr th {\n",
       "        vertical-align: top;\n",
       "    }\n",
       "\n",
       "    .dataframe thead th {\n",
       "        text-align: right;\n",
       "    }\n",
       "</style>\n",
       "<table border=\"1\" class=\"dataframe\">\n",
       "  <thead>\n",
       "    <tr style=\"text-align: right;\">\n",
       "      <th></th>\n",
       "      <th>购药时间</th>\n",
       "      <th>社保卡号</th>\n",
       "      <th>商品编码</th>\n",
       "      <th>商品名称</th>\n",
       "      <th>销售数量</th>\n",
       "      <th>应收金额</th>\n",
       "      <th>实收金额</th>\n",
       "    </tr>\n",
       "  </thead>\n",
       "  <tbody>\n",
       "    <tr>\n",
       "      <th>2648</th>\n",
       "      <td>2016-07-05 星期二</td>\n",
       "      <td>1.329273e+07</td>\n",
       "      <td>861496.0</td>\n",
       "      <td>尼莫地平片</td>\n",
       "      <td>2.0</td>\n",
       "      <td>6.0</td>\n",
       "      <td>5.28</td>\n",
       "    </tr>\n",
       "    <tr>\n",
       "      <th>5671</th>\n",
       "      <td>2016-07-16 星期六</td>\n",
       "      <td>1.002982e+10</td>\n",
       "      <td>861507.0</td>\n",
       "      <td>苯磺酸氨氯地平片(安内真)</td>\n",
       "      <td>2.0</td>\n",
       "      <td>19.0</td>\n",
       "      <td>17.00</td>\n",
       "    </tr>\n",
       "    <tr>\n",
       "      <th>2406</th>\n",
       "      <td>2016-01-05 星期二</td>\n",
       "      <td>1.000920e+10</td>\n",
       "      <td>861485.0</td>\n",
       "      <td>富马酸比索洛尔片(博苏)</td>\n",
       "      <td>2.0</td>\n",
       "      <td>33.6</td>\n",
       "      <td>29.57</td>\n",
       "    </tr>\n",
       "    <tr>\n",
       "      <th>2060</th>\n",
       "      <td>2016-03-08 星期二</td>\n",
       "      <td>1.007020e+10</td>\n",
       "      <td>861459.0</td>\n",
       "      <td>吲达帕胺片(寿比山)</td>\n",
       "      <td>1.0</td>\n",
       "      <td>15.0</td>\n",
       "      <td>13.50</td>\n",
       "    </tr>\n",
       "    <tr>\n",
       "      <th>6074</th>\n",
       "      <td>2016-05-05 星期四</td>\n",
       "      <td>1.007325e+10</td>\n",
       "      <td>861456.0</td>\n",
       "      <td>酒石酸美托洛尔片(倍他乐克)</td>\n",
       "      <td>2.0</td>\n",
       "      <td>14.0</td>\n",
       "      <td>12.32</td>\n",
       "    </tr>\n",
       "    <tr>\n",
       "      <th>6420</th>\n",
       "      <td>2016-06-22 星期三</td>\n",
       "      <td>1.006566e+10</td>\n",
       "      <td>861397.0</td>\n",
       "      <td>氨加黄敏胶囊(请报77504)</td>\n",
       "      <td>1.0</td>\n",
       "      <td>17.5</td>\n",
       "      <td>15.50</td>\n",
       "    </tr>\n",
       "    <tr>\n",
       "      <th>4268</th>\n",
       "      <td>2016-04-08 星期五</td>\n",
       "      <td>1.004859e+10</td>\n",
       "      <td>868218.0</td>\n",
       "      <td>坎地沙坦酯片(迪之雅)</td>\n",
       "      <td>6.0</td>\n",
       "      <td>126.0</td>\n",
       "      <td>126.00</td>\n",
       "    </tr>\n",
       "    <tr>\n",
       "      <th>1640</th>\n",
       "      <td>2016-04-02 星期六</td>\n",
       "      <td>1.616528e+06</td>\n",
       "      <td>861456.0</td>\n",
       "      <td>酒石酸美托洛尔片(倍他乐克)</td>\n",
       "      <td>2.0</td>\n",
       "      <td>14.0</td>\n",
       "      <td>14.00</td>\n",
       "    </tr>\n",
       "    <tr>\n",
       "      <th>1136</th>\n",
       "      <td>2016-03-20 星期日</td>\n",
       "      <td>1.001220e+10</td>\n",
       "      <td>861406.0</td>\n",
       "      <td>非洛地平缓释片(波依定)</td>\n",
       "      <td>1.0</td>\n",
       "      <td>25.0</td>\n",
       "      <td>22.50</td>\n",
       "    </tr>\n",
       "    <tr>\n",
       "      <th>5611</th>\n",
       "      <td>2016-04-16 星期六</td>\n",
       "      <td>1.003132e+10</td>\n",
       "      <td>861507.0</td>\n",
       "      <td>苯磺酸氨氯地平片(安内真)</td>\n",
       "      <td>2.0</td>\n",
       "      <td>21.0</td>\n",
       "      <td>13.60</td>\n",
       "    </tr>\n",
       "  </tbody>\n",
       "</table>\n",
       "</div>"
      ],
      "text/plain": [
       "                购药时间          社保卡号      商品编码             商品名称  销售数量   应收金额  \\\n",
       "2648  2016-07-05 星期二  1.329273e+07  861496.0            尼莫地平片   2.0    6.0   \n",
       "5671  2016-07-16 星期六  1.002982e+10  861507.0    苯磺酸氨氯地平片(安内真)   2.0   19.0   \n",
       "2406  2016-01-05 星期二  1.000920e+10  861485.0     富马酸比索洛尔片(博苏)   2.0   33.6   \n",
       "2060  2016-03-08 星期二  1.007020e+10  861459.0       吲达帕胺片(寿比山)   1.0   15.0   \n",
       "6074  2016-05-05 星期四  1.007325e+10  861456.0   酒石酸美托洛尔片(倍他乐克)   2.0   14.0   \n",
       "6420  2016-06-22 星期三  1.006566e+10  861397.0  氨加黄敏胶囊(请报77504)   1.0   17.5   \n",
       "4268  2016-04-08 星期五  1.004859e+10  868218.0      坎地沙坦酯片(迪之雅)   6.0  126.0   \n",
       "1640  2016-04-02 星期六  1.616528e+06  861456.0   酒石酸美托洛尔片(倍他乐克)   2.0   14.0   \n",
       "1136  2016-03-20 星期日  1.001220e+10  861406.0     非洛地平缓释片(波依定)   1.0   25.0   \n",
       "5611  2016-04-16 星期六  1.003132e+10  861507.0    苯磺酸氨氯地平片(安内真)   2.0   21.0   \n",
       "\n",
       "        实收金额  \n",
       "2648    5.28  \n",
       "5671   17.00  \n",
       "2406   29.57  \n",
       "2060   13.50  \n",
       "6074   12.32  \n",
       "6420   15.50  \n",
       "4268  126.00  \n",
       "1640   14.00  \n",
       "1136   22.50  \n",
       "5611   13.60  "
      ]
     },
     "execution_count": 2,
     "metadata": {},
     "output_type": "execute_result"
    }
   ],
   "source": [
    "cleaned = original_data.copy()\n",
    "cleaned.sample(10)"
   ]
  },
  {
   "cell_type": "markdown",
   "id": "f5982c05-552a-4e27-aa94-c99ed0007bb5",
   "metadata": {},
   "source": [
    "数据整齐，符合一行是一个观察值，一列是一个变量，一个单元格是一个值的原则。"
   ]
  },
  {
   "cell_type": "markdown",
   "id": "d9f9c1fc-b16c-4f52-b0be-62f1418b01fc",
   "metadata": {},
   "source": [
    "#### 评估缺失数据与数据类型"
   ]
  },
  {
   "cell_type": "code",
   "execution_count": 3,
   "id": "e226a990-c76d-42b1-a113-995f03d8c356",
   "metadata": {},
   "outputs": [
    {
     "name": "stdout",
     "output_type": "stream",
     "text": [
      "<class 'pandas.core.frame.DataFrame'>\n",
      "RangeIndex: 6578 entries, 0 to 6577\n",
      "Data columns (total 7 columns):\n",
      " #   Column  Non-Null Count  Dtype  \n",
      "---  ------  --------------  -----  \n",
      " 0   购药时间    6576 non-null   object \n",
      " 1   社保卡号    6576 non-null   float64\n",
      " 2   商品编码    6577 non-null   float64\n",
      " 3   商品名称    6577 non-null   object \n",
      " 4   销售数量    6577 non-null   float64\n",
      " 5   应收金额    6577 non-null   float64\n",
      " 6   实收金额    6577 non-null   float64\n",
      "dtypes: float64(5), object(2)\n",
      "memory usage: 359.9+ KB\n"
     ]
    }
   ],
   "source": [
    "cleaned.info()"
   ]
  },
  {
   "cell_type": "markdown",
   "id": "e339126f-e6ff-4f15-a1d1-bf9272a6c5d0",
   "metadata": {},
   "source": [
    "购药时间和社保卡号存在两个空缺值。商品编码、商品名称、销售数量、应收金额、实收金额存在一个空缺值。分别提取。"
   ]
  },
  {
   "cell_type": "code",
   "execution_count": 4,
   "id": "ed4ee790-ffa4-4e78-9a90-5f8b25aa17d7",
   "metadata": {},
   "outputs": [
    {
     "data": {
      "text/html": [
       "<div>\n",
       "<style scoped>\n",
       "    .dataframe tbody tr th:only-of-type {\n",
       "        vertical-align: middle;\n",
       "    }\n",
       "\n",
       "    .dataframe tbody tr th {\n",
       "        vertical-align: top;\n",
       "    }\n",
       "\n",
       "    .dataframe thead th {\n",
       "        text-align: right;\n",
       "    }\n",
       "</style>\n",
       "<table border=\"1\" class=\"dataframe\">\n",
       "  <thead>\n",
       "    <tr style=\"text-align: right;\">\n",
       "      <th></th>\n",
       "      <th>购药时间</th>\n",
       "      <th>社保卡号</th>\n",
       "      <th>商品编码</th>\n",
       "      <th>商品名称</th>\n",
       "      <th>销售数量</th>\n",
       "      <th>应收金额</th>\n",
       "      <th>实收金额</th>\n",
       "    </tr>\n",
       "  </thead>\n",
       "  <tbody>\n",
       "    <tr>\n",
       "      <th>6570</th>\n",
       "      <td>NaN</td>\n",
       "      <td>11778628.0</td>\n",
       "      <td>2367011.0</td>\n",
       "      <td>高特灵</td>\n",
       "      <td>10.0</td>\n",
       "      <td>56.0</td>\n",
       "      <td>56.0</td>\n",
       "    </tr>\n",
       "    <tr>\n",
       "      <th>6574</th>\n",
       "      <td>NaN</td>\n",
       "      <td>NaN</td>\n",
       "      <td>NaN</td>\n",
       "      <td>NaN</td>\n",
       "      <td>NaN</td>\n",
       "      <td>NaN</td>\n",
       "      <td>NaN</td>\n",
       "    </tr>\n",
       "  </tbody>\n",
       "</table>\n",
       "</div>"
      ],
      "text/plain": [
       "     购药时间        社保卡号       商品编码 商品名称  销售数量  应收金额  实收金额\n",
       "6570  NaN  11778628.0  2367011.0  高特灵  10.0  56.0  56.0\n",
       "6574  NaN         NaN        NaN  NaN   NaN   NaN   NaN"
      ]
     },
     "execution_count": 4,
     "metadata": {},
     "output_type": "execute_result"
    }
   ],
   "source": [
    "## 购药时间空缺值提取\n",
    "cleaned[cleaned['购药时间'].isnull()]"
   ]
  },
  {
   "cell_type": "code",
   "execution_count": 5,
   "id": "9a44fa47-b044-4b67-8720-191a7d6aa34f",
   "metadata": {},
   "outputs": [
    {
     "name": "stdout",
     "output_type": "stream",
     "text": [
      "<class 'pandas.core.frame.DataFrame'>\n",
      "Index: 6576 entries, 0 to 6577\n",
      "Data columns (total 7 columns):\n",
      " #   Column  Non-Null Count  Dtype  \n",
      "---  ------  --------------  -----  \n",
      " 0   购药时间    6576 non-null   object \n",
      " 1   社保卡号    6575 non-null   float64\n",
      " 2   商品编码    6576 non-null   float64\n",
      " 3   商品名称    6576 non-null   object \n",
      " 4   销售数量    6576 non-null   float64\n",
      " 5   应收金额    6576 non-null   float64\n",
      " 6   实收金额    6576 non-null   float64\n",
      "dtypes: float64(5), object(2)\n",
      "memory usage: 411.0+ KB\n"
     ]
    }
   ],
   "source": [
    "## 删除购药时间缺失的行\n",
    "cleaned = cleaned.dropna(subset = '购药时间')\n",
    "cleaned.info()"
   ]
  },
  {
   "cell_type": "code",
   "execution_count": 6,
   "id": "a23aaed7-0003-41ca-a47f-2ea17180d19e",
   "metadata": {},
   "outputs": [
    {
     "data": {
      "text/html": [
       "<div>\n",
       "<style scoped>\n",
       "    .dataframe tbody tr th:only-of-type {\n",
       "        vertical-align: middle;\n",
       "    }\n",
       "\n",
       "    .dataframe tbody tr th {\n",
       "        vertical-align: top;\n",
       "    }\n",
       "\n",
       "    .dataframe thead th {\n",
       "        text-align: right;\n",
       "    }\n",
       "</style>\n",
       "<table border=\"1\" class=\"dataframe\">\n",
       "  <thead>\n",
       "    <tr style=\"text-align: right;\">\n",
       "      <th></th>\n",
       "      <th>购药时间</th>\n",
       "      <th>社保卡号</th>\n",
       "      <th>商品编码</th>\n",
       "      <th>商品名称</th>\n",
       "      <th>销售数量</th>\n",
       "      <th>应收金额</th>\n",
       "      <th>实收金额</th>\n",
       "    </tr>\n",
       "  </thead>\n",
       "  <tbody>\n",
       "    <tr>\n",
       "      <th>6571</th>\n",
       "      <td>2016-04-25 星期二</td>\n",
       "      <td>NaN</td>\n",
       "      <td>2367011.0</td>\n",
       "      <td>高特灵</td>\n",
       "      <td>2.0</td>\n",
       "      <td>11.2</td>\n",
       "      <td>9.86</td>\n",
       "    </tr>\n",
       "  </tbody>\n",
       "</table>\n",
       "</div>"
      ],
      "text/plain": [
       "                购药时间  社保卡号       商品编码 商品名称  销售数量  应收金额  实收金额\n",
       "6571  2016-04-25 星期二   NaN  2367011.0  高特灵   2.0  11.2  9.86"
      ]
     },
     "execution_count": 6,
     "metadata": {},
     "output_type": "execute_result"
    }
   ],
   "source": [
    "## 提取社保卡号空缺的行\n",
    "cleaned[cleaned['社保卡号'].isnull()]"
   ]
  },
  {
   "cell_type": "code",
   "execution_count": 7,
   "id": "74b20260-370d-472f-8676-e7861bec34be",
   "metadata": {},
   "outputs": [
    {
     "data": {
      "text/html": [
       "<div>\n",
       "<style scoped>\n",
       "    .dataframe tbody tr th:only-of-type {\n",
       "        vertical-align: middle;\n",
       "    }\n",
       "\n",
       "    .dataframe tbody tr th {\n",
       "        vertical-align: top;\n",
       "    }\n",
       "\n",
       "    .dataframe thead th {\n",
       "        text-align: right;\n",
       "    }\n",
       "</style>\n",
       "<table border=\"1\" class=\"dataframe\">\n",
       "  <thead>\n",
       "    <tr style=\"text-align: right;\">\n",
       "      <th></th>\n",
       "      <th>购药时间</th>\n",
       "      <th>社保卡号</th>\n",
       "      <th>商品编码</th>\n",
       "      <th>商品名称</th>\n",
       "      <th>销售数量</th>\n",
       "      <th>应收金额</th>\n",
       "      <th>实收金额</th>\n",
       "    </tr>\n",
       "  </thead>\n",
       "  <tbody>\n",
       "  </tbody>\n",
       "</table>\n",
       "</div>"
      ],
      "text/plain": [
       "Empty DataFrame\n",
       "Columns: [购药时间, 社保卡号, 商品编码, 商品名称, 销售数量, 应收金额, 实收金额]\n",
       "Index: []"
      ]
     },
     "execution_count": 7,
     "metadata": {},
     "output_type": "execute_result"
    }
   ],
   "source": [
    "## 用000代替社保卡号为空的值\n",
    "cleaned['社保卡号'] = cleaned['社保卡号'].fillna('000')\n",
    "cleaned[cleaned['社保卡号'].isnull()]"
   ]
  },
  {
   "cell_type": "code",
   "execution_count": 8,
   "id": "eb10824a-af1a-4a63-b067-d47c219baf1b",
   "metadata": {},
   "outputs": [
    {
     "name": "stdout",
     "output_type": "stream",
     "text": [
      "<class 'pandas.core.frame.DataFrame'>\n",
      "Index: 6576 entries, 0 to 6577\n",
      "Data columns (total 7 columns):\n",
      " #   Column  Non-Null Count  Dtype  \n",
      "---  ------  --------------  -----  \n",
      " 0   购药时间    6576 non-null   object \n",
      " 1   社保卡号    6576 non-null   object \n",
      " 2   商品编码    6576 non-null   object \n",
      " 3   商品名称    6576 non-null   object \n",
      " 4   销售数量    6576 non-null   int64  \n",
      " 5   应收金额    6576 non-null   float64\n",
      " 6   实收金额    6576 non-null   float64\n",
      "dtypes: float64(2), int64(1), object(4)\n",
      "memory usage: 411.0+ KB\n"
     ]
    }
   ],
   "source": [
    "## 社保卡号、商品编码应为字符串类型，销售数量应为整数类型。\n",
    "cleaned['社保卡号'] = cleaned['社保卡号'].astype('str')\n",
    "cleaned['商品编码'] = cleaned['商品编码'].astype('str')\n",
    "cleaned['销售数量'] = cleaned['销售数量'].astype('int')\n",
    "cleaned.info()"
   ]
  },
  {
   "cell_type": "code",
   "execution_count": 9,
   "id": "f00148bc-d03e-43fe-b84c-47bb24abc6c5",
   "metadata": {},
   "outputs": [
    {
     "data": {
      "text/html": [
       "<div>\n",
       "<style scoped>\n",
       "    .dataframe tbody tr th:only-of-type {\n",
       "        vertical-align: middle;\n",
       "    }\n",
       "\n",
       "    .dataframe tbody tr th {\n",
       "        vertical-align: top;\n",
       "    }\n",
       "\n",
       "    .dataframe thead th {\n",
       "        text-align: right;\n",
       "    }\n",
       "</style>\n",
       "<table border=\"1\" class=\"dataframe\">\n",
       "  <thead>\n",
       "    <tr style=\"text-align: right;\">\n",
       "      <th></th>\n",
       "      <th>社保卡号</th>\n",
       "      <th>商品编码</th>\n",
       "      <th>商品名称</th>\n",
       "      <th>销售数量</th>\n",
       "      <th>应收金额</th>\n",
       "      <th>实收金额</th>\n",
       "      <th>购药日期</th>\n",
       "      <th>星期</th>\n",
       "    </tr>\n",
       "  </thead>\n",
       "  <tbody>\n",
       "    <tr>\n",
       "      <th>0</th>\n",
       "      <td>1616528.0</td>\n",
       "      <td>236701.0</td>\n",
       "      <td>强力VC银翘片</td>\n",
       "      <td>6</td>\n",
       "      <td>82.8</td>\n",
       "      <td>69.00</td>\n",
       "      <td>2016-01-01</td>\n",
       "      <td>星期五</td>\n",
       "    </tr>\n",
       "    <tr>\n",
       "      <th>1</th>\n",
       "      <td>1616528.0</td>\n",
       "      <td>236701.0</td>\n",
       "      <td>清热解毒口服液</td>\n",
       "      <td>1</td>\n",
       "      <td>28.0</td>\n",
       "      <td>24.64</td>\n",
       "      <td>2016-01-02</td>\n",
       "      <td>星期六</td>\n",
       "    </tr>\n",
       "    <tr>\n",
       "      <th>2</th>\n",
       "      <td>12602828.0</td>\n",
       "      <td>236701.0</td>\n",
       "      <td>感康</td>\n",
       "      <td>2</td>\n",
       "      <td>16.8</td>\n",
       "      <td>15.00</td>\n",
       "      <td>2016-01-06</td>\n",
       "      <td>星期三</td>\n",
       "    </tr>\n",
       "    <tr>\n",
       "      <th>3</th>\n",
       "      <td>10070343428.0</td>\n",
       "      <td>236701.0</td>\n",
       "      <td>三九感冒灵</td>\n",
       "      <td>1</td>\n",
       "      <td>28.0</td>\n",
       "      <td>28.00</td>\n",
       "      <td>2016-01-11</td>\n",
       "      <td>星期一</td>\n",
       "    </tr>\n",
       "    <tr>\n",
       "      <th>4</th>\n",
       "      <td>101554328.0</td>\n",
       "      <td>236701.0</td>\n",
       "      <td>三九感冒灵</td>\n",
       "      <td>8</td>\n",
       "      <td>224.0</td>\n",
       "      <td>208.00</td>\n",
       "      <td>2016-01-15</td>\n",
       "      <td>星期五</td>\n",
       "    </tr>\n",
       "  </tbody>\n",
       "</table>\n",
       "</div>"
      ],
      "text/plain": [
       "            社保卡号      商品编码     商品名称  销售数量   应收金额    实收金额        购药日期   星期\n",
       "0      1616528.0  236701.0  强力VC银翘片     6   82.8   69.00  2016-01-01  星期五\n",
       "1      1616528.0  236701.0  清热解毒口服液     1   28.0   24.64  2016-01-02  星期六\n",
       "2     12602828.0  236701.0       感康     2   16.8   15.00  2016-01-06  星期三\n",
       "3  10070343428.0  236701.0    三九感冒灵     1   28.0   28.00  2016-01-11  星期一\n",
       "4    101554328.0  236701.0    三九感冒灵     8  224.0  208.00  2016-01-15  星期五"
      ]
     },
     "execution_count": 9,
     "metadata": {},
     "output_type": "execute_result"
    }
   ],
   "source": [
    "## 将购药时间拆分成两列\n",
    "split_result = cleaned['购药时间'].str.split(' ',expand = True)\n",
    "split_result.columns = ['购药日期','星期']\n",
    "cleaned = pd.concat([cleaned, split_result], axis=1)\n",
    "cleaned.drop('购药时间', axis=1, inplace=True)\n",
    "cleaned.head()"
   ]
  },
  {
   "cell_type": "code",
   "execution_count": 10,
   "id": "85220364-f76c-4324-9028-f62c9ea9dd06",
   "metadata": {},
   "outputs": [
    {
     "name": "stdout",
     "output_type": "stream",
     "text": [
      "<class 'pandas.core.frame.DataFrame'>\n",
      "Index: 6576 entries, 0 to 6577\n",
      "Data columns (total 8 columns):\n",
      " #   Column  Non-Null Count  Dtype         \n",
      "---  ------  --------------  -----         \n",
      " 0   社保卡号    6576 non-null   object        \n",
      " 1   商品编码    6576 non-null   object        \n",
      " 2   商品名称    6576 non-null   object        \n",
      " 3   销售数量    6576 non-null   int64         \n",
      " 4   应收金额    6576 non-null   float64       \n",
      " 5   实收金额    6576 non-null   float64       \n",
      " 6   购药日期    6576 non-null   datetime64[ns]\n",
      " 7   星期      6576 non-null   object        \n",
      "dtypes: datetime64[ns](1), float64(2), int64(1), object(4)\n",
      "memory usage: 462.4+ KB\n"
     ]
    }
   ],
   "source": [
    "## 转化购药日期列的数据类型为日期\n",
    "cleaned['购药日期'] = pd.to_datetime(cleaned['购药日期'])\n",
    "cleaned.info()"
   ]
  },
  {
   "cell_type": "markdown",
   "id": "10c67614-0146-4f25-b5a4-668fe7274375",
   "metadata": {},
   "source": [
    "#### 评估重复数据"
   ]
  },
  {
   "cell_type": "code",
   "execution_count": 11,
   "id": "a315923f-d123-493d-8833-cdc0d385f2df",
   "metadata": {},
   "outputs": [
    {
     "data": {
      "text/html": [
       "<div>\n",
       "<style scoped>\n",
       "    .dataframe tbody tr th:only-of-type {\n",
       "        vertical-align: middle;\n",
       "    }\n",
       "\n",
       "    .dataframe tbody tr th {\n",
       "        vertical-align: top;\n",
       "    }\n",
       "\n",
       "    .dataframe thead th {\n",
       "        text-align: right;\n",
       "    }\n",
       "</style>\n",
       "<table border=\"1\" class=\"dataframe\">\n",
       "  <thead>\n",
       "    <tr style=\"text-align: right;\">\n",
       "      <th></th>\n",
       "      <th>社保卡号</th>\n",
       "      <th>商品编码</th>\n",
       "      <th>商品名称</th>\n",
       "      <th>销售数量</th>\n",
       "      <th>应收金额</th>\n",
       "      <th>实收金额</th>\n",
       "      <th>购药日期</th>\n",
       "      <th>星期</th>\n",
       "    </tr>\n",
       "  </thead>\n",
       "  <tbody>\n",
       "  </tbody>\n",
       "</table>\n",
       "</div>"
      ],
      "text/plain": [
       "Empty DataFrame\n",
       "Columns: [社保卡号, 商品编码, 商品名称, 销售数量, 应收金额, 实收金额, 购药日期, 星期]\n",
       "Index: []"
      ]
     },
     "execution_count": 11,
     "metadata": {},
     "output_type": "execute_result"
    }
   ],
   "source": [
    "cleaned[cleaned.duplicated()]"
   ]
  },
  {
   "cell_type": "markdown",
   "id": "30d9db30-53a0-40ad-941d-02e8327d20a3",
   "metadata": {},
   "source": [
    "#### 评估不一致数据"
   ]
  },
  {
   "cell_type": "code",
   "execution_count": 12,
   "id": "fb252744-40c9-48e2-9fa6-fbea6c2e5720",
   "metadata": {},
   "outputs": [
    {
     "name": "stdout",
     "output_type": "stream",
     "text": [
      "商品名称\n",
      "苯磺酸氨氯地平片(安内真)            899\n",
      "开博通                      622\n",
      "酒石酸美托洛尔片(倍他乐克)           551\n",
      "硝苯地平片(心痛定)               424\n",
      "苯磺酸氨氯地平片(络活喜)            321\n",
      "复方利血平片(复方降压片)            306\n",
      "G琥珀酸美托洛尔缓释片(倍他乐克)        196\n",
      "非洛地平缓释片(波依定)             157\n",
      "复方利血平氨苯蝶啶片(北京降压0号)       149\n",
      "缬沙坦胶囊(代文)                146\n",
      "高特灵                      126\n",
      "吲达帕胺片(寿比山)               119\n",
      "苯磺酸左旋氨氯地平片(施慧达)          118\n",
      "x硝苯地平缓释片(伲福达)            113\n",
      "感康                       108\n",
      "厄贝沙坦氢氯噻嗪片(安博诺)           104\n",
      "厄贝沙坦片(吉加)                 93\n",
      "尼莫地平片                     90\n",
      "厄贝沙坦片(安博维)                85\n",
      "心痛定                       83\n",
      "KG替米沙坦片(欧美宁)(6盒/疗程)       79\n",
      "替米沙坦片(立文)                 73\n",
      "清热解毒口服液                   73\n",
      "G苯磺酸氨氯地平片(6盒/疗程)          72\n",
      "珍菊降压片                     71\n",
      "替米沙坦片(美卡素)                68\n",
      "富马酸比索洛尔片(博苏)              66\n",
      "复方罗布麻片                    65\n",
      "阿司匹林                      64\n",
      "富马酸比索洛尔片(康忻)              63\n",
      "坎地沙坦酯片(必洛斯)               62\n",
      "厄贝沙坦氢氯噻嗪片(依伦平)            58\n",
      "氯沙坦钾氢氯噻嗪片(海捷亚)            56\n",
      "尼群地平片                     49\n",
      "盐酸普萘洛尔片(心得安)              46\n",
      "地巴唑片                      42\n",
      "非洛地平缓释片(康宝得维)             42\n",
      "硝苯地平控释片(欣然)               39\n",
      "坎地沙坦酯片(迪之雅)               38\n",
      "KG非洛地平缓释片(易特欣)(6盒/疗程)     37\n",
      "洛丁新                       37\n",
      "G缬沙坦胶囊                    35\n",
      "**盐酸阿罗洛尔片(阿尔马尔)           34\n",
      "缬沙坦氨氯地平片(I)(倍博特)          33\n",
      "氨加黄敏胶囊(请报77504)           31\n",
      "卡托普利片                     31\n",
      "缬沙坦分散片(易达乐)               31\n",
      "x阿司匹林                     25\n",
      "马来酸左旋氨氯地平片(玄宁)            25\n",
      "替米沙坦片                     24\n",
      "双氢克尿塞                     23\n",
      "雷米普利片(瑞素坦)                22\n",
      "x福辛普利钠片(蒙诺)               22\n",
      "氯沙坦钾片(缓宁)                 20\n",
      "氨氯地平阿托伐他汀钙片(多达一)          20\n",
      "氨加黄敏胶囊                    19\n",
      "氯沙坦钾氢氯噻嗪片(安内喜)            19\n",
      "厄贝沙坦片(科苏)                 18\n",
      "盐酸特拉唑嗪片(马沙尼)              17\n",
      "三九感冒灵                     14\n",
      "马来酸依那普利片(怡那林)             12\n",
      "盐酸咪达普利片(达爽)               12\n",
      "卡维地洛片(金络)                 12\n",
      "强力VC银翘片                    9\n",
      "G厄贝沙坦分散片(6盒/疗程)            9\n",
      "G硝苯地平缓释片(II)(6盒/疗程)        9\n",
      "醒脑降压丸                      8\n",
      "**阿替洛尔片                    8\n",
      "培哚普利片(雅施达)                 7\n",
      "苯磺酸氨氯地平片(兰迪)               3\n",
      "D盐酸贝尼地平片                   3\n",
      "赖诺普利片(信赖安)                 3\n",
      "缬沙坦氢氯噻嗪片(复代文)              2\n",
      "TG盐酸贝那普利片(新亚富舒)            2\n",
      "D苯磺酸氨氯地平胶囊(丽珠优可)           1\n",
      "D厄贝沙坦氢氯噻嗪片(倍悦)             1\n",
      "TG厄贝沙坦片                    1\n",
      "D替格瑞洛片                     1\n",
      "Name: count, dtype: int64\n"
     ]
    }
   ],
   "source": [
    "with pd.option_context('display.max_rows', None):\n",
    "    print(cleaned['商品名称'].value_counts())"
   ]
  },
  {
   "cell_type": "markdown",
   "id": "61db3558-21b6-4b29-97a9-572c434a6ea3",
   "metadata": {},
   "source": [
    "#### 评估无效或错误数据"
   ]
  },
  {
   "cell_type": "code",
   "execution_count": 13,
   "id": "653e9545-07ea-452e-bc81-8973d54d8afb",
   "metadata": {},
   "outputs": [
    {
     "data": {
      "text/html": [
       "<div>\n",
       "<style scoped>\n",
       "    .dataframe tbody tr th:only-of-type {\n",
       "        vertical-align: middle;\n",
       "    }\n",
       "\n",
       "    .dataframe tbody tr th {\n",
       "        vertical-align: top;\n",
       "    }\n",
       "\n",
       "    .dataframe thead th {\n",
       "        text-align: right;\n",
       "    }\n",
       "</style>\n",
       "<table border=\"1\" class=\"dataframe\">\n",
       "  <thead>\n",
       "    <tr style=\"text-align: right;\">\n",
       "      <th></th>\n",
       "      <th>销售数量</th>\n",
       "      <th>应收金额</th>\n",
       "      <th>实收金额</th>\n",
       "      <th>购药日期</th>\n",
       "    </tr>\n",
       "  </thead>\n",
       "  <tbody>\n",
       "    <tr>\n",
       "      <th>count</th>\n",
       "      <td>6576.000000</td>\n",
       "      <td>6576.000000</td>\n",
       "      <td>6576.000000</td>\n",
       "      <td>6576</td>\n",
       "    </tr>\n",
       "    <tr>\n",
       "      <th>mean</th>\n",
       "      <td>2.385036</td>\n",
       "      <td>50.472962</td>\n",
       "      <td>46.316037</td>\n",
       "      <td>2016-04-10 11:07:00.437956096</td>\n",
       "    </tr>\n",
       "    <tr>\n",
       "      <th>min</th>\n",
       "      <td>-10.000000</td>\n",
       "      <td>-374.000000</td>\n",
       "      <td>-374.000000</td>\n",
       "      <td>2016-01-01 00:00:00</td>\n",
       "    </tr>\n",
       "    <tr>\n",
       "      <th>25%</th>\n",
       "      <td>1.000000</td>\n",
       "      <td>14.000000</td>\n",
       "      <td>12.320000</td>\n",
       "      <td>2016-02-23 00:00:00</td>\n",
       "    </tr>\n",
       "    <tr>\n",
       "      <th>50%</th>\n",
       "      <td>2.000000</td>\n",
       "      <td>28.000000</td>\n",
       "      <td>26.550000</td>\n",
       "      <td>2016-04-15 00:00:00</td>\n",
       "    </tr>\n",
       "    <tr>\n",
       "      <th>75%</th>\n",
       "      <td>2.000000</td>\n",
       "      <td>59.600000</td>\n",
       "      <td>53.000000</td>\n",
       "      <td>2016-05-27 00:00:00</td>\n",
       "    </tr>\n",
       "    <tr>\n",
       "      <th>max</th>\n",
       "      <td>50.000000</td>\n",
       "      <td>2950.000000</td>\n",
       "      <td>2650.000000</td>\n",
       "      <td>2016-07-19 00:00:00</td>\n",
       "    </tr>\n",
       "    <tr>\n",
       "      <th>std</th>\n",
       "      <td>2.373526</td>\n",
       "      <td>87.602559</td>\n",
       "      <td>80.982771</td>\n",
       "      <td>NaN</td>\n",
       "    </tr>\n",
       "  </tbody>\n",
       "</table>\n",
       "</div>"
      ],
      "text/plain": [
       "              销售数量         应收金额         实收金额                           购药日期\n",
       "count  6576.000000  6576.000000  6576.000000                           6576\n",
       "mean      2.385036    50.472962    46.316037  2016-04-10 11:07:00.437956096\n",
       "min     -10.000000  -374.000000  -374.000000            2016-01-01 00:00:00\n",
       "25%       1.000000    14.000000    12.320000            2016-02-23 00:00:00\n",
       "50%       2.000000    28.000000    26.550000            2016-04-15 00:00:00\n",
       "75%       2.000000    59.600000    53.000000            2016-05-27 00:00:00\n",
       "max      50.000000  2950.000000  2650.000000            2016-07-19 00:00:00\n",
       "std       2.373526    87.602559    80.982771                            NaN"
      ]
     },
     "execution_count": 13,
     "metadata": {},
     "output_type": "execute_result"
    }
   ],
   "source": [
    "cleaned.describe()"
   ]
  },
  {
   "cell_type": "code",
   "execution_count": 14,
   "id": "c8c37163-7b1d-42e5-ba03-4e75c77ab09d",
   "metadata": {},
   "outputs": [
    {
     "data": {
      "text/html": [
       "<div>\n",
       "<style scoped>\n",
       "    .dataframe tbody tr th:only-of-type {\n",
       "        vertical-align: middle;\n",
       "    }\n",
       "\n",
       "    .dataframe tbody tr th {\n",
       "        vertical-align: top;\n",
       "    }\n",
       "\n",
       "    .dataframe thead th {\n",
       "        text-align: right;\n",
       "    }\n",
       "</style>\n",
       "<table border=\"1\" class=\"dataframe\">\n",
       "  <thead>\n",
       "    <tr style=\"text-align: right;\">\n",
       "      <th></th>\n",
       "      <th>社保卡号</th>\n",
       "      <th>商品编码</th>\n",
       "      <th>商品名称</th>\n",
       "      <th>销售数量</th>\n",
       "      <th>应收金额</th>\n",
       "      <th>实收金额</th>\n",
       "      <th>购药日期</th>\n",
       "      <th>星期</th>\n",
       "    </tr>\n",
       "  </thead>\n",
       "  <tbody>\n",
       "    <tr>\n",
       "      <th>61</th>\n",
       "      <td>11616528.0</td>\n",
       "      <td>236702.0</td>\n",
       "      <td>强力VC银翘片</td>\n",
       "      <td>-1</td>\n",
       "      <td>-13.8</td>\n",
       "      <td>-13.80</td>\n",
       "      <td>2016-05-02</td>\n",
       "      <td>星期一</td>\n",
       "    </tr>\n",
       "    <tr>\n",
       "      <th>100</th>\n",
       "      <td>11487628.0</td>\n",
       "      <td>236704.0</td>\n",
       "      <td>氨加黄敏胶囊</td>\n",
       "      <td>-1</td>\n",
       "      <td>-12.4</td>\n",
       "      <td>-11.00</td>\n",
       "      <td>2016-06-19</td>\n",
       "      <td>星期日</td>\n",
       "    </tr>\n",
       "    <tr>\n",
       "      <th>201</th>\n",
       "      <td>10012556628.0</td>\n",
       "      <td>236706.0</td>\n",
       "      <td>阿司匹林</td>\n",
       "      <td>-2</td>\n",
       "      <td>-93.6</td>\n",
       "      <td>-84.00</td>\n",
       "      <td>2016-02-24</td>\n",
       "      <td>星期三</td>\n",
       "    </tr>\n",
       "    <tr>\n",
       "      <th>271</th>\n",
       "      <td>1616528.0</td>\n",
       "      <td>236709.0</td>\n",
       "      <td>心痛定</td>\n",
       "      <td>-1</td>\n",
       "      <td>-44.8</td>\n",
       "      <td>-39.80</td>\n",
       "      <td>2016-01-31</td>\n",
       "      <td>星期日</td>\n",
       "    </tr>\n",
       "    <tr>\n",
       "      <th>444</th>\n",
       "      <td>10019172628.0</td>\n",
       "      <td>2367011.0</td>\n",
       "      <td>开博通</td>\n",
       "      <td>-2</td>\n",
       "      <td>-56.0</td>\n",
       "      <td>-49.28</td>\n",
       "      <td>2016-01-19</td>\n",
       "      <td>星期二</td>\n",
       "    </tr>\n",
       "    <tr>\n",
       "      <th>1268</th>\n",
       "      <td>10046703028.0</td>\n",
       "      <td>861409.0</td>\n",
       "      <td>非洛地平缓释片(波依定)</td>\n",
       "      <td>-2</td>\n",
       "      <td>-65.0</td>\n",
       "      <td>-58.00</td>\n",
       "      <td>2016-06-14</td>\n",
       "      <td>星期二</td>\n",
       "    </tr>\n",
       "    <tr>\n",
       "      <th>1336</th>\n",
       "      <td>13493028.0</td>\n",
       "      <td>861435.0</td>\n",
       "      <td>缬沙坦胶囊(代文)</td>\n",
       "      <td>-2</td>\n",
       "      <td>-83.6</td>\n",
       "      <td>-75.00</td>\n",
       "      <td>2016-01-24</td>\n",
       "      <td>星期日</td>\n",
       "    </tr>\n",
       "    <tr>\n",
       "      <th>1620</th>\n",
       "      <td>10082289228.0</td>\n",
       "      <td>861456.0</td>\n",
       "      <td>酒石酸美托洛尔片(倍他乐克)</td>\n",
       "      <td>-1</td>\n",
       "      <td>-7.0</td>\n",
       "      <td>-6.30</td>\n",
       "      <td>2016-03-21</td>\n",
       "      <td>星期一</td>\n",
       "    </tr>\n",
       "    <tr>\n",
       "      <th>1674</th>\n",
       "      <td>10083778428.0</td>\n",
       "      <td>861456.0</td>\n",
       "      <td>酒石酸美托洛尔片(倍他乐克)</td>\n",
       "      <td>-1</td>\n",
       "      <td>-7.0</td>\n",
       "      <td>-6.30</td>\n",
       "      <td>2016-04-14</td>\n",
       "      <td>星期四</td>\n",
       "    </tr>\n",
       "    <tr>\n",
       "      <th>2553</th>\n",
       "      <td>10052521128.0</td>\n",
       "      <td>861494.0</td>\n",
       "      <td>尼群地平片</td>\n",
       "      <td>-5</td>\n",
       "      <td>-8.5</td>\n",
       "      <td>-7.50</td>\n",
       "      <td>2016-02-18</td>\n",
       "      <td>星期四</td>\n",
       "    </tr>\n",
       "    <tr>\n",
       "      <th>3253</th>\n",
       "      <td>10034505828.0</td>\n",
       "      <td>861519.0</td>\n",
       "      <td>厄贝沙坦片(安博维)</td>\n",
       "      <td>-10</td>\n",
       "      <td>-374.0</td>\n",
       "      <td>-374.00</td>\n",
       "      <td>2016-05-14</td>\n",
       "      <td>星期六</td>\n",
       "    </tr>\n",
       "    <tr>\n",
       "      <th>4507</th>\n",
       "      <td>10083894728.0</td>\n",
       "      <td>873343.0</td>\n",
       "      <td>高特灵</td>\n",
       "      <td>-1</td>\n",
       "      <td>-10.2</td>\n",
       "      <td>-10.20</td>\n",
       "      <td>2016-01-31</td>\n",
       "      <td>星期日</td>\n",
       "    </tr>\n",
       "    <tr>\n",
       "      <th>4540</th>\n",
       "      <td>10079859328.0</td>\n",
       "      <td>873714.0</td>\n",
       "      <td>缬沙坦氨氯地平片(I)(倍博特)</td>\n",
       "      <td>-1</td>\n",
       "      <td>-68.6</td>\n",
       "      <td>-68.60</td>\n",
       "      <td>2016-01-12</td>\n",
       "      <td>星期二</td>\n",
       "    </tr>\n",
       "    <tr>\n",
       "      <th>5151</th>\n",
       "      <td>1616528.0</td>\n",
       "      <td>871158.0</td>\n",
       "      <td>厄贝沙坦片(吉加)</td>\n",
       "      <td>-1</td>\n",
       "      <td>-19.0</td>\n",
       "      <td>-17.00</td>\n",
       "      <td>2016-02-28</td>\n",
       "      <td>星期日</td>\n",
       "    </tr>\n",
       "    <tr>\n",
       "      <th>5241</th>\n",
       "      <td>10020846928.0</td>\n",
       "      <td>865099.0</td>\n",
       "      <td>硝苯地平片(心痛定)</td>\n",
       "      <td>-2</td>\n",
       "      <td>-3.4</td>\n",
       "      <td>-2.99</td>\n",
       "      <td>2016-01-26</td>\n",
       "      <td>星期二</td>\n",
       "    </tr>\n",
       "    <tr>\n",
       "      <th>5742</th>\n",
       "      <td>10083764928.0</td>\n",
       "      <td>864340.0</td>\n",
       "      <td>苯磺酸左旋氨氯地平片(施慧达)</td>\n",
       "      <td>-2</td>\n",
       "      <td>-79.0</td>\n",
       "      <td>-70.00</td>\n",
       "      <td>2016-04-14</td>\n",
       "      <td>星期四</td>\n",
       "    </tr>\n",
       "  </tbody>\n",
       "</table>\n",
       "</div>"
      ],
      "text/plain": [
       "               社保卡号       商品编码              商品名称  销售数量   应收金额    实收金额  \\\n",
       "61       11616528.0   236702.0           强力VC银翘片    -1  -13.8  -13.80   \n",
       "100      11487628.0   236704.0            氨加黄敏胶囊    -1  -12.4  -11.00   \n",
       "201   10012556628.0   236706.0              阿司匹林    -2  -93.6  -84.00   \n",
       "271       1616528.0   236709.0               心痛定    -1  -44.8  -39.80   \n",
       "444   10019172628.0  2367011.0               开博通    -2  -56.0  -49.28   \n",
       "1268  10046703028.0   861409.0      非洛地平缓释片(波依定)    -2  -65.0  -58.00   \n",
       "1336     13493028.0   861435.0         缬沙坦胶囊(代文)    -2  -83.6  -75.00   \n",
       "1620  10082289228.0   861456.0    酒石酸美托洛尔片(倍他乐克)    -1   -7.0   -6.30   \n",
       "1674  10083778428.0   861456.0    酒石酸美托洛尔片(倍他乐克)    -1   -7.0   -6.30   \n",
       "2553  10052521128.0   861494.0             尼群地平片    -5   -8.5   -7.50   \n",
       "3253  10034505828.0   861519.0        厄贝沙坦片(安博维)   -10 -374.0 -374.00   \n",
       "4507  10083894728.0   873343.0               高特灵    -1  -10.2  -10.20   \n",
       "4540  10079859328.0   873714.0  缬沙坦氨氯地平片(I)(倍博特)    -1  -68.6  -68.60   \n",
       "5151      1616528.0   871158.0         厄贝沙坦片(吉加)    -1  -19.0  -17.00   \n",
       "5241  10020846928.0   865099.0        硝苯地平片(心痛定)    -2   -3.4   -2.99   \n",
       "5742  10083764928.0   864340.0   苯磺酸左旋氨氯地平片(施慧达)    -2  -79.0  -70.00   \n",
       "\n",
       "           购药日期   星期  \n",
       "61   2016-05-02  星期一  \n",
       "100  2016-06-19  星期日  \n",
       "201  2016-02-24  星期三  \n",
       "271  2016-01-31  星期日  \n",
       "444  2016-01-19  星期二  \n",
       "1268 2016-06-14  星期二  \n",
       "1336 2016-01-24  星期日  \n",
       "1620 2016-03-21  星期一  \n",
       "1674 2016-04-14  星期四  \n",
       "2553 2016-02-18  星期四  \n",
       "3253 2016-05-14  星期六  \n",
       "4507 2016-01-31  星期日  \n",
       "4540 2016-01-12  星期二  \n",
       "5151 2016-02-28  星期日  \n",
       "5241 2016-01-26  星期二  \n",
       "5742 2016-04-14  星期四  "
      ]
     },
     "execution_count": 14,
     "metadata": {},
     "output_type": "execute_result"
    }
   ],
   "source": [
    "## 存在值为负数的数据，进行提取\n",
    "cleaned[cleaned['销售数量'] < 0]"
   ]
  },
  {
   "cell_type": "code",
   "execution_count": 15,
   "id": "5f205e9b-2c36-4c6c-b868-3c1f9026b5f9",
   "metadata": {},
   "outputs": [
    {
     "data": {
      "text/html": [
       "<div>\n",
       "<style scoped>\n",
       "    .dataframe tbody tr th:only-of-type {\n",
       "        vertical-align: middle;\n",
       "    }\n",
       "\n",
       "    .dataframe tbody tr th {\n",
       "        vertical-align: top;\n",
       "    }\n",
       "\n",
       "    .dataframe thead th {\n",
       "        text-align: right;\n",
       "    }\n",
       "</style>\n",
       "<table border=\"1\" class=\"dataframe\">\n",
       "  <thead>\n",
       "    <tr style=\"text-align: right;\">\n",
       "      <th></th>\n",
       "      <th>社保卡号</th>\n",
       "      <th>商品编码</th>\n",
       "      <th>商品名称</th>\n",
       "      <th>销售数量</th>\n",
       "      <th>应收金额</th>\n",
       "      <th>实收金额</th>\n",
       "      <th>购药日期</th>\n",
       "      <th>星期</th>\n",
       "    </tr>\n",
       "  </thead>\n",
       "  <tbody>\n",
       "  </tbody>\n",
       "</table>\n",
       "</div>"
      ],
      "text/plain": [
       "Empty DataFrame\n",
       "Columns: [社保卡号, 商品编码, 商品名称, 销售数量, 应收金额, 实收金额, 购药日期, 星期]\n",
       "Index: []"
      ]
     },
     "execution_count": 15,
     "metadata": {},
     "output_type": "execute_result"
    }
   ],
   "source": [
    "## 将负值转化为正值\n",
    "cleaned['销售数量'] = cleaned['销售数量'].abs()\n",
    "cleaned['应收金额'] = cleaned['应收金额'].abs()\n",
    "cleaned['实收金额'] = cleaned['实收金额'].abs()\n",
    "cleaned[(cleaned['销售数量']<0) | (cleaned['应收金额']<0) | (cleaned['实收金额'] < 0)]"
   ]
  },
  {
   "cell_type": "markdown",
   "id": "a5d2e198-4725-4f68-afde-158a43f1d272",
   "metadata": {},
   "source": [
    "### 保存清理后的数据"
   ]
  },
  {
   "cell_type": "code",
   "execution_count": 16,
   "id": "e5f66155-889f-439f-81c6-65007c8dfe5c",
   "metadata": {},
   "outputs": [],
   "source": [
    "cleaned.to_csv('cleaned_医院药品销售数据.xlsx')"
   ]
  },
  {
   "cell_type": "markdown",
   "id": "c6aeb33e-1dc9-4df9-abe2-1250d82a32ba",
   "metadata": {},
   "source": [
    "### 数据可视化"
   ]
  },
  {
   "cell_type": "code",
   "execution_count": 17,
   "id": "dc80dcfc-568e-4d41-a20a-4486e258d43f",
   "metadata": {},
   "outputs": [],
   "source": [
    "import seaborn as sns\n",
    "import matplotlib.pyplot as plt\n",
    "sns.set_palette('pastel')"
   ]
  },
  {
   "cell_type": "code",
   "execution_count": 18,
   "id": "0da94b8f-60bb-46a8-a22e-641426a75234",
   "metadata": {},
   "outputs": [],
   "source": [
    "plt.rcParams['font.sans-serif'] = ['SimHei'] \n",
    "plt.rcParams['axes.unicode_minus'] = False"
   ]
  },
  {
   "cell_type": "markdown",
   "id": "6ed47f8f-69f8-4d94-904f-30572aefe9ad",
   "metadata": {},
   "source": [
    "### 每日、每周、每月药品销售数量统计"
   ]
  },
  {
   "cell_type": "markdown",
   "id": "20343b9c-f61b-49e4-8707-abe0ee428cd0",
   "metadata": {},
   "source": [
    "#### 每日药品销售数量"
   ]
  },
  {
   "cell_type": "code",
   "execution_count": 43,
   "id": "f692af47-92a3-417d-aba8-a073c9538720",
   "metadata": {},
   "outputs": [
    {
     "data": {
      "text/html": [
       "<div>\n",
       "<style scoped>\n",
       "    .dataframe tbody tr th:only-of-type {\n",
       "        vertical-align: middle;\n",
       "    }\n",
       "\n",
       "    .dataframe tbody tr th {\n",
       "        vertical-align: top;\n",
       "    }\n",
       "\n",
       "    .dataframe thead th {\n",
       "        text-align: right;\n",
       "    }\n",
       "</style>\n",
       "<table border=\"1\" class=\"dataframe\">\n",
       "  <thead>\n",
       "    <tr style=\"text-align: right;\">\n",
       "      <th></th>\n",
       "      <th>购药日</th>\n",
       "      <th>销售数量</th>\n",
       "    </tr>\n",
       "  </thead>\n",
       "  <tbody>\n",
       "    <tr>\n",
       "      <th>0</th>\n",
       "      <td>1</td>\n",
       "      <td>488</td>\n",
       "    </tr>\n",
       "    <tr>\n",
       "      <th>1</th>\n",
       "      <td>2</td>\n",
       "      <td>486</td>\n",
       "    </tr>\n",
       "    <tr>\n",
       "      <th>2</th>\n",
       "      <td>3</td>\n",
       "      <td>398</td>\n",
       "    </tr>\n",
       "    <tr>\n",
       "      <th>3</th>\n",
       "      <td>4</td>\n",
       "      <td>401</td>\n",
       "    </tr>\n",
       "    <tr>\n",
       "      <th>4</th>\n",
       "      <td>5</td>\n",
       "      <td>1505</td>\n",
       "    </tr>\n",
       "    <tr>\n",
       "      <th>5</th>\n",
       "      <td>6</td>\n",
       "      <td>388</td>\n",
       "    </tr>\n",
       "    <tr>\n",
       "      <th>6</th>\n",
       "      <td>7</td>\n",
       "      <td>371</td>\n",
       "    </tr>\n",
       "    <tr>\n",
       "      <th>7</th>\n",
       "      <td>8</td>\n",
       "      <td>379</td>\n",
       "    </tr>\n",
       "    <tr>\n",
       "      <th>8</th>\n",
       "      <td>9</td>\n",
       "      <td>340</td>\n",
       "    </tr>\n",
       "    <tr>\n",
       "      <th>9</th>\n",
       "      <td>10</td>\n",
       "      <td>356</td>\n",
       "    </tr>\n",
       "    <tr>\n",
       "      <th>10</th>\n",
       "      <td>11</td>\n",
       "      <td>480</td>\n",
       "    </tr>\n",
       "    <tr>\n",
       "      <th>11</th>\n",
       "      <td>12</td>\n",
       "      <td>426</td>\n",
       "    </tr>\n",
       "    <tr>\n",
       "      <th>12</th>\n",
       "      <td>13</td>\n",
       "      <td>347</td>\n",
       "    </tr>\n",
       "    <tr>\n",
       "      <th>13</th>\n",
       "      <td>14</td>\n",
       "      <td>354</td>\n",
       "    </tr>\n",
       "    <tr>\n",
       "      <th>14</th>\n",
       "      <td>15</td>\n",
       "      <td>1730</td>\n",
       "    </tr>\n",
       "    <tr>\n",
       "      <th>15</th>\n",
       "      <td>16</td>\n",
       "      <td>648</td>\n",
       "    </tr>\n",
       "    <tr>\n",
       "      <th>16</th>\n",
       "      <td>17</td>\n",
       "      <td>472</td>\n",
       "    </tr>\n",
       "    <tr>\n",
       "      <th>17</th>\n",
       "      <td>18</td>\n",
       "      <td>662</td>\n",
       "    </tr>\n",
       "    <tr>\n",
       "      <th>18</th>\n",
       "      <td>19</td>\n",
       "      <td>403</td>\n",
       "    </tr>\n",
       "    <tr>\n",
       "      <th>19</th>\n",
       "      <td>20</td>\n",
       "      <td>380</td>\n",
       "    </tr>\n",
       "    <tr>\n",
       "      <th>20</th>\n",
       "      <td>21</td>\n",
       "      <td>342</td>\n",
       "    </tr>\n",
       "    <tr>\n",
       "      <th>21</th>\n",
       "      <td>22</td>\n",
       "      <td>331</td>\n",
       "    </tr>\n",
       "    <tr>\n",
       "      <th>22</th>\n",
       "      <td>23</td>\n",
       "      <td>376</td>\n",
       "    </tr>\n",
       "    <tr>\n",
       "      <th>23</th>\n",
       "      <td>24</td>\n",
       "      <td>339</td>\n",
       "    </tr>\n",
       "    <tr>\n",
       "      <th>24</th>\n",
       "      <td>25</td>\n",
       "      <td>1400</td>\n",
       "    </tr>\n",
       "    <tr>\n",
       "      <th>25</th>\n",
       "      <td>26</td>\n",
       "      <td>344</td>\n",
       "    </tr>\n",
       "    <tr>\n",
       "      <th>26</th>\n",
       "      <td>27</td>\n",
       "      <td>334</td>\n",
       "    </tr>\n",
       "    <tr>\n",
       "      <th>27</th>\n",
       "      <td>28</td>\n",
       "      <td>403</td>\n",
       "    </tr>\n",
       "    <tr>\n",
       "      <th>28</th>\n",
       "      <td>29</td>\n",
       "      <td>419</td>\n",
       "    </tr>\n",
       "    <tr>\n",
       "      <th>29</th>\n",
       "      <td>30</td>\n",
       "      <td>274</td>\n",
       "    </tr>\n",
       "    <tr>\n",
       "      <th>30</th>\n",
       "      <td>31</td>\n",
       "      <td>178</td>\n",
       "    </tr>\n",
       "  </tbody>\n",
       "</table>\n",
       "</div>"
      ],
      "text/plain": [
       "    购药日  销售数量\n",
       "0     1   488\n",
       "1     2   486\n",
       "2     3   398\n",
       "3     4   401\n",
       "4     5  1505\n",
       "5     6   388\n",
       "6     7   371\n",
       "7     8   379\n",
       "8     9   340\n",
       "9    10   356\n",
       "10   11   480\n",
       "11   12   426\n",
       "12   13   347\n",
       "13   14   354\n",
       "14   15  1730\n",
       "15   16   648\n",
       "16   17   472\n",
       "17   18   662\n",
       "18   19   403\n",
       "19   20   380\n",
       "20   21   342\n",
       "21   22   331\n",
       "22   23   376\n",
       "23   24   339\n",
       "24   25  1400\n",
       "25   26   344\n",
       "26   27   334\n",
       "27   28   403\n",
       "28   29   419\n",
       "29   30   274\n",
       "30   31   178"
      ]
     },
     "execution_count": 43,
     "metadata": {},
     "output_type": "execute_result"
    }
   ],
   "source": [
    "## 新建列：购药日\n",
    "cleaned['购药日'] = cleaned['购药日期'].dt.day\n",
    "daily_amount_count = cleaned.groupby('购药日')['销售数量'].sum()\n",
    "daily_amount_df = daily_amount_count.reset_index()\n",
    "daily_amount_df.columns = ['购药日', '销售数量']\n",
    "daily_amount_df"
   ]
  },
  {
   "cell_type": "code",
   "execution_count": 44,
   "id": "608e743c-faa8-4722-940a-75d362085453",
   "metadata": {},
   "outputs": [
    {
     "data": {
      "image/png": "[encoded data removed]",
      "text/plain": [
       "<Figure size 1200x600 with 1 Axes>"
      ]
     },
     "metadata": {},
     "output_type": "display_data"
    }
   ],
   "source": [
    "plt.figure(figsize=(12, 6))\n",
    "ax = sns.barplot(daily_amount_df,x = '购药日',y = '销售数量')\n",
    "for container in ax.containers:\n",
    "    ax.bar_label(container, fmt='%.0f', fontsize=11, padding=3)\n",
    "plt.title('每日药品销售量')\n",
    "plt.show()"
   ]
  },
  {
   "cell_type": "markdown",
   "id": "2409b582-b9ce-421f-b337-219a1d983001",
   "metadata": {},
   "source": [
    "每月的5号、15号和25号出现药品销售的高峰，药品销售量最大。"
   ]
  },
  {
   "cell_type": "markdown",
   "id": "aabcb15f-c30d-49ab-bcee-defbc0bd813d",
   "metadata": {},
   "source": [
    "#### 每周药品销售数量"
   ]
  },
  {
   "cell_type": "code",
   "execution_count": 21,
   "id": "73e849ed-5986-465e-81b5-e571e6638c81",
   "metadata": {},
   "outputs": [
    {
     "data": {
      "image/png": "[encoded data removed]",
      "text/plain": [
       "<Figure size 800x500 with 1 Axes>"
      ]
     },
     "metadata": {},
     "output_type": "display_data"
    }
   ],
   "source": [
    "plt.figure(figsize = (8,5))\n",
    "df_sell_amount = cleaned.groupby('星期')['销售数量'].sum()\n",
    "df_sell_bar = df_sell_amount.reset_index()\n",
    "ax = sns.barplot(df_sell_bar,x = '星期',y = '销售数量',color = 'pink')\n",
    "for container in ax.containers:\n",
    "    ax.bar_label(container, fmt='%.0f', fontsize=11, padding=3)\n",
    "plt.title('每周药品销售数量')\n",
    "plt.show()"
   ]
  },
  {
   "cell_type": "markdown",
   "id": "9312107f-f5ce-4b11-9ab1-a1e5194771b1",
   "metadata": {},
   "source": [
    "一周中，销量最好日子在星期五，其次是星期六和星期二。星期四销量最差。"
   ]
  },
  {
   "cell_type": "markdown",
   "id": "bc717037-5c82-447b-a2df-7ea335a4db95",
   "metadata": {},
   "source": [
    "#### 每月药品销售量"
   ]
  },
  {
   "cell_type": "code",
   "execution_count": 45,
   "id": "0c07e79b-68e7-4524-bdcd-a60870a57001",
   "metadata": {},
   "outputs": [
    {
     "data": {
      "text/html": [
       "<div>\n",
       "<style scoped>\n",
       "    .dataframe tbody tr th:only-of-type {\n",
       "        vertical-align: middle;\n",
       "    }\n",
       "\n",
       "    .dataframe tbody tr th {\n",
       "        vertical-align: top;\n",
       "    }\n",
       "\n",
       "    .dataframe thead th {\n",
       "        text-align: right;\n",
       "    }\n",
       "</style>\n",
       "<table border=\"1\" class=\"dataframe\">\n",
       "  <thead>\n",
       "    <tr style=\"text-align: right;\">\n",
       "      <th></th>\n",
       "      <th>购药月</th>\n",
       "      <th>销售数量</th>\n",
       "    </tr>\n",
       "  </thead>\n",
       "  <tbody>\n",
       "    <tr>\n",
       "      <th>0</th>\n",
       "      <td>1</td>\n",
       "      <td>2536</td>\n",
       "    </tr>\n",
       "    <tr>\n",
       "      <th>1</th>\n",
       "      <td>2</td>\n",
       "      <td>1927</td>\n",
       "    </tr>\n",
       "    <tr>\n",
       "      <th>2</th>\n",
       "      <td>3</td>\n",
       "      <td>2226</td>\n",
       "    </tr>\n",
       "    <tr>\n",
       "      <th>3</th>\n",
       "      <td>4</td>\n",
       "      <td>3015</td>\n",
       "    </tr>\n",
       "    <tr>\n",
       "      <th>4</th>\n",
       "      <td>5</td>\n",
       "      <td>2236</td>\n",
       "    </tr>\n",
       "    <tr>\n",
       "      <th>5</th>\n",
       "      <td>6</td>\n",
       "      <td>2331</td>\n",
       "    </tr>\n",
       "    <tr>\n",
       "      <th>6</th>\n",
       "      <td>7</td>\n",
       "      <td>1483</td>\n",
       "    </tr>\n",
       "  </tbody>\n",
       "</table>\n",
       "</div>"
      ],
      "text/plain": [
       "   购药月  销售数量\n",
       "0    1  2536\n",
       "1    2  1927\n",
       "2    3  2226\n",
       "3    4  3015\n",
       "4    5  2236\n",
       "5    6  2331\n",
       "6    7  1483"
      ]
     },
     "execution_count": 45,
     "metadata": {},
     "output_type": "execute_result"
    }
   ],
   "source": [
    "## 新建列：购药月\n",
    "cleaned['购药月'] = cleaned['购药日期'].dt.month\n",
    "monthly_amount_count = cleaned.groupby('购药月')['销售数量'].sum()\n",
    "monthly_amount_df = monthly_amount_count.reset_index()\n",
    "monthly_amount_df"
   ]
  },
  {
   "cell_type": "code",
   "execution_count": 46,
   "id": "deaef3bc-6921-4019-97d2-435dcda46bd8",
   "metadata": {},
   "outputs": [
    {
     "data": {
      "image/png": "[encoded data removed]",
      "text/plain": [
       "<Figure size 800x500 with 1 Axes>"
      ]
     },
     "metadata": {},
     "output_type": "display_data"
    }
   ],
   "source": [
    "plt.figure(figsize = (8,5))\n",
    "ax = sns.barplot(monthly_amount_df,x = '购药月',y = '销售数量')\n",
    "for container in ax.containers:\n",
    "    ax.bar_label(container, fmt='%.0f', fontsize=11, padding=3)\n",
    "plt.title('每月药品销售量')\n",
    "plt.show()"
   ]
  },
  {
   "cell_type": "markdown",
   "id": "9017363f-f62a-4ed9-8842-7a9ba6b90744",
   "metadata": {},
   "source": [
    "四月份药品销售量最多，七月最少。"
   ]
  },
  {
   "cell_type": "markdown",
   "id": "70b37316-9aa5-4c62-a075-2b2660107610",
   "metadata": {},
   "source": [
    "### 每日、每周、每月购药人数统计"
   ]
  },
  {
   "cell_type": "markdown",
   "id": "cd12c125-285f-45fa-9b02-8da0295866b7",
   "metadata": {},
   "source": [
    "#### 每日购药人数"
   ]
  },
  {
   "cell_type": "code",
   "execution_count": 34,
   "id": "6ed94aee-29f8-4db4-bcdd-2684c40c21ed",
   "metadata": {},
   "outputs": [
    {
     "data": {
      "text/html": [
       "<div>\n",
       "<style scoped>\n",
       "    .dataframe tbody tr th:only-of-type {\n",
       "        vertical-align: middle;\n",
       "    }\n",
       "\n",
       "    .dataframe tbody tr th {\n",
       "        vertical-align: top;\n",
       "    }\n",
       "\n",
       "    .dataframe thead th {\n",
       "        text-align: right;\n",
       "    }\n",
       "</style>\n",
       "<table border=\"1\" class=\"dataframe\">\n",
       "  <thead>\n",
       "    <tr style=\"text-align: right;\">\n",
       "      <th></th>\n",
       "      <th>购药日</th>\n",
       "      <th>购药人数</th>\n",
       "    </tr>\n",
       "  </thead>\n",
       "  <tbody>\n",
       "    <tr>\n",
       "      <th>0</th>\n",
       "      <td>1</td>\n",
       "      <td>148</td>\n",
       "    </tr>\n",
       "    <tr>\n",
       "      <th>1</th>\n",
       "      <td>2</td>\n",
       "      <td>140</td>\n",
       "    </tr>\n",
       "    <tr>\n",
       "      <th>2</th>\n",
       "      <td>3</td>\n",
       "      <td>135</td>\n",
       "    </tr>\n",
       "    <tr>\n",
       "      <th>3</th>\n",
       "      <td>4</td>\n",
       "      <td>133</td>\n",
       "    </tr>\n",
       "    <tr>\n",
       "      <th>4</th>\n",
       "      <td>5</td>\n",
       "      <td>378</td>\n",
       "    </tr>\n",
       "    <tr>\n",
       "      <th>5</th>\n",
       "      <td>6</td>\n",
       "      <td>145</td>\n",
       "    </tr>\n",
       "    <tr>\n",
       "      <th>6</th>\n",
       "      <td>7</td>\n",
       "      <td>106</td>\n",
       "    </tr>\n",
       "    <tr>\n",
       "      <th>7</th>\n",
       "      <td>8</td>\n",
       "      <td>109</td>\n",
       "    </tr>\n",
       "    <tr>\n",
       "      <th>8</th>\n",
       "      <td>9</td>\n",
       "      <td>116</td>\n",
       "    </tr>\n",
       "    <tr>\n",
       "      <th>9</th>\n",
       "      <td>10</td>\n",
       "      <td>108</td>\n",
       "    </tr>\n",
       "    <tr>\n",
       "      <th>10</th>\n",
       "      <td>11</td>\n",
       "      <td>143</td>\n",
       "    </tr>\n",
       "    <tr>\n",
       "      <th>11</th>\n",
       "      <td>12</td>\n",
       "      <td>125</td>\n",
       "    </tr>\n",
       "    <tr>\n",
       "      <th>12</th>\n",
       "      <td>13</td>\n",
       "      <td>127</td>\n",
       "    </tr>\n",
       "    <tr>\n",
       "      <th>13</th>\n",
       "      <td>14</td>\n",
       "      <td>119</td>\n",
       "    </tr>\n",
       "    <tr>\n",
       "      <th>14</th>\n",
       "      <td>15</td>\n",
       "      <td>494</td>\n",
       "    </tr>\n",
       "    <tr>\n",
       "      <th>15</th>\n",
       "      <td>16</td>\n",
       "      <td>229</td>\n",
       "    </tr>\n",
       "    <tr>\n",
       "      <th>16</th>\n",
       "      <td>17</td>\n",
       "      <td>165</td>\n",
       "    </tr>\n",
       "    <tr>\n",
       "      <th>17</th>\n",
       "      <td>18</td>\n",
       "      <td>156</td>\n",
       "    </tr>\n",
       "    <tr>\n",
       "      <th>18</th>\n",
       "      <td>19</td>\n",
       "      <td>133</td>\n",
       "    </tr>\n",
       "    <tr>\n",
       "      <th>19</th>\n",
       "      <td>20</td>\n",
       "      <td>119</td>\n",
       "    </tr>\n",
       "    <tr>\n",
       "      <th>20</th>\n",
       "      <td>21</td>\n",
       "      <td>105</td>\n",
       "    </tr>\n",
       "    <tr>\n",
       "      <th>21</th>\n",
       "      <td>22</td>\n",
       "      <td>104</td>\n",
       "    </tr>\n",
       "    <tr>\n",
       "      <th>22</th>\n",
       "      <td>23</td>\n",
       "      <td>120</td>\n",
       "    </tr>\n",
       "    <tr>\n",
       "      <th>23</th>\n",
       "      <td>24</td>\n",
       "      <td>116</td>\n",
       "    </tr>\n",
       "    <tr>\n",
       "      <th>24</th>\n",
       "      <td>25</td>\n",
       "      <td>357</td>\n",
       "    </tr>\n",
       "    <tr>\n",
       "      <th>25</th>\n",
       "      <td>26</td>\n",
       "      <td>120</td>\n",
       "    </tr>\n",
       "    <tr>\n",
       "      <th>26</th>\n",
       "      <td>27</td>\n",
       "      <td>114</td>\n",
       "    </tr>\n",
       "    <tr>\n",
       "      <th>27</th>\n",
       "      <td>28</td>\n",
       "      <td>143</td>\n",
       "    </tr>\n",
       "    <tr>\n",
       "      <th>28</th>\n",
       "      <td>29</td>\n",
       "      <td>114</td>\n",
       "    </tr>\n",
       "    <tr>\n",
       "      <th>29</th>\n",
       "      <td>30</td>\n",
       "      <td>84</td>\n",
       "    </tr>\n",
       "    <tr>\n",
       "      <th>30</th>\n",
       "      <td>31</td>\n",
       "      <td>69</td>\n",
       "    </tr>\n",
       "  </tbody>\n",
       "</table>\n",
       "</div>"
      ],
      "text/plain": [
       "    购药日  购药人数\n",
       "0     1   148\n",
       "1     2   140\n",
       "2     3   135\n",
       "3     4   133\n",
       "4     5   378\n",
       "5     6   145\n",
       "6     7   106\n",
       "7     8   109\n",
       "8     9   116\n",
       "9    10   108\n",
       "10   11   143\n",
       "11   12   125\n",
       "12   13   127\n",
       "13   14   119\n",
       "14   15   494\n",
       "15   16   229\n",
       "16   17   165\n",
       "17   18   156\n",
       "18   19   133\n",
       "19   20   119\n",
       "20   21   105\n",
       "21   22   104\n",
       "22   23   120\n",
       "23   24   116\n",
       "24   25   357\n",
       "25   26   120\n",
       "26   27   114\n",
       "27   28   143\n",
       "28   29   114\n",
       "29   30    84\n",
       "30   31    69"
      ]
     },
     "execution_count": 34,
     "metadata": {},
     "output_type": "execute_result"
    }
   ],
   "source": [
    "cleaned['购药日'] = cleaned['购药日期'].dt.day\n",
    "daily_patient_count = cleaned.groupby('购药日')['社保卡号'].nunique()\n",
    "daily_count_df = daily_patient_count.reset_index()\n",
    "daily_count_df.columns = ['购药日', '购药人数']\n",
    "daily_count_df"
   ]
  },
  {
   "cell_type": "code",
   "execution_count": 35,
   "id": "88057956-8b9d-4ebd-bac9-1d30882627bc",
   "metadata": {},
   "outputs": [
    {
     "data": {
      "image/png": "[encoded data removed]",
      "text/plain": [
       "<Figure size 1200x600 with 1 Axes>"
      ]
     },
     "metadata": {},
     "output_type": "display_data"
    }
   ],
   "source": [
    "plt.figure(figsize=(12, 6))\n",
    "ax = sns.barplot(daily_count_df,x = '购药日',y = '购药人数')\n",
    "for container in ax.containers:\n",
    "    ax.bar_label(container, fmt='%.0f', fontsize=11, padding=3)\n",
    "plt.title('每日购药人数')\n",
    "plt.show()"
   ]
  },
  {
   "cell_type": "markdown",
   "id": "35b67fd6-3005-4a13-97ab-a9c51088fe91",
   "metadata": {},
   "source": [
    "一个月中，出现了三次购药高峰。分别是每月的5日、15日和25日。"
   ]
  },
  {
   "cell_type": "markdown",
   "id": "f2b6cc76-ebf4-4b9e-8634-cc2b9876e2b2",
   "metadata": {},
   "source": [
    "#### 每周购药人数"
   ]
  },
  {
   "cell_type": "code",
   "execution_count": 37,
   "id": "4eac9433-b3ca-4d0b-8aed-8f05f3fe97d8",
   "metadata": {},
   "outputs": [
    {
     "data": {
      "text/plain": [
       "星期\n",
       "星期一    575\n",
       "星期三    595\n",
       "星期二    649\n",
       "星期五    756\n",
       "星期六    669\n",
       "星期四    502\n",
       "星期日    574\n",
       "Name: 社保卡号, dtype: int64"
      ]
     },
     "execution_count": 37,
     "metadata": {},
     "output_type": "execute_result"
    }
   ],
   "source": [
    "weekly_count_df = cleaned.groupby('星期')['社保卡号'].nunique()\n",
    "weekly_count_df"
   ]
  },
  {
   "cell_type": "code",
   "execution_count": 38,
   "id": "d08ccf90-628a-4666-a071-cdd7c0f984b8",
   "metadata": {},
   "outputs": [
    {
     "data": {
      "image/png": "[encoded data removed]",
      "text/plain": [
       "<Figure size 800x500 with 1 Axes>"
      ]
     },
     "metadata": {},
     "output_type": "display_data"
    }
   ],
   "source": [
    "plt.figure(figsize = (8,5))\n",
    "ax = sns.barplot(x = weekly_count_df.index,y =  weekly_count_df.values)\n",
    "for container in ax.containers:\n",
    "    ax.bar_label(container, fmt='%.0f', fontsize=11, padding=3)\n",
    "plt.title('每周购药人数')\n",
    "plt.ylabel('购药人数')\n",
    "plt.show()"
   ]
  },
  {
   "cell_type": "markdown",
   "id": "4dd008ac-6af4-4c91-ba47-3e8f9eba5a35",
   "metadata": {},
   "source": [
    "一周中，星期五购药人数最多，其次是星期六。星期四的购药人数最少。"
   ]
  },
  {
   "cell_type": "markdown",
   "id": "7da5a87e-b455-421a-95c9-e353ba788f67",
   "metadata": {},
   "source": [
    "#### 每月购药人数"
   ]
  },
  {
   "cell_type": "code",
   "execution_count": 39,
   "id": "a73aef96-dd42-4833-a9a3-c908ebcaf325",
   "metadata": {},
   "outputs": [
    {
     "data": {
      "text/html": [
       "<div>\n",
       "<style scoped>\n",
       "    .dataframe tbody tr th:only-of-type {\n",
       "        vertical-align: middle;\n",
       "    }\n",
       "\n",
       "    .dataframe tbody tr th {\n",
       "        vertical-align: top;\n",
       "    }\n",
       "\n",
       "    .dataframe thead th {\n",
       "        text-align: right;\n",
       "    }\n",
       "</style>\n",
       "<table border=\"1\" class=\"dataframe\">\n",
       "  <thead>\n",
       "    <tr style=\"text-align: right;\">\n",
       "      <th></th>\n",
       "      <th>购药月</th>\n",
       "      <th>购药人数</th>\n",
       "    </tr>\n",
       "  </thead>\n",
       "  <tbody>\n",
       "    <tr>\n",
       "      <th>0</th>\n",
       "      <td>1</td>\n",
       "      <td>671</td>\n",
       "    </tr>\n",
       "    <tr>\n",
       "      <th>1</th>\n",
       "      <td>2</td>\n",
       "      <td>526</td>\n",
       "    </tr>\n",
       "    <tr>\n",
       "      <th>2</th>\n",
       "      <td>3</td>\n",
       "      <td>685</td>\n",
       "    </tr>\n",
       "    <tr>\n",
       "      <th>3</th>\n",
       "      <td>4</td>\n",
       "      <td>829</td>\n",
       "    </tr>\n",
       "    <tr>\n",
       "      <th>4</th>\n",
       "      <td>5</td>\n",
       "      <td>635</td>\n",
       "    </tr>\n",
       "    <tr>\n",
       "      <th>5</th>\n",
       "      <td>6</td>\n",
       "      <td>611</td>\n",
       "    </tr>\n",
       "    <tr>\n",
       "      <th>6</th>\n",
       "      <td>7</td>\n",
       "      <td>453</td>\n",
       "    </tr>\n",
       "  </tbody>\n",
       "</table>\n",
       "</div>"
      ],
      "text/plain": [
       "   购药月  购药人数\n",
       "0    1   671\n",
       "1    2   526\n",
       "2    3   685\n",
       "3    4   829\n",
       "4    5   635\n",
       "5    6   611\n",
       "6    7   453"
      ]
     },
     "execution_count": 39,
     "metadata": {},
     "output_type": "execute_result"
    }
   ],
   "source": [
    "cleaned['购药月'] = cleaned['购药日期'].dt.month\n",
    "monthly_patient_count = cleaned.groupby('购药月')['社保卡号'].nunique()\n",
    "monthly_count_df = monthly_patient_count.reset_index()\n",
    "monthly_count_df.columns = ['购药月', '购药人数']\n",
    "monthly_count_df"
   ]
  },
  {
   "cell_type": "code",
   "execution_count": 47,
   "id": "e6e62ec8-1ae9-4458-9e34-2566a3a4f8cb",
   "metadata": {},
   "outputs": [
    {
     "data": {
      "image/png": "[encoded data removed]",
      "text/plain": [
       "<Figure size 800x500 with 1 Axes>"
      ]
     },
     "metadata": {},
     "output_type": "display_data"
    }
   ],
   "source": [
    "plt.figure(figsize = (8,5))\n",
    "ax = sns.barplot(monthly_count_df,x = '购药月',y = '购药人数')\n",
    "for container in ax.containers:\n",
    "    ax.bar_label(container, fmt='%.0f', fontsize=11, padding=3)\n",
    "plt.title('每月购药人数')\n",
    "plt.show()"
   ]
  },
  {
   "cell_type": "markdown",
   "id": "b8cd8dbe-73e7-4722-b491-f2593918f867",
   "metadata": {},
   "source": [
    "2018年1-7月中，4月出现了购药高峰，达829人在该月购药。2月和7月则是购药人数较少的月份。"
   ]
  },
  {
   "cell_type": "markdown",
   "id": "934cdf28-f7e4-43d4-846b-3398dbd593d1",
   "metadata": {},
   "source": [
    "### 每日、每周、每月实付金额统计"
   ]
  },
  {
   "cell_type": "markdown",
   "id": "dfef77c6-a8fe-4345-bef0-908e9473b639",
   "metadata": {},
   "source": [
    "#### 每日实付金额"
   ]
  },
  {
   "cell_type": "code",
   "execution_count": 52,
   "id": "c77267df-2a69-4509-b126-8ebe22bc6236",
   "metadata": {},
   "outputs": [
    {
     "data": {
      "image/png": "[encoded data removed]",
      "text/plain": [
       "<Figure size 1200x600 with 1 Axes>"
      ]
     },
     "metadata": {},
     "output_type": "display_data"
    }
   ],
   "source": [
    "daily_paid = cleaned.groupby('购药日')['实收金额'].sum()\n",
    "daily_paid_df = daily_paid.reset_index()\n",
    "daily_paid_df.columns = ['购药日','实收金额']\n",
    "plt.figure(figsize = (12,6))\n",
    "ax = sns.barplot(daily_paid_df,x = '购药日',y = '实收金额')\n",
    "for container in ax.containers:\n",
    "    ax.bar_label(container, fmt='%.0f', fontsize=11, padding=3)\n",
    "plt.title('每日实收金额')\n",
    "plt.show()"
   ]
  },
  {
   "cell_type": "markdown",
   "id": "1a56fc06-0a66-43b0-9cb2-bdcfdc07abe5",
   "metadata": {},
   "source": [
    "每月的5号、15号、25号实收金额最高。与购药人数和药品销售数的规律基本一致。"
   ]
  },
  {
   "cell_type": "markdown",
   "id": "a7f06f96-dc6d-469e-a675-3ff2cfb6ba76",
   "metadata": {},
   "source": [
    "#### 每周实收金额"
   ]
  },
  {
   "cell_type": "code",
   "execution_count": 54,
   "id": "fa41fe15-bec7-411d-897d-559450edbbb1",
   "metadata": {},
   "outputs": [
    {
     "data": {
      "text/html": [
       "<div>\n",
       "<style scoped>\n",
       "    .dataframe tbody tr th:only-of-type {\n",
       "        vertical-align: middle;\n",
       "    }\n",
       "\n",
       "    .dataframe tbody tr th {\n",
       "        vertical-align: top;\n",
       "    }\n",
       "\n",
       "    .dataframe thead th {\n",
       "        text-align: right;\n",
       "    }\n",
       "</style>\n",
       "<table border=\"1\" class=\"dataframe\">\n",
       "  <thead>\n",
       "    <tr style=\"text-align: right;\">\n",
       "      <th></th>\n",
       "      <th>星期</th>\n",
       "      <th>实收金额</th>\n",
       "    </tr>\n",
       "  </thead>\n",
       "  <tbody>\n",
       "    <tr>\n",
       "      <th>0</th>\n",
       "      <td>星期一</td>\n",
       "      <td>40375.09</td>\n",
       "    </tr>\n",
       "    <tr>\n",
       "      <th>1</th>\n",
       "      <td>星期三</td>\n",
       "      <td>39157.64</td>\n",
       "    </tr>\n",
       "    <tr>\n",
       "      <th>2</th>\n",
       "      <td>星期二</td>\n",
       "      <td>44723.36</td>\n",
       "    </tr>\n",
       "    <tr>\n",
       "      <th>3</th>\n",
       "      <td>星期五</td>\n",
       "      <td>49817.87</td>\n",
       "    </tr>\n",
       "    <tr>\n",
       "      <th>4</th>\n",
       "      <td>星期六</td>\n",
       "      <td>48208.33</td>\n",
       "    </tr>\n",
       "    <tr>\n",
       "      <th>5</th>\n",
       "      <td>星期四</td>\n",
       "      <td>40393.88</td>\n",
       "    </tr>\n",
       "    <tr>\n",
       "      <th>6</th>\n",
       "      <td>星期日</td>\n",
       "      <td>43685.63</td>\n",
       "    </tr>\n",
       "  </tbody>\n",
       "</table>\n",
       "</div>"
      ],
      "text/plain": [
       "    星期      实收金额\n",
       "0  星期一  40375.09\n",
       "1  星期三  39157.64\n",
       "2  星期二  44723.36\n",
       "3  星期五  49817.87\n",
       "4  星期六  48208.33\n",
       "5  星期四  40393.88\n",
       "6  星期日  43685.63"
      ]
     },
     "execution_count": 54,
     "metadata": {},
     "output_type": "execute_result"
    }
   ],
   "source": [
    "weekly_paid = cleaned.groupby('星期')['实收金额'].sum()\n",
    "weekly_paid_df = weekly_paid.reset_index()\n",
    "weekly_paid_df"
   ]
  },
  {
   "cell_type": "code",
   "execution_count": 56,
   "id": "bad4ad00-81d4-45a1-a494-25a1bce0e49e",
   "metadata": {},
   "outputs": [
    {
     "data": {
      "image/png": "[encoded data removed]",
      "text/plain": [
       "<Figure size 800x500 with 1 Axes>"
      ]
     },
     "metadata": {},
     "output_type": "display_data"
    }
   ],
   "source": [
    "plt.figure(figsize = (8,5))\n",
    "ax = sns.barplot(weekly_paid_df,x = '星期',y = '实收金额')\n",
    "for container in ax.containers:\n",
    "    ax.bar_label(container, fmt='%.0f', fontsize=11, padding=3)\n",
    "plt.title('每周实收金额')\n",
    "plt.show()"
   ]
  },
  {
   "cell_type": "markdown",
   "id": "7e6e44e2-dc1d-479e-a067-c24b393add8c",
   "metadata": {},
   "source": [
    "周五药品实收金额最高，周三最低。"
   ]
  },
  {
   "cell_type": "markdown",
   "id": "53b4abc9-fa6b-4080-bfca-49d849f8aef5",
   "metadata": {},
   "source": [
    "#### 每月实收金额"
   ]
  },
  {
   "cell_type": "code",
   "execution_count": 61,
   "id": "a09272a7-40a3-491b-9a8e-c630b3ace879",
   "metadata": {},
   "outputs": [
    {
     "data": {
      "image/png": "[encoded data removed]",
      "text/plain": [
       "<Figure size 800x500 with 1 Axes>"
      ]
     },
     "metadata": {},
     "output_type": "display_data"
    }
   ],
   "source": [
    "monthly_paid = cleaned.groupby('购药月')['实收金额'].sum()\n",
    "monthly_paid_df = monthly_paid.reset_index()\n",
    "monthly_paid_df.columns = ['购药月','实收金额']\n",
    "plt.figure(figsize = (8,5))\n",
    "ax = sns.barplot(monthly_paid_df,x = '购药月',y = '实收金额')\n",
    "for container in ax.containers:\n",
    "    ax.bar_label(container, fmt='%.0f', fontsize=11, padding=3)\n",
    "plt.title('每月实收金额')\n",
    "plt.show()"
   ]
  },
  {
   "cell_type": "markdown",
   "id": "1c020f36-1d94-4d99-991a-77753056dff6",
   "metadata": {},
   "source": [
    "一月实收金额最高，其次是四月。七月实收金额最低。"
   ]
  },
  {
   "cell_type": "markdown",
   "id": "7275b9e9-8a39-4c5d-a4f8-a3b82f920525",
   "metadata": {},
   "source": [
    "#### 药品销量前十榜单"
   ]
  },
  {
   "cell_type": "code",
   "execution_count": 25,
   "id": "2d8bc41c-3e87-49fe-a8ae-3d57e332b950",
   "metadata": {},
   "outputs": [
    {
     "data": {
      "text/plain": [
       "商品名称\n",
       "**盐酸阿罗洛尔片(阿尔马尔)    101\n",
       "**阿替洛尔片             17\n",
       "D厄贝沙坦氢氯噻嗪片(倍悦)       2\n",
       "D替格瑞洛片              10\n",
       "D盐酸贝尼地平片            33\n",
       "                  ... \n",
       "非洛地平缓释片(康宝得维)       99\n",
       "非洛地平缓释片(波依定)       379\n",
       "马来酸依那普利片(怡那林)       28\n",
       "马来酸左旋氨氯地平片(玄宁)      43\n",
       "高特灵                376\n",
       "Name: 销售数量, Length: 78, dtype: int64"
      ]
     },
     "execution_count": 25,
     "metadata": {},
     "output_type": "execute_result"
    }
   ],
   "source": [
    "df_1 = cleaned.groupby('商品名称')['销售数量'].sum()\n",
    "df_1"
   ]
  },
  {
   "cell_type": "code",
   "execution_count": 26,
   "id": "94fc4dc5-7356-4f48-9bdd-44aba4548bbc",
   "metadata": {},
   "outputs": [
    {
     "data": {
      "image/png": "[encoded data removed]",
      "text/plain": [
       "<Figure size 1000x600 with 1 Axes>"
      ]
     },
     "metadata": {},
     "output_type": "display_data"
    }
   ],
   "source": [
    "top_10_drugs = df_1.sort_values(ascending=False).head(10)\n",
    "plt.figure(figsize=(10, 6))\n",
    "ax = sns.barplot(x=top_10_drugs.values,y=top_10_drugs.index)\n",
    "for container in ax.containers:\n",
    "    ax.bar_label(container, fmt='%.0f', fontsize=11, padding=3)\n",
    "plt.title('药品销量前十榜单', fontsize=16, pad=20)\n",
    "plt.show()"
   ]
  },
  {
   "cell_type": "markdown",
   "id": "215a4236-9874-47d8-8c25-194d6a98a820",
   "metadata": {},
   "source": [
    "#### 药品销售额前十榜单"
   ]
  },
  {
   "cell_type": "code",
   "execution_count": 27,
   "id": "ac485d75-eb10-4abe-8ff5-724f1d902fc6",
   "metadata": {},
   "outputs": [
    {
     "data": {
      "text/html": [
       "<div>\n",
       "<style scoped>\n",
       "    .dataframe tbody tr th:only-of-type {\n",
       "        vertical-align: middle;\n",
       "    }\n",
       "\n",
       "    .dataframe tbody tr th {\n",
       "        vertical-align: top;\n",
       "    }\n",
       "\n",
       "    .dataframe thead th {\n",
       "        text-align: right;\n",
       "    }\n",
       "</style>\n",
       "<table border=\"1\" class=\"dataframe\">\n",
       "  <thead>\n",
       "    <tr style=\"text-align: right;\">\n",
       "      <th></th>\n",
       "      <th>社保卡号</th>\n",
       "      <th>商品编码</th>\n",
       "      <th>商品名称</th>\n",
       "      <th>销售数量</th>\n",
       "      <th>应收金额</th>\n",
       "      <th>实收金额</th>\n",
       "      <th>购药日期</th>\n",
       "      <th>星期</th>\n",
       "      <th>购药日</th>\n",
       "      <th>购药月</th>\n",
       "      <th>实际销售额</th>\n",
       "    </tr>\n",
       "  </thead>\n",
       "  <tbody>\n",
       "    <tr>\n",
       "      <th>0</th>\n",
       "      <td>1616528.0</td>\n",
       "      <td>236701.0</td>\n",
       "      <td>强力VC银翘片</td>\n",
       "      <td>6</td>\n",
       "      <td>82.8</td>\n",
       "      <td>69.00</td>\n",
       "      <td>2016-01-01</td>\n",
       "      <td>星期五</td>\n",
       "      <td>1</td>\n",
       "      <td>1</td>\n",
       "      <td>414.00</td>\n",
       "    </tr>\n",
       "    <tr>\n",
       "      <th>1</th>\n",
       "      <td>1616528.0</td>\n",
       "      <td>236701.0</td>\n",
       "      <td>清热解毒口服液</td>\n",
       "      <td>1</td>\n",
       "      <td>28.0</td>\n",
       "      <td>24.64</td>\n",
       "      <td>2016-01-02</td>\n",
       "      <td>星期六</td>\n",
       "      <td>2</td>\n",
       "      <td>1</td>\n",
       "      <td>24.64</td>\n",
       "    </tr>\n",
       "    <tr>\n",
       "      <th>2</th>\n",
       "      <td>12602828.0</td>\n",
       "      <td>236701.0</td>\n",
       "      <td>感康</td>\n",
       "      <td>2</td>\n",
       "      <td>16.8</td>\n",
       "      <td>15.00</td>\n",
       "      <td>2016-01-06</td>\n",
       "      <td>星期三</td>\n",
       "      <td>6</td>\n",
       "      <td>1</td>\n",
       "      <td>30.00</td>\n",
       "    </tr>\n",
       "    <tr>\n",
       "      <th>3</th>\n",
       "      <td>10070343428.0</td>\n",
       "      <td>236701.0</td>\n",
       "      <td>三九感冒灵</td>\n",
       "      <td>1</td>\n",
       "      <td>28.0</td>\n",
       "      <td>28.00</td>\n",
       "      <td>2016-01-11</td>\n",
       "      <td>星期一</td>\n",
       "      <td>11</td>\n",
       "      <td>1</td>\n",
       "      <td>28.00</td>\n",
       "    </tr>\n",
       "    <tr>\n",
       "      <th>4</th>\n",
       "      <td>101554328.0</td>\n",
       "      <td>236701.0</td>\n",
       "      <td>三九感冒灵</td>\n",
       "      <td>8</td>\n",
       "      <td>224.0</td>\n",
       "      <td>208.00</td>\n",
       "      <td>2016-01-15</td>\n",
       "      <td>星期五</td>\n",
       "      <td>15</td>\n",
       "      <td>1</td>\n",
       "      <td>1664.00</td>\n",
       "    </tr>\n",
       "  </tbody>\n",
       "</table>\n",
       "</div>"
      ],
      "text/plain": [
       "            社保卡号      商品编码     商品名称  销售数量   应收金额    实收金额       购药日期   星期  购药日  \\\n",
       "0      1616528.0  236701.0  强力VC银翘片     6   82.8   69.00 2016-01-01  星期五    1   \n",
       "1      1616528.0  236701.0  清热解毒口服液     1   28.0   24.64 2016-01-02  星期六    2   \n",
       "2     12602828.0  236701.0       感康     2   16.8   15.00 2016-01-06  星期三    6   \n",
       "3  10070343428.0  236701.0    三九感冒灵     1   28.0   28.00 2016-01-11  星期一   11   \n",
       "4    101554328.0  236701.0    三九感冒灵     8  224.0  208.00 2016-01-15  星期五   15   \n",
       "\n",
       "   购药月    实际销售额  \n",
       "0    1   414.00  \n",
       "1    1    24.64  \n",
       "2    1    30.00  \n",
       "3    1    28.00  \n",
       "4    1  1664.00  "
      ]
     },
     "execution_count": 27,
     "metadata": {},
     "output_type": "execute_result"
    }
   ],
   "source": [
    "cleaned['实际销售额'] = cleaned['实收金额']*cleaned['销售数量']\n",
    "cleaned.head()"
   ]
  },
  {
   "cell_type": "code",
   "execution_count": 28,
   "id": "59d448e9-1f2c-4b97-8c77-b425a551f223",
   "metadata": {},
   "outputs": [
    {
     "data": {
      "text/plain": [
       "商品名称\n",
       "**盐酸阿罗洛尔片(阿尔马尔)    28686.80\n",
       "**阿替洛尔片              204.30\n",
       "D厄贝沙坦氢氯噻嗪片(倍悦)       264.40\n",
       "D替格瑞洛片             18200.00\n",
       "D盐酸贝尼地平片           16310.68\n",
       "                     ...   \n",
       "非洛地平缓释片(康宝得维)       3591.36\n",
       "非洛地平缓释片(波依定)       47845.64\n",
       "马来酸依那普利片(怡那林)        694.00\n",
       "马来酸左旋氨氯地平片(玄宁)      3513.66\n",
       "高特灵                15093.05\n",
       "Name: 实际销售额, Length: 78, dtype: float64"
      ]
     },
     "execution_count": 28,
     "metadata": {},
     "output_type": "execute_result"
    }
   ],
   "source": [
    "df_2 = cleaned.groupby('商品名称')['实际销售额'].sum()\n",
    "df_2"
   ]
  },
  {
   "cell_type": "code",
   "execution_count": 29,
   "id": "dd614b7f-9528-4a4a-bd3f-5dc8b41a10d3",
   "metadata": {},
   "outputs": [
    {
     "data": {
      "image/png": "[encoded data removed]",
      "text/plain": [
       "<Figure size 1200x600 with 1 Axes>"
      ]
     },
     "metadata": {},
     "output_type": "display_data"
    }
   ],
   "source": [
    "top_10_price = df_2.sort_values(ascending=False).head(10)\n",
    "plt.figure(figsize=(12, 6))\n",
    "ax = sns.barplot(x=top_10_price.values,y=top_10_price.index)\n",
    "for container in ax.containers:\n",
    "    ax.bar_label(container, fmt='%.0f', fontsize=11, padding=3)\n",
    "plt.title('药品销售额前十榜单', fontsize=16, pad=20)\n",
    "plt.show()"
   ]
  },
  {
   "cell_type": "markdown",
   "id": "32c7bdcc-3925-4f1f-b5a9-a0d49a048f66",
   "metadata": {},
   "source": [
    "#### 折扣力度最强药品前十榜单"
   ]
  },
  {
   "cell_type": "code",
   "execution_count": 30,
   "id": "295c6ca2-5b13-4331-b0ee-b9d83bc717ee",
   "metadata": {},
   "outputs": [
    {
     "data": {
      "text/html": [
       "<div>\n",
       "<style scoped>\n",
       "    .dataframe tbody tr th:only-of-type {\n",
       "        vertical-align: middle;\n",
       "    }\n",
       "\n",
       "    .dataframe tbody tr th {\n",
       "        vertical-align: top;\n",
       "    }\n",
       "\n",
       "    .dataframe thead th {\n",
       "        text-align: right;\n",
       "    }\n",
       "</style>\n",
       "<table border=\"1\" class=\"dataframe\">\n",
       "  <thead>\n",
       "    <tr style=\"text-align: right;\">\n",
       "      <th></th>\n",
       "      <th>社保卡号</th>\n",
       "      <th>商品编码</th>\n",
       "      <th>商品名称</th>\n",
       "      <th>销售数量</th>\n",
       "      <th>应收金额</th>\n",
       "      <th>实收金额</th>\n",
       "      <th>购药日期</th>\n",
       "      <th>星期</th>\n",
       "      <th>购药日</th>\n",
       "      <th>购药月</th>\n",
       "      <th>实际销售额</th>\n",
       "      <th>discount</th>\n",
       "    </tr>\n",
       "  </thead>\n",
       "  <tbody>\n",
       "    <tr>\n",
       "      <th>0</th>\n",
       "      <td>1616528.0</td>\n",
       "      <td>236701.0</td>\n",
       "      <td>强力VC银翘片</td>\n",
       "      <td>6</td>\n",
       "      <td>82.8</td>\n",
       "      <td>69.00</td>\n",
       "      <td>2016-01-01</td>\n",
       "      <td>星期五</td>\n",
       "      <td>1</td>\n",
       "      <td>1</td>\n",
       "      <td>414.00</td>\n",
       "      <td>0.833333</td>\n",
       "    </tr>\n",
       "    <tr>\n",
       "      <th>1</th>\n",
       "      <td>1616528.0</td>\n",
       "      <td>236701.0</td>\n",
       "      <td>清热解毒口服液</td>\n",
       "      <td>1</td>\n",
       "      <td>28.0</td>\n",
       "      <td>24.64</td>\n",
       "      <td>2016-01-02</td>\n",
       "      <td>星期六</td>\n",
       "      <td>2</td>\n",
       "      <td>1</td>\n",
       "      <td>24.64</td>\n",
       "      <td>0.880000</td>\n",
       "    </tr>\n",
       "    <tr>\n",
       "      <th>2</th>\n",
       "      <td>12602828.0</td>\n",
       "      <td>236701.0</td>\n",
       "      <td>感康</td>\n",
       "      <td>2</td>\n",
       "      <td>16.8</td>\n",
       "      <td>15.00</td>\n",
       "      <td>2016-01-06</td>\n",
       "      <td>星期三</td>\n",
       "      <td>6</td>\n",
       "      <td>1</td>\n",
       "      <td>30.00</td>\n",
       "      <td>0.892857</td>\n",
       "    </tr>\n",
       "    <tr>\n",
       "      <th>3</th>\n",
       "      <td>10070343428.0</td>\n",
       "      <td>236701.0</td>\n",
       "      <td>三九感冒灵</td>\n",
       "      <td>1</td>\n",
       "      <td>28.0</td>\n",
       "      <td>28.00</td>\n",
       "      <td>2016-01-11</td>\n",
       "      <td>星期一</td>\n",
       "      <td>11</td>\n",
       "      <td>1</td>\n",
       "      <td>28.00</td>\n",
       "      <td>1.000000</td>\n",
       "    </tr>\n",
       "    <tr>\n",
       "      <th>4</th>\n",
       "      <td>101554328.0</td>\n",
       "      <td>236701.0</td>\n",
       "      <td>三九感冒灵</td>\n",
       "      <td>8</td>\n",
       "      <td>224.0</td>\n",
       "      <td>208.00</td>\n",
       "      <td>2016-01-15</td>\n",
       "      <td>星期五</td>\n",
       "      <td>15</td>\n",
       "      <td>1</td>\n",
       "      <td>1664.00</td>\n",
       "      <td>0.928571</td>\n",
       "    </tr>\n",
       "  </tbody>\n",
       "</table>\n",
       "</div>"
      ],
      "text/plain": [
       "            社保卡号      商品编码     商品名称  销售数量   应收金额    实收金额       购药日期   星期  购药日  \\\n",
       "0      1616528.0  236701.0  强力VC银翘片     6   82.8   69.00 2016-01-01  星期五    1   \n",
       "1      1616528.0  236701.0  清热解毒口服液     1   28.0   24.64 2016-01-02  星期六    2   \n",
       "2     12602828.0  236701.0       感康     2   16.8   15.00 2016-01-06  星期三    6   \n",
       "3  10070343428.0  236701.0    三九感冒灵     1   28.0   28.00 2016-01-11  星期一   11   \n",
       "4    101554328.0  236701.0    三九感冒灵     8  224.0  208.00 2016-01-15  星期五   15   \n",
       "\n",
       "   购药月    实际销售额  discount  \n",
       "0    1   414.00  0.833333  \n",
       "1    1    24.64  0.880000  \n",
       "2    1    30.00  0.892857  \n",
       "3    1    28.00  1.000000  \n",
       "4    1  1664.00  0.928571  "
      ]
     },
     "execution_count": 30,
     "metadata": {},
     "output_type": "execute_result"
    }
   ],
   "source": [
    "cleaned['discount'] = cleaned['实收金额']/cleaned['应收金额']\n",
    "cleaned.head()"
   ]
  },
  {
   "cell_type": "code",
   "execution_count": 31,
   "id": "b2917c8b-8de9-4ab1-91d9-e06311a7da6d",
   "metadata": {},
   "outputs": [
    {
     "data": {
      "text/plain": [
       "商品名称\n",
       "D替格瑞洛片              0.728000\n",
       "苯磺酸氨氯地平片(兰迪)        0.781566\n",
       "苯磺酸氨氯地平片(安内真)       0.840600\n",
       "硝苯地平控释片(欣然)         0.842557\n",
       "G厄贝沙坦分散片(6盒/疗程)     0.853333\n",
       "硝苯地平片(心痛定)          0.862257\n",
       "D苯磺酸氨氯地平胶囊(丽珠优可)    0.880000\n",
       "尼群地平片               0.881313\n",
       "氨加黄敏胶囊              0.885961\n",
       "醒脑降压丸               0.886357\n",
       "Name: discount, dtype: float64"
      ]
     },
     "execution_count": 31,
     "metadata": {},
     "output_type": "execute_result"
    }
   ],
   "source": [
    "discount_by_drug = cleaned.groupby('商品名称')['discount'].mean().sort_values()\n",
    "top10_discount = discount_by_drug.head(10)\n",
    "top10_discount"
   ]
  },
  {
   "cell_type": "code",
   "execution_count": 63,
   "id": "53d6702e-2225-4ed8-b390-f12e69bbbd5c",
   "metadata": {},
   "outputs": [
    {
     "data": {
      "image/png": "[encoded data removed]",
      "text/plain": [
       "<Figure size 800x600 with 1 Axes>"
      ]
     },
     "metadata": {},
     "output_type": "display_data"
    }
   ],
   "source": [
    "plt.figure(figsize=(8, 6))\n",
    "ax = sns.barplot(x=top10_discount.values,y=top10_discount.index)\n",
    "for container in ax.containers:\n",
    "    ax.bar_label(container, fmt='%.3f', fontsize=11, padding=3)\n",
    "plt.title('药品折扣前十榜单', fontsize=16, pad=20)\n",
    "plt.xlabel('折扣率')\n",
    "plt.xlim(left=0.6)\n",
    "plt.show()"
   ]
  },
  {
   "cell_type": "markdown",
   "id": "a3acf49d-ef0f-4f5d-a6ae-64ebb88b45c6",
   "metadata": {},
   "source": [
    "根据上述三个图表可以得出以下结论：\n",
    "- 颉沙坦胶囊在药品销量榜排名第七，但由于其价格较贵，在销售额榜单中位列第一。\n",
    "- 安内真销量最高，但是单价较低，在销售额榜单上排名第六。且其折扣力度在所有药品中排名第三。\n",
    "- D替格瑞洛片和兰迪曾打下很低的折扣率。可能由于其销量和销售额都表现一般的原因。\n",
    "- 开博通销量和销售额均位列第二，属于畅销药品。"
   ]
  }
 ],
 "metadata": {
  "kernelspec": {
   "display_name": "Python 3 (ipykernel)",
   "language": "python",
   "name": "python3"
  },
  "language_info": {
   "codemirror_mode": {
    "name": "ipython",
    "version": 3
   },
   "file_extension": ".py",
   "mimetype": "text/x-python",
   "name": "python",
   "nbconvert_exporter": "python",
   "pygments_lexer": "ipython3",
   "version": "3.13.3"
  }
 },
 "nbformat": 4,
 "nbformat_minor": 5
}
